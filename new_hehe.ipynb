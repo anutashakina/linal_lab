{
 "cells": [
  {
   "cell_type": "code",
   "id": "initial_id",
   "metadata": {
    "collapsed": true,
    "ExecuteTime": {
     "end_time": "2025-04-19T17:50:59.769658Z",
     "start_time": "2025-04-19T17:50:59.758399Z"
    }
   },
   "source": [
    "from matrix import *\n",
    "import math as m\n",
    "from typing import List"
   ],
   "outputs": [],
   "execution_count": 2
  },
  {
   "metadata": {},
   "cell_type": "markdown",
   "source": "# Easy 1: Метод Гаусса",
   "id": "5cfffe357af353fe"
  },
  {
   "metadata": {
    "ExecuteTime": {
     "end_time": "2025-04-19T17:50:59.873673Z",
     "start_time": "2025-04-19T17:50:59.860887Z"
    }
   },
   "cell_type": "code",
   "source": [
    "def  gauss_solver(A: Matrix, b: Matrix, tol: float = 1e-5) -> List[Matrix]:\n",
    "    if A.rows != b.rows or b.columns != 1:\n",
    "        raise ValueError(\"Размеры A и b не согласованы\")\n",
    "\n",
    "    n, m = A.rows, A.columns\n",
    "    # преобразуем в плотный формат\n",
    "    classic_A = get_classic_format(A)\n",
    "    classic_b = get_classic_format(b)\n",
    "\n",
    "    Ab = [row.copy() + [classic_b[i][0]] for i, row in enumerate(classic_A)]\n",
    "\n",
    "    rank = 0\n",
    "    # Прямой ход Гаусса\n",
    "    for col in range(m):\n",
    "        max_row = rank\n",
    "        for row in range(rank + 1, n):\n",
    "            if abs(Ab[row][col]) > abs(Ab[max_row][col]):\n",
    "                max_row = row\n",
    "\n",
    "        # Если максимальный элемент равен нулю, скипаем столбец\n",
    "        if abs(Ab[max_row][col]) < tol:\n",
    "            continue\n",
    "\n",
    "        # Меняем строки местами\n",
    "        Ab[rank], Ab[max_row] = Ab[max_row], Ab[rank]\n",
    "\n",
    "        # Нормализация строки\n",
    "        pivot = Ab[rank][col]\n",
    "        for j in range(col, m + 1):\n",
    "            Ab[rank][j] /= pivot\n",
    "\n",
    "        # Исключаем переменную из других строк\n",
    "        for i in range(n):\n",
    "            if i != rank and abs(Ab[i][col]) > tol:\n",
    "                factor = Ab[i][col]\n",
    "                for j in range(col, m + 1):\n",
    "                    Ab[i][j] -= factor * Ab[rank][j]\n",
    "\n",
    "        rank += 1\n",
    "        if rank == n:\n",
    "            break\n",
    "\n",
    "    # Проверяем совместность\n",
    "    for i in range(rank, n):\n",
    "        if abs(Ab[i][m]) > tol:\n",
    "            raise ValueError(\"Система несовместна\")\n",
    "\n",
    "    # Обратный ход Гаусса\n",
    "    solutions = []\n",
    "    free_vars = []\n",
    "    lead_vars = [-1] * m\n",
    "\n",
    "    # Определяем свободные переменные\n",
    "    for i in range(rank):\n",
    "        for j in range(m):\n",
    "            if abs(Ab[i][j]) > tol:\n",
    "                lead_vars[j] = i\n",
    "                break\n",
    "\n",
    "    for j in range(m):\n",
    "        if lead_vars[j] == -1:\n",
    "            free_vars.append(j)\n",
    "\n",
    "    # Если свободных нет - единственное решение\n",
    "    if not free_vars:\n",
    "        solution = [[0.0] for _ in range(m)]\n",
    "        for i in range(rank):\n",
    "            for j in range(m):\n",
    "                if abs(Ab[i][j]) > tol:\n",
    "                    solution[j][0] = Ab[i][m]\n",
    "                    break\n",
    "\n",
    "        sol = [(i, 0, solution[i][0]) for i in range(m) if abs(solution[i][0]) > tol]\n",
    "        return [Matrix(m, 1, sol)]\n",
    "\n",
    "    # Если свободные есть - строим базис\n",
    "    for free in free_vars:\n",
    "        vec = [[0.0] for _ in range(m)]\n",
    "        vec[free] = 1.0\n",
    "\n",
    "        for i in range(rank):\n",
    "            for j in range(m):\n",
    "                if abs(Ab[i][j]) > tol:\n",
    "                    sum_ax = 0.0\n",
    "                    for k in range(j + 1, m):\n",
    "                        sum_ax += Ab[i][k] * vec[k][0]\n",
    "                    vec[j][0] = Ab[i][m] - sum_ax\n",
    "                    break\n",
    "\n",
    "        basis = [(i, 0, vec[i][0]) for i in range(m) if abs(vec[i][0]) > tol]\n",
    "        solutions.append(Matrix(m, 1, basis))\n",
    "\n",
    "    return solutions"
   ],
   "id": "2dea3f4626f181e4",
   "outputs": [],
   "execution_count": 3
  },
  {
   "metadata": {
    "ExecuteTime": {
     "end_time": "2025-04-19T17:50:59.913548Z",
     "start_time": "2025-04-19T17:50:59.905916Z"
    }
   },
   "cell_type": "code",
   "source": [
    "# Пример системы уравнений:\n",
    "# 1x + 2y = 5\n",
    "# 3x + 4y = 11\n",
    "\n",
    "A = Matrix(2, 2, [\n",
    "    (0, 0, 1),  # 1 строка, 1 столбец = 1\n",
    "    (0, 1, 2),  # 1 строка, 2 столбец = 2\n",
    "    (1, 0, 3),  # 2 строка, 1 столбец = 3\n",
    "    (1, 1, 4)   # 2 строка, 2 столбец = 4\n",
    "])\n",
    "b = Matrix(2, 1, [(0, 0, 5), (1, 0, 11)])\n",
    "\n",
    "solutions = gauss_solver(A, b)\n",
    "if len(solutions) == 1:\n",
    "    print(\"Единственное решение:\")\n",
    "    print(solutions[0])\n",
    "else:\n",
    "    print(f\"Бесконечно много решений. Базис ФСР (размерность {len(solutions)}):\")\n",
    "    for i, sol in enumerate(solutions):\n",
    "        print(f\"Решение {i+1}:\")\n",
    "        print(sol)"
   ],
   "id": "4a5c374626907803",
   "outputs": [
    {
     "name": "stdout",
     "output_type": "stream",
     "text": [
      "Единственное решение:\n",
      "1.0\n",
      "2.0\n"
     ]
    }
   ],
   "execution_count": 4
  },
  {
   "metadata": {},
   "cell_type": "markdown",
   "source": [
    "# Easy 2: Центрирование данных\n",
    "$$ X_{centered} = X - X_{mean} $$"
   ],
   "id": "e1faa5d89253234"
  },
  {
   "metadata": {
    "ExecuteTime": {
     "end_time": "2025-04-19T17:52:34.453657Z",
     "start_time": "2025-04-19T17:52:34.446139Z"
    }
   },
   "cell_type": "code",
   "source": [
    "def get_means(X: Matrix) -> List[float]:\n",
    "    rows = X.rows\n",
    "    cols = X.columns\n",
    "\n",
    "    means = [0.0] * cols\n",
    "    counts = [0] * cols\n",
    "\n",
    "    for col in range(1, cols + 1):\n",
    "        for row in range(1, rows + 1):\n",
    "            val = X.get(row, col)\n",
    "            if val is not None and abs(val) > 1e-10:  # Учитываем только ненулевые\n",
    "                means[col-1] += val\n",
    "                counts[col-1] += 1\n",
    "\n",
    "    return [m/c if c > 0 else 0.0 for m, c in zip(means, counts)]\n",
    "\n",
    "def center_data(X: Matrix) -> Matrix:\n",
    "    means = get_means(X)\n",
    "    centered_data = []\n",
    "    for row in range(1, X.rows + 1):\n",
    "        for col in range(1, X.columns + 1):\n",
    "            val = X.get(row, col)\n",
    "            if val is not None:\n",
    "                centered_val = val - means[col-1]\n",
    "                if abs(centered_val) > 1e-10:  # Записываем только ненулевые\n",
    "                    centered_data.append((row-1, col-1, centered_val))\n",
    "\n",
    "    return Matrix(X.rows, X.columns, centered_data)"
   ],
   "id": "be372d40e9288611",
   "outputs": [],
   "execution_count": 9
  },
  {
   "metadata": {
    "ExecuteTime": {
     "end_time": "2025-04-19T17:52:42.377965Z",
     "start_time": "2025-04-19T17:52:42.371558Z"
    }
   },
   "cell_type": "code",
   "source": [
    "data = [\n",
    "    (0, 0, 1.0), (0, 1, 2.0),\n",
    "    (1, 0, 3.0), (1, 2, 4.0)\n",
    "]\n",
    "X = Matrix(2, 3, data)\n",
    "\n",
    "means = get_means(X)\n",
    "print(means)\n",
    "X_centered = center_data(X)\n",
    "print(X_centered)"
   ],
   "id": "485e32c3b733ad37",
   "outputs": [
    {
     "name": "stdout",
     "output_type": "stream",
     "text": [
      "[2.0, 2.0, 4.0]\n",
      "-1.0 0 -4.0\n",
      "1.0 -2.0 0\n"
     ]
    }
   ],
   "execution_count": 11
  },
  {
   "metadata": {},
   "cell_type": "markdown",
   "source": [
    "# Easy 3: матрица ковариаций\n",
    "$$ C = \\frac{1}{n-1}X^TX $$"
   ],
   "id": "f65d5a13cd5005e5"
  },
  {
   "metadata": {
    "ExecuteTime": {
     "end_time": "2025-04-19T17:52:45.331515Z",
     "start_time": "2025-04-19T17:52:45.327586Z"
    }
   },
   "cell_type": "code",
   "source": [
    "def covariance_matrix(X_centered: Matrix) -> Matrix:\n",
    "    n = X_centered.rows\n",
    "    X_T = transpose(X_centered)\n",
    "    scalar = 1 / (n - 1) if n > 1 else 1.0\n",
    "\n",
    "    XTX = multiply(X_T, X_centered)\n",
    "    cov_matrix = scalar_multiply(XTX, scalar)\n",
    "    return cov_matrix"
   ],
   "id": "6d33b20ff67c81cb",
   "outputs": [],
   "execution_count": 12
  },
  {
   "metadata": {
    "ExecuteTime": {
     "end_time": "2025-04-19T17:52:45.977689Z",
     "start_time": "2025-04-19T17:52:45.972630Z"
    }
   },
   "cell_type": "code",
   "source": "print(covariance_matrix(X_centered))",
   "id": "c2651eb3efbe6391",
   "outputs": [
    {
     "name": "stdout",
     "output_type": "stream",
     "text": [
      "1.0 0 4.0\n",
      "1.0 -2.0 0\n",
      "-2.0 4.0 0\n"
     ]
    }
   ],
   "execution_count": 13
  },
  {
   "metadata": {
    "ExecuteTime": {
     "end_time": "2025-04-19T17:51:00.186858Z",
     "start_time": "2025-04-19T17:51:00.184075Z"
    }
   },
   "cell_type": "code",
   "source": "",
   "id": "68bc4a5377b3f503",
   "outputs": [],
   "execution_count": null
  }
 ],
 "metadata": {
  "kernelspec": {
   "display_name": "Python 3",
   "language": "python",
   "name": "python3"
  },
  "language_info": {
   "codemirror_mode": {
    "name": "ipython",
    "version": 2
   },
   "file_extension": ".py",
   "mimetype": "text/x-python",
   "name": "python",
   "nbconvert_exporter": "python",
   "pygments_lexer": "ipython2",
   "version": "2.7.6"
  }
 },
 "nbformat": 4,
 "nbformat_minor": 5
}
