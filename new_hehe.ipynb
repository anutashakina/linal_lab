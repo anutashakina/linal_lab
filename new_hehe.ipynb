{
  "cells": [
    {
      "cell_type": "code",
      "id": "initial_id",
      "metadata": {
        "collapsed": true,
        "ExecuteTime": {
          "end_time": "2025-04-21T22:06:43.962274Z",
          "start_time": "2025-04-21T22:06:43.956138Z"
        },
        "id": "initial_id"
      },
      "source": [
        "from matrix import *\n",
        "import numpy as np\n",
        "import math\n",
        "import random\n",
        "from typing import List, Tuple\n",
        "random.seed(57)\n",
        "\n",
        "def generate_matrix(rows, cols, min_val, max_val):\n",
        "    return save_matrix([[random.randint(min_val, max_val) for i in range(cols)] for j in range(rows)])"
      ],
      "outputs": [],
      "execution_count": 1
    },
    {
      "metadata": {
        "id": "456b1862d005cf40"
      },
      "cell_type": "markdown",
      "source": [
        "# Expert 1\n",
        "**Задача**:\n",
        "\n",
        "Необходимо доказать, что оптимальные направления PCA совпадают с собственными векторами матрицы ковариаций, соответствующими максимальным собственным значениям.\n",
        "\n",
        "Поиск оптимальных направлений означает, что необходимо найти направления, максимизирующие дисперсию. Формулы для неё и для ковариации задаются следующим образом:\n",
        "\n",
        "Ковариация: $Cov (X, Y) = (X, Y) = \\frac{1}{n-1} X^T Y$\n",
        "\n",
        "Дисперсия: $Var(X) = ||X||^2 = (X, X) = \\frac{1}{n-1} X^T X$\n",
        "\n",
        "----\n",
        "**Доказательство**:\n",
        "\n",
        "1. Матрица ковариаций имеет следующий вид: $$\\Sigma = \\frac{1}{n-1}X^T X,$$ где $X$ - центрированная матрица данных размерности $n \\times m$, а $n$ - количество объектов.\n",
        "\n",
        "    Пусть $W$ - искомые $k$ векторов, $W = (w_1, ..., w_k)$, причём $||w_i|| = 1$ (векторы нормированны, то есть имеют единичные длины). Тогда проекция данных на $W$ – это $XW$, и она должна иметь максимальную дисперсию.\n",
        "\n",
        "    $Var(XW) = ||XW||^2 = \\frac{1}{n-1} (XW)^T XW = \\frac{1}{n-1} W^TX^T XW = W^T \\Sigma W$.\n",
        "\n",
        "    Получаем, что необходимо максимизировать $Var(XW) = W^T \\Sigma W$.\n",
        "\n",
        "    Пусть $w_1$ - первая главная компонента. Сначала найдём $max(w_1^T \\Sigma w_1$), а затем оставшиеся $w_2, ..., w_k$, которые должны быть ортогональны предыдущим (то есть $w_i^T w_j = 0$ при $i \\neq j$).\n",
        "\n",
        "2. Воспользуемся сингулярным разложением матрицы $X$: $X = USV^T$, где $U$ - матрица левых сингулярных векторов (является ортогональной), $V$ - матрица правых сингулярных векторов (также является ортогональной), $S$ - диагональная матрица сингулярных чисел. $$\\Sigma = \\frac{1}{n-1} X^TX = \\frac{1}{n-1} (USV^T)^T USV = \\frac{1}{n-1} VS^T U^T USV = \\frac{1}{n-1} V S^T E SV^T = \\frac{1}{n-1} V S^T SV^T$$\n",
        "\n",
        "    Пусть $\\Lambda = \\frac{1}{n-1} S^T S$, тогда $\\Sigma = V \\Lambda V^T$.\n",
        "\n",
        "    Получаем спектральное разложение матрицы $\\Sigma$. $\\Lambda$ диагональна, на диагонали находятся собственные значения матрицы, а $V$ состоит из собственных векторов.\n",
        "\n",
        "3. Величина, которую нужно максимизировать, теперь выражается как $max(w_1^T (V \\Lambda V^T) w_1), ||w_1|| = 1, w_1$ - искомый.\n",
        "\n",
        "    Замена: $y = V^T w_1$, откуда $w_1 = V \\cdot y$. Так как $V$  ортогональна, получаем: $||w_1|| = ||Vy|| = ||y|| = 1$.\n",
        "\n",
        "    Теперь ищем: $max \\big[ (Vy)^T (V \\Lambda V^T) V y \\big]$ при $||y|| = 1$. преобразуем выражение:\n",
        "\n",
        "    $$(Vy)^T (V \\Lambda V^T) Vy = y^T \\cdot V^T V \\cdot \\Lambda \\cdot V^T V \\cdot y = y^T \\cdot E \\cdot E \\cdot y = y^T  \\Lambda y = \\sum^n_{i=1} \\lambda_i y_i^2$$\n",
        "\n",
        "    При этом из условия $||y|| = 1$ следует, что $$\\sum^n_{i=1} y^2_i = 1$$\n",
        "\n",
        "4. Искомый максимум: $max(\\lambda_1 y_1^2 + \\lambda_2 y_2^2 + ... + \\lambda_n y_n^2)$. Так как предполагается, что $\\lambda_1, ..., \\lambda_n$ отсортированы по невозрастанию, то максимум будет достигаться при $y_1 = 1$, а остальные $y_i = 0$.\n",
        "\n",
        "    $y = (1, 0, ..., 0)^T$, тогда $w_1 = Vy = V \\cdot (1, 0, ..., 0)^T = V^{(1)}$ - первый столбец $V$.\n",
        "\n",
        "    $V^{(1)}$ - в точности собственный вектор, соответствующий максимальному собственному значению, то есть для первой главной компоненты $w_1$ всё доказано.\n",
        "\n",
        "5. Теперь приведём рассуждения о выборе следующих компонент ($w_2, ..., w_k$). При поиске $w_2$ следует учитывать, что он и $w_1$ должны быть ортогональны:\n",
        "\n",
        "    Пусть $w_1 = Vy_1$, где $y_1 = (1, 0, ..., 0)^T$, а $w_2 = Vy_2$.\n",
        "\n",
        "    $$(w_1, w_2) = (Vy_1, Vy_2) = 0 \\Rightarrow (Vy_1)^T Vy_2 = y_1^T V^T V y_2 = y_1^T y_2 = 0 $$\n",
        "\n",
        "    Так как $(1, 0, ..., 0)^T y_2$ = 0, то первая компонента $y_2$ нулевая, остальные любые. Тогда из $max(\\lambda_1 y_1^2 + \\lambda_2 y_2^2 + ... + \\lambda_n y_n^2)$ можем получить $max( \\lambda_2 y_2^2 + ... + \\lambda_n y_n^2)$, и аналогично поиску для $w_1$ находим $y_2 = (0, 1, 0, ..., 0)^T$, откуда $w_2 = V^{(2)}$ (нашли второй столбец и второй собственный вектор).\n",
        "\n",
        "Продолжив алгоритм, получим искомые $w_1, w_2, ..., w_k$, равные собственным векторам матрицы $\\Sigma$, соответствующие в точности максимальным собственным значениям. Таким образом, утверждение доказано."
      ],
      "id": "456b1862d005cf40"
    },
    {
      "metadata": {
        "id": "5cfffe357af353fe"
      },
      "cell_type": "markdown",
      "source": [
        "# Easy 1: Метод Гаусса"
      ],
      "id": "5cfffe357af353fe"
    },
    {
      "metadata": {
        "ExecuteTime": {
          "end_time": "2025-04-21T22:06:44.022032Z",
          "start_time": "2025-04-21T22:06:44.009082Z"
        },
        "id": "2dea3f4626f181e4"
      },
      "cell_type": "code",
      "source": [
        "def gauss_solver(A: Matrix, b: Matrix, tol: float = 1e-5) -> List[Matrix]:\n",
        "    if A.rows != b.rows or b.columns != 1:\n",
        "        raise ValueError(\"Размеры A и b не согласованы\")\n",
        "\n",
        "    n, m = A.rows, A.columns\n",
        "    # преобразуем в плотный формат\n",
        "    classic_A = get_classic_format(A)\n",
        "    classic_b = get_classic_format(b)\n",
        "\n",
        "    Ab = [row.copy() + [classic_b[i][0]] for i, row in enumerate(classic_A)]\n",
        "\n",
        "    rank = 0\n",
        "    # Прямой ход Гаусса\n",
        "    for col in range(m):\n",
        "        max_row = rank\n",
        "        for row in range(rank + 1, n):\n",
        "            if abs(Ab[row][col]) > abs(Ab[max_row][col]):\n",
        "                max_row = row\n",
        "\n",
        "        # Если максимальный элемент равен нулю, скипаем столбец\n",
        "        if abs(Ab[max_row][col]) < tol:\n",
        "            continue\n",
        "\n",
        "        # Меняем строки местами\n",
        "        Ab[rank], Ab[max_row] = Ab[max_row], Ab[rank]\n",
        "\n",
        "        # Нормализация строки\n",
        "        pivot = Ab[rank][col]\n",
        "        for j in range(col, m + 1):\n",
        "            Ab[rank][j] /= pivot\n",
        "\n",
        "        # Исключаем переменную из других строк\n",
        "        for i in range(n):\n",
        "            if i != rank and abs(Ab[i][col]) > tol:\n",
        "                factor = Ab[i][col]\n",
        "                for j in range(col, m + 1):\n",
        "                    Ab[i][j] -= factor * Ab[rank][j]\n",
        "\n",
        "        rank += 1\n",
        "        if rank == n:\n",
        "            break\n",
        "\n",
        "    # Проверяем совместность\n",
        "    for i in range(rank, n):\n",
        "        if abs(Ab[i][m]) > tol:\n",
        "            raise ValueError(\"Система несовместна\")\n",
        "\n",
        "    # Обратный ход Гаусса\n",
        "    solutions = []\n",
        "    free_vars = []\n",
        "    lead_vars = [-1] * m\n",
        "\n",
        "    # Определяем свободные переменные\n",
        "    for i in range(rank):\n",
        "        for j in range(m):\n",
        "            if abs(Ab[i][j]) > tol:\n",
        "                lead_vars[j] = i\n",
        "                break\n",
        "\n",
        "    for j in range(m):\n",
        "        if lead_vars[j] == -1:\n",
        "            free_vars.append(j)\n",
        "\n",
        "    # Если свободных нет - единственное решение\n",
        "    if not free_vars:\n",
        "        solution = [[0.0] for _ in range(m)]\n",
        "        for i in range(rank):\n",
        "            for j in range(m):\n",
        "                if abs(Ab[i][j]) > tol:\n",
        "                    solution[j][0] = Ab[i][m]\n",
        "                    break\n",
        "\n",
        "        sol = [(i, 0, solution[i][0]) for i in range(m) if abs(solution[i][0]) > tol]\n",
        "        return [Matrix(m, 1, sol)]\n",
        "\n",
        "    # Если свободные есть - строим базис\n",
        "    for free in free_vars:\n",
        "        vec = [[0.0] for _ in range(m)]\n",
        "        vec[free][0] = 1.0\n",
        "\n",
        "        for i in range(rank):\n",
        "            for j in range(m):\n",
        "                if abs(Ab[i][j]) > tol:\n",
        "                    sum_ax = 0.0\n",
        "                    for k in range(j + 1, m):\n",
        "                        sum_ax += Ab[i][k] * vec[k][0]\n",
        "                    vec[j][0] = Ab[i][m] - sum_ax\n",
        "                    break\n",
        "\n",
        "        basis = [(i, 0, vec[i][0]) for i in range(m) if abs(vec[i][0]) > tol]\n",
        "        solutions.append(Matrix(m, 1, basis))\n",
        "\n",
        "    return solutions"
      ],
      "id": "2dea3f4626f181e4",
      "outputs": [],
      "execution_count": 2
    },
    {
      "metadata": {
        "ExecuteTime": {
          "end_time": "2025-04-21T22:06:44.047102Z",
          "start_time": "2025-04-21T22:06:44.038917Z"
        },
        "colab": {
          "base_uri": "https://localhost:8080/"
        },
        "id": "4a5c374626907803",
        "outputId": "f652d82e-22c6-4c71-d30b-ebbf2102ed38"
      },
      "cell_type": "code",
      "source": [
        "# Пример системы уравнений:\n",
        "# 1x + 2y = 5\n",
        "# 3x + 4y = 11\n",
        "\n",
        "A = save_matrix([[1, 2], [3, 4]])\n",
        "b = save_matrix([[5], [11]])\n",
        "\n",
        "solutions = gauss_solver(A, b)\n",
        "if len(solutions) == 1:\n",
        "    print(\"Единственное решение:\")\n",
        "    print(solutions[0])\n",
        "else:\n",
        "    print(f\"Бесконечно много решений. Базис ФСР (размерность {len(solutions)}):\")\n",
        "    for i, sol in enumerate(solutions):\n",
        "        print(f\"Решение {i+1}:\")\n",
        "        print(sol)"
      ],
      "id": "4a5c374626907803",
      "outputs": [
        {
          "output_type": "stream",
          "name": "stdout",
          "text": [
            "Единственное решение:\n",
            "1.0\n",
            "2.0\n"
          ]
        }
      ],
      "execution_count": 3
    },
    {
      "metadata": {
        "id": "e1faa5d89253234"
      },
      "cell_type": "markdown",
      "source": [
        "# Easy 2: Центрирование данных\n",
        "$$ X_{centered} = X - X_{mean} $$"
      ],
      "id": "e1faa5d89253234"
    },
    {
      "metadata": {
        "ExecuteTime": {
          "end_time": "2025-04-21T22:06:44.121364Z",
          "start_time": "2025-04-21T22:06:44.114942Z"
        },
        "id": "be372d40e9288611"
      },
      "cell_type": "code",
      "source": [
        "def get_means(X: Matrix) -> List[float]:\n",
        "    rows = X.rows\n",
        "    cols = X.columns\n",
        "    means = [0.0] * cols\n",
        "\n",
        "    for col in range(1, cols + 1):\n",
        "        for row in range(1, rows + 1):\n",
        "            means[col-1] += X.get(row, col)\n",
        "        means[col-1] /= rows\n",
        "\n",
        "    return means\n",
        "\n",
        "def center_data(X: Matrix) -> Matrix:\n",
        "    means = get_means(X)\n",
        "    centered_data = []\n",
        "\n",
        "    for row in range(1, X.rows + 1):\n",
        "        for col in range(1, X.columns + 1):\n",
        "            val = X.get(row, col)\n",
        "            centered_val = val - means[col-1]\n",
        "            centered_data.append((row-1, col-1, centered_val))\n",
        "\n",
        "    return Matrix(X.rows, X.columns, centered_data)"
      ],
      "id": "be372d40e9288611",
      "outputs": [],
      "execution_count": 4
    },
    {
      "metadata": {
        "id": "793796f2e9909de5"
      },
      "cell_type": "markdown",
      "source": [
        "Сравнение с NumPy:"
      ],
      "id": "793796f2e9909de5"
    },
    {
      "metadata": {
        "ExecuteTime": {
          "end_time": "2025-04-21T22:06:44.201856Z",
          "start_time": "2025-04-21T22:06:44.192832Z"
        },
        "colab": {
          "base_uri": "https://localhost:8080/"
        },
        "id": "485e32c3b733ad37",
        "outputId": "1a433765-7372-4324-ef9b-702e65bdec72"
      },
      "cell_type": "code",
      "source": [
        "X = generate_matrix(3, 3, -3, 3)\n",
        "\n",
        "print(\"Исходная матрица:\")\n",
        "print(X)\n",
        "\n",
        "X_centered = center_data(X)\n",
        "print(\"\\nНаше центрирование:\")\n",
        "print(X_centered)\n",
        "\n",
        "X_np = np.array(get_classic_format(X))\n",
        "centered_np = X_np - X_np.mean(axis=0)\n",
        "\n",
        "print(\"\\nNumPy центрирование:\")\n",
        "print(centered_np)\n"
      ],
      "id": "485e32c3b733ad37",
      "outputs": [
        {
          "output_type": "stream",
          "name": "stdout",
          "text": [
            "Исходная матрица:\n",
            "-3.0 -1.0 1.0\n",
            "1.0 -3.0 -2.0\n",
            "1.0 -1.0 0\n",
            "\n",
            "Наше центрирование:\n",
            "-2.6666666666666665 0.6666666666666667 1.3333333333333333\n",
            "1.3333333333333333 -1.3333333333333333 -1.6666666666666667\n",
            "1.3333333333333333 0.6666666666666667 0.3333333333333333\n",
            "\n",
            "NumPy центрирование:\n",
            "[[-2.66666667  0.66666667  1.33333333]\n",
            " [ 1.33333333 -1.33333333 -1.66666667]\n",
            " [ 1.33333333  0.66666667  0.33333333]]\n"
          ]
        }
      ],
      "execution_count": 5
    },
    {
      "metadata": {
        "id": "f65d5a13cd5005e5"
      },
      "cell_type": "markdown",
      "source": [
        "# Easy 3: матрица ковариаций\n",
        "$$ C = \\frac{1}{n-1}X^TX $$"
      ],
      "id": "f65d5a13cd5005e5"
    },
    {
      "metadata": {
        "ExecuteTime": {
          "end_time": "2025-04-21T22:06:44.276895Z",
          "start_time": "2025-04-21T22:06:44.271281Z"
        },
        "id": "6d33b20ff67c81cb"
      },
      "cell_type": "code",
      "source": [
        "def covariance_matrix(X_centered: Matrix) -> Matrix:\n",
        "    n = X_centered.rows\n",
        "    p = X_centered.columns\n",
        "    X = get_classic_format(X_centered)\n",
        "\n",
        "    cov_data = []\n",
        "    for i in range(p):\n",
        "        for j in range(p):\n",
        "            cov = sum(X[row][i] * X[row][j] for row in range(n)) / (n - 1)\n",
        "            cov_data.append((i, j, cov))\n",
        "\n",
        "    return Matrix(p, p, cov_data)"
      ],
      "id": "6d33b20ff67c81cb",
      "outputs": [],
      "execution_count": 6
    },
    {
      "metadata": {
        "id": "d41bbfb7fbd72394"
      },
      "cell_type": "markdown",
      "source": [
        "Сравнение с NumPy:"
      ],
      "id": "d41bbfb7fbd72394"
    },
    {
      "metadata": {
        "ExecuteTime": {
          "end_time": "2025-04-21T22:06:44.361238Z",
          "start_time": "2025-04-21T22:06:44.350230Z"
        },
        "colab": {
          "base_uri": "https://localhost:8080/"
        },
        "id": "c2651eb3efbe6391",
        "outputId": "fcb4afc0-612a-4eb8-e261-93bfece877b6"
      },
      "cell_type": "code",
      "source": [
        "X = generate_matrix(5, 5, -10, 10)\n",
        "\n",
        "X_centered = center_data(X)\n",
        "cov = covariance_matrix(X_centered)\n",
        "\n",
        "X_np = np.array(get_classic_format(X))\n",
        "cov_numpy = np.cov(X_np, rowvar=False, bias=False)\n",
        "\n",
        "print(\"Наш результат:\")\n",
        "print(cov)\n",
        "print(\"\\nNumPy результат:\")\n",
        "print(cov_numpy)\n"
      ],
      "id": "c2651eb3efbe6391",
      "outputs": [
        {
          "output_type": "stream",
          "name": "stdout",
          "text": [
            "Наш результат:\n",
            "60.7 20.150000000000006 -1.8000000000000025 56.0 -14.099999999999996\n",
            "20.150000000000006 40.300000000000004 -18.6 15.500000000000004 14.3\n",
            "-1.8000000000000025 -18.6 17.2 -2.7500000000000018 2.6499999999999995\n",
            "56.0 15.500000000000004 -2.7500000000000018 56.5 -8.999999999999998\n",
            "-14.099999999999996 14.3 2.6499999999999995 -8.999999999999998 64.3\n",
            "\n",
            "NumPy результат:\n",
            "[[ 60.7   20.15  -1.8   56.   -14.1 ]\n",
            " [ 20.15  40.3  -18.6   15.5   14.3 ]\n",
            " [ -1.8  -18.6   17.2   -2.75   2.65]\n",
            " [ 56.    15.5   -2.75  56.5   -9.  ]\n",
            " [-14.1   14.3    2.65  -9.    64.3 ]]\n"
          ]
        }
      ],
      "execution_count": 11
    },
    {
      "metadata": {
        "id": "2bae9e665594bdfe"
      },
      "cell_type": "markdown",
      "source": [
        "# Normal 1: Собственные значения"
      ],
      "id": "2bae9e665594bdfe"
    },
    {
      "metadata": {
        "ExecuteTime": {
          "end_time": "2025-04-21T22:06:44.465129Z",
          "start_time": "2025-04-21T22:06:44.456851Z"
        },
        "id": "68bc4a5377b3f503"
      },
      "cell_type": "code",
      "source": [
        "# поиск корня бисекцией\n",
        "def root_search(f, a, b, tol=1e-6):\n",
        "    fa, fb = f(a), f(b)\n",
        "    if fa * fb > 0:\n",
        "        return None\n",
        "\n",
        "    while (b-a) > tol:\n",
        "        c = (a + b) / 2\n",
        "        fc = f(c)\n",
        "        if abs(fc) < tol:\n",
        "            return c\n",
        "        if fa * fc < 0:\n",
        "            b, fb = c, fc\n",
        "        else:\n",
        "            a, fa = c, fc\n",
        "    return (a + b) / 2\n",
        "\n",
        "# поиск экстремума бисекцией\n",
        "def extremum_search(f, a0, b0, epsilon, delta=1e-10):\n",
        "    a = a0\n",
        "    b = b0\n",
        "    ans = (a + b) / 2\n",
        "\n",
        "    while abs(b - a) > epsilon:\n",
        "        yk = (a + b - delta) / 2\n",
        "        zk = (a + b + delta) / 2\n",
        "\n",
        "        if f(yk) <= f(zk):\n",
        "            b = zk\n",
        "        else:\n",
        "            a = yk\n",
        "\n",
        "        ans = (a + b) / 2\n",
        "    return ans"
      ],
      "id": "68bc4a5377b3f503",
      "outputs": [],
      "execution_count": 12
    },
    {
      "cell_type": "code",
      "source": [
        "# функция определителя\n",
        "def determinant(mat):\n",
        "    n = len(mat)\n",
        "    if n == 1:\n",
        "        return mat[0][0]\n",
        "    if n == 2:\n",
        "        return mat[0][0]*mat[1][1] - mat[0][1]*mat[1][0]\n",
        "\n",
        "    det = 0\n",
        "    for col in range(n):\n",
        "        minor = [row[:col] + row[col+1:] for row in mat[1:]]\n",
        "        det += (-1)**col * mat[0][col] * determinant(minor)\n",
        "\n",
        "    return det"
      ],
      "metadata": {
        "id": "EJy1Q23ESot9"
      },
      "id": "EJy1Q23ESot9",
      "execution_count": 13,
      "outputs": []
    },
    {
      "metadata": {
        "ExecuteTime": {
          "end_time": "2025-04-21T22:06:44.569951Z",
          "start_time": "2025-04-21T22:06:44.561040Z"
        },
        "id": "cb75febc1116ae4f"
      },
      "cell_type": "code",
      "source": [
        "# основная функция. поиск собственных значений\n",
        "def find_eigenvalues(C_matrix: 'Matrix', tol: float = 1e-6) -> List[float]:\n",
        "    n = C_matrix.rows\n",
        "    C = get_classic_format(C_matrix)\n",
        "\n",
        "# обычный характеристический полином\n",
        "    def characteristic_poly(lam):\n",
        "        mat = [[C[i][j] - (lam if i == j else 0) for j in range(n)] for i in range(n)]\n",
        "        return determinant(mat)\n",
        "        # чтоб оперативней считалось, потом закомментить\n",
        "        #return np.linalg.det(mat)\n",
        "\n",
        "    # модуль полинома для корней чётной кратности\n",
        "    def poly_abs(lam):\n",
        "        mat = [[C[i][j] - (lam if i == j else 0) for j in range(n)] for i in range(n)]\n",
        "        return abs(determinant(mat))\n",
        "        # чтоб оперативней считалось, потом закомментить\n",
        "        #return abs(np.linalg.det(mat))\n",
        "\n",
        "    # Вычисляем интервал поиска (см теорему Гершгорина)\n",
        "    Gershgorin_intervals = []\n",
        "    for i in range(n):\n",
        "        radius = sum(abs(C[i][j]) for j in range(n) if j != i)\n",
        "        center = C[i][i]\n",
        "        Gershgorin_intervals.append((center - radius, center + radius))\n",
        "\n",
        "    lower = min(interval[0] for interval in Gershgorin_intervals)\n",
        "    upper = max(interval[1] for interval in Gershgorin_intervals)\n",
        "\n",
        "    # Расширяем интервал, ну чтобы понадёжнее\n",
        "    lower -= 3\n",
        "    upper += 3\n",
        "    count = 2*math.ceil(upper - lower)\n",
        "\n",
        "    # непосредственно поиск корней\n",
        "    def find_roots(f, fabs, a, b, tol, count):\n",
        "        roots = []\n",
        "        # дробим [a,b] на мелкие подотрезки\n",
        "        step = (b - a) / count\n",
        "\n",
        "        x_prev = a\n",
        "        f_prev = f(x_prev)\n",
        "\n",
        "        # пробегаем по каждому маленькому отрезку\n",
        "        for i in range(1, count+1):\n",
        "            x = a + i * step\n",
        "            fx = f(x)\n",
        "\n",
        "            # если попали в корень\n",
        "            if abs(fx) < tol:\n",
        "                roots.append(x)\n",
        "            # если функция меняет знак, ищем корень\n",
        "            # если не меняет, смотрим экстремум для функции-модуля.\n",
        "            if f_prev * fx < 0:\n",
        "                roots.append(root_search(f, x_prev, x, tol))\n",
        "            else:\n",
        "                exst = extremum_search(fabs, x_prev, x, tol)\n",
        "                # если при поиске экстремума «скатились» близко к нулю, то всё ок\n",
        "                if abs(f(exst)) < 0.0001:\n",
        "                  roots.append(exst)\n",
        "\n",
        "            x_prev = x\n",
        "            f_prev = fx\n",
        "\n",
        "        # убираем дубликаты (близкие корни)\n",
        "        unique_roots = [roots[0]]\n",
        "        for i in range(1,len(sorted(roots))):\n",
        "            if not unique_roots or (roots[i] - roots[i-1] > 2*step):\n",
        "                unique_roots.append(roots[i])\n",
        "\n",
        "        return unique_roots\n",
        "\n",
        "    eigenvalues = find_roots(characteristic_poly, poly_abs, lower, upper, tol, count)\n",
        "    return sorted(eigenvalues)[::-1]"
      ],
      "id": "cb75febc1116ae4f",
      "outputs": [],
      "execution_count": 121
    },
    {
      "metadata": {
        "ExecuteTime": {
          "end_time": "2025-04-21T22:06:44.660812Z",
          "start_time": "2025-04-21T22:06:44.609313Z"
        },
        "colab": {
          "base_uri": "https://localhost:8080/"
        },
        "id": "5b302bc4d70dd502",
        "outputId": "a0d85a66-3912-41f9-b08f-627b34523f78"
      },
      "cell_type": "code",
      "source": [
        "C = generate_matrix(5, 5, -10, 10)\n",
        "cov = covariance_matrix(C)\n",
        "print(\"Исходная матрица:\")\n",
        "print(cov)\n",
        "\n",
        "eigenvalues = find_eigenvalues(cov)\n",
        "print(\"\\nНайденные собственные значения:\")\n",
        "for i, val in enumerate(eigenvalues, 1):\n",
        "    print(f\"lambda{i} = {val:.6f}\")\n",
        "\n",
        "np_matrix = get_classic_format(cov)\n",
        "np_eigenvalues = np.linalg.eigvals(np_matrix)\n",
        "print(\"\\nПроверка с numpy:\")\n",
        "for i, val in enumerate(sorted(np_eigenvalues, reverse=True), 1):\n",
        "    print(f\"lambda{i} = {val:.6f}\")"
      ],
      "id": "5b302bc4d70dd502",
      "outputs": [
        {
          "output_type": "stream",
          "name": "stdout",
          "text": [
            "Исходная матрица:\n",
            "54.0 26.75 -0.25 13.25 45.0\n",
            "26.75 39.0 -2.5 8.75 4.5\n",
            "-0.25 -2.5 42.0 -0.25 15.0\n",
            "13.25 8.75 -0.25 49.25 -29.5\n",
            "45.0 4.5 15.0 -29.5 88.75\n",
            "\n",
            "Найденные собственные значения:\n",
            "lambda1 = 128.176623\n",
            "lambda2 = 76.464960\n",
            "lambda3 = 42.431568\n",
            "lambda4 = 25.604125\n",
            "lambda5 = 0.322725\n",
            "\n",
            "Проверка с numpy:\n",
            "lambda1 = 128.176623\n",
            "lambda2 = 76.464959\n",
            "lambda3 = 42.431568\n",
            "lambda4 = 25.604126\n",
            "lambda5 = 0.322725\n"
          ]
        }
      ],
      "execution_count": 122
    },
    {
      "metadata": {
        "id": "20a093ad07146da5"
      },
      "cell_type": "markdown",
      "source": [
        "# Normal 2: Собственные векторы"
      ],
      "id": "20a093ad07146da5"
    },
    {
      "metadata": {
        "ExecuteTime": {
          "end_time": "2025-04-21T22:06:44.722481Z",
          "start_time": "2025-04-21T22:06:44.715792Z"
        },
        "id": "603da299679b2ed1"
      },
      "cell_type": "code",
      "source": [
        "def normalize_vector(vect: Matrix) -> Matrix:\n",
        "    vector = get_classic_format(vect)\n",
        "    norm = math.sqrt(sum(x[0] ** 2 for x in vector))\n",
        "    return save_matrix([[x[0] / norm] for x in vector])\n",
        "\n",
        "def find_eigenvectors(C_matrix: Matrix, eigenvalues: List[float], tol = 1e-2) -> List[Matrix]:\n",
        "    n = C_matrix.rows\n",
        "    vectors_list = []\n",
        "\n",
        "    C = get_classic_format(C_matrix)\n",
        "    for lam in eigenvalues:\n",
        "        C_lam = save_matrix([[C[i][j] - (lam if i == j else 0) for j in range(n)] for i in range(n)])\n",
        "        vectors_lam = gauss_solver(C_lam, save_matrix([[0]]*n), tol)\n",
        "        vectors_list += vectors_lam\n",
        "\n",
        "    normalize_list = []\n",
        "    for vectors in vectors_list:\n",
        "        normalize_list.append(normalize_vector(vectors))\n",
        "    return normalize_list"
      ],
      "id": "603da299679b2ed1",
      "outputs": [],
      "execution_count": 94
    },
    {
      "metadata": {
        "id": "b842a326b3718e47"
      },
      "cell_type": "markdown",
      "source": [
        "Сравнение с NumPy:"
      ],
      "id": "b842a326b3718e47"
    },
    {
      "metadata": {
        "ExecuteTime": {
          "end_time": "2025-04-21T22:06:44.836828Z",
          "start_time": "2025-04-21T22:06:44.779875Z"
        },
        "colab": {
          "base_uri": "https://localhost:8080/"
        },
        "id": "79703fdf3c6a8bbb",
        "outputId": "c943746b-360b-4f35-a730-93de075cef14"
      },
      "cell_type": "code",
      "source": [
        "# C = save_matrix([[-3, 18, 9, 50, 80],\n",
        "#                [7, -86, -25, -15, 94],\n",
        "#                [-65, 6, -66, 18, 67],\n",
        "#                [22, -1, -39, -41, 87],\n",
        "#                [-85, -3, 26, 2, 22]])\n",
        "C = generate_matrix(5, 5, -10, 10)\n",
        "\n",
        "X_centered = center_data(C)\n",
        "covar = covariance_matrix(X_centered)\n",
        "vals = find_eigenvalues(covar)\n",
        "vects = find_eigenvectors(covar, vals)\n",
        "\n",
        "np_covar = np.cov(get_classic_format(X_centered), rowvar=False)\n",
        "np_vals, np_vects = np.linalg.eig(np_covar)\n",
        "\n",
        "sorted_indices = np.argsort(np_vals)[::-1]\n",
        "np_vals_sorted = np_vals[sorted_indices]\n",
        "np_vects_sorted = np_vects[:, sorted_indices]\n",
        "\n",
        "# Сравнение\n",
        "print(\"Собственные значения:\")\n",
        "print(\"Наши:\", vals)\n",
        "print(\"NumPy:\", np_vals_sorted)\n",
        "\n",
        "print(\"\\nСобственные вектора:\")\n",
        "print(\"Наши:\\n\", vects)\n",
        "print(\"NumPy\\n:\", np_vects_sorted)"
      ],
      "id": "79703fdf3c6a8bbb",
      "outputs": [
        {
          "output_type": "stream",
          "name": "stdout",
          "text": [
            "Собственные значения:\n",
            "Наши: [99.45672744054062, 15.348640906871884, 3.26054374046814, 4.6130937475217674e-07]\n",
            "NumPy: [ 9.94567271e+01  1.53486408e+01  3.26054331e+00  9.34088843e-01\n",
            " -8.35734648e-16]\n",
            "\n",
            "Собственные вектора:\n",
            "Наши:\n",
            " [0.49203873963286726\n",
            "0.7474380806495947\n",
            "0.2708638178899875\n",
            "-0.16729512427812532\n",
            "0.31285672095413825, 0.12451349156425087\n",
            "-0.4345654172168424\n",
            "-0.16328237929659306\n",
            "-0.522060157955868\n",
            "0.7045859384517752, -0.7595538058544158\n",
            "0.21497549542310676\n",
            "0.4538950671573336\n",
            "-0.4073269756008807\n",
            "0.07019654790473348, -0.40377571513915167\n",
            "0.33490815769857873\n",
            "-0.49190890514466334\n",
            "0.4697738257048034\n",
            "0.5119959760514355]\n",
            "NumPy\n",
            ": [[-0.49203874 -0.1245135  -0.75955378  0.04937153  0.40377565]\n",
            " [-0.74743808  0.43456542  0.21497547 -0.30677545 -0.33490833]\n",
            " [-0.27086382  0.16328238  0.45389511  0.67229161  0.49190942]\n",
            " [ 0.16729513  0.52206016 -0.407327    0.55934167 -0.4697735 ]\n",
            " [-0.31285672 -0.70458593  0.07019651  0.37230655 -0.51199572]]\n"
          ]
        }
      ],
      "execution_count": 123
    },
    {
      "metadata": {
        "id": "a3c4a89b955241a8"
      },
      "cell_type": "markdown",
      "source": [
        "# Normal 3: Доля объяснённой дисперсии"
      ],
      "id": "a3c4a89b955241a8"
    },
    {
      "metadata": {
        "ExecuteTime": {
          "end_time": "2025-04-21T22:06:44.910235Z",
          "start_time": "2025-04-21T22:06:44.904732Z"
        },
        "id": "c34b22d18b31e9c2"
      },
      "cell_type": "code",
      "source": [
        "def explained_variance_ratio(eigenvalues: List[float], k: int) -> float:\n",
        "    return sum(eigenvalues[:k]) / sum(eigenvalues)"
      ],
      "id": "c34b22d18b31e9c2",
      "outputs": [],
      "execution_count": 109
    },
    {
      "metadata": {
        "id": "4d9060b7d7b29d1b"
      },
      "cell_type": "markdown",
      "source": [
        "Сравнение с NumPy:"
      ],
      "id": "4d9060b7d7b29d1b"
    },
    {
      "metadata": {
        "ExecuteTime": {
          "end_time": "2025-04-21T22:06:45.013345Z",
          "start_time": "2025-04-21T22:06:44.957051Z"
        },
        "colab": {
          "base_uri": "https://localhost:8080/"
        },
        "id": "bf5ff4f6c80c334c",
        "outputId": "c13e4ef4-ebc4-4e56-cb7a-01fe7048661b"
      },
      "cell_type": "code",
      "source": [
        "# C = save_matrix([[-3, 18, 9, 50, 80],\n",
        "#                [7, -86, -25, -15, 94],\n",
        "#                [-65, 6, -66, 18, 67],\n",
        "#                [22, -1, -39, -41, 87],\n",
        "#                [-85, -3, 26, 2, 22]])\n",
        "\n",
        "C = generate_matrix(5, 5, -10, 10)\n",
        "X_centered = center_data(C)\n",
        "covar = covariance_matrix(X_centered)\n",
        "vals = find_eigenvalues(covar)\n",
        "\n",
        "\n",
        "np_covar = np.cov(get_classic_format(X_centered), rowvar=False)\n",
        "np_vals = np.linalg.eigvals(np_covar)\n",
        "np_vals_sorted = sorted(np_vals, reverse=True)\n",
        "\n",
        "for k in [1, 3, 5]:\n",
        "    our_ratio = explained_variance_ratio(vals, k)\n",
        "\n",
        "    np_ratio = sum(np_vals_sorted[:k]) / sum(np_vals_sorted)\n",
        "\n",
        "    print(f\"k={k}:\")\n",
        "    print(f\"Наш результат: {our_ratio:.6f}\")\n",
        "    print(f\"NumPy результат: {np_ratio:.6f}\\n\")"
      ],
      "id": "bf5ff4f6c80c334c",
      "outputs": [
        {
          "output_type": "stream",
          "name": "stdout",
          "text": [
            "k=1:\n",
            "Наш результат: 0.626057\n",
            "NumPy результат: 0.626057\n",
            "\n",
            "k=3:\n",
            "Наш результат: 0.984351\n",
            "NumPy результат: 0.984351\n",
            "\n",
            "k=5:\n",
            "Наш результат: 1.000000\n",
            "NumPy результат: 1.000000\n",
            "\n"
          ]
        }
      ],
      "execution_count": 111
    },
    {
      "metadata": {
        "id": "5d4026d973cb16ac"
      },
      "cell_type": "markdown",
      "source": [
        "# Hard 1: алгоритм PCA"
      ],
      "id": "5d4026d973cb16ac"
    },
    {
      "metadata": {
        "ExecuteTime": {
          "end_time": "2025-04-21T22:06:45.029094Z",
          "start_time": "2025-04-21T22:06:45.023883Z"
        },
        "id": "451dfa3d96b38f41"
      },
      "cell_type": "code",
      "source": [
        "def project_data(X_matrix: Matrix, eigenvectors: List[Matrix], k: int) -> Tuple[Matrix, Matrix]:\n",
        "    n = X_matrix.rows\n",
        "    X = get_classic_format(X_matrix)\n",
        "    vector_matrix = []\n",
        "\n",
        "    for i in range(n):\n",
        "        row = []\n",
        "        for v in eigenvectors[:k]:\n",
        "            row.append(v.get(i + 1, 1))\n",
        "        vector_matrix.append(row)\n",
        "\n",
        "    vector_matrix = save_matrix(vector_matrix)\n",
        "    projected_X = multiply(X_matrix, vector_matrix)\n",
        "\n",
        "    return projected_X, vector_matrix\n",
        "\n",
        "def pca(X: Matrix, k: int) -> Tuple[Matrix, float]:\n",
        "    # центрирование данных и матрица ковариаций\n",
        "    centered_X = center_data(X)\n",
        "    covar_X = covariance_matrix(centered_X)\n",
        "\n",
        "    # поиск собственных значений и векторов\n",
        "    eigenvals = find_eigenvalues(covar_X)\n",
        "    eigenvects = find_eigenvectors(covar_X, eigenvals)\n",
        "\n",
        "    # проекция данных на главные компоненты\n",
        "    projected_X = project_data(centered_X, eigenvects, k)\n",
        "    dispersion_res = explained_variance_ratio(eigenvals, k)\n",
        "\n",
        "    return projected_X[0], dispersion_res"
      ],
      "id": "451dfa3d96b38f41",
      "outputs": [],
      "execution_count": 118
    },
    {
      "metadata": {
        "ExecuteTime": {
          "end_time": "2025-04-21T22:06:45.111319Z",
          "start_time": "2025-04-21T22:06:45.047894Z"
        },
        "colab": {
          "base_uri": "https://localhost:8080/"
        },
        "id": "7c487a05fd5825d0",
        "outputId": "f03996aa-82fc-415a-8df4-8d4615bfcc56"
      },
      "cell_type": "code",
      "source": [
        "from sklearn.decomposition import PCA\n",
        "\n",
        "# C = save_matrix([[-3, 18, 92, 50, 80], [67, -86, -25, -15, 94], [-65, 60, -66, 18, 67], [22, -1, -39, -41, 87], [-85, -3, 26, 2, 22]])\n",
        "C = generate_matrix(5, 5, -25, 25)\n",
        "my_res = pca(C, 3)[0]\n",
        "print(f\"Наш результат: {my_res}\")\n",
        "\n",
        "pca_import = PCA(n_components=3)\n",
        "data_pca = pca_import.fit_transform(get_classic_format(C))\n",
        "print(f\"\\nСравнение с sklearn: {data_pca}\")\n"
      ],
      "id": "7c487a05fd5825d0",
      "outputs": [
        {
          "output_type": "stream",
          "name": "stdout",
          "text": [
            "Наш результат: 24.941959804225714 -20.900365856429328 -11.49047852865236\n",
            "-31.30961918892793 11.650999019481228 -11.589791770530097\n",
            "20.677745818853978 29.535223340337048 3.512005655591781\n",
            "0.3137426009393711 -1.42555373644688 9.189290374314968\n",
            "-14.62382903509114 -18.860302766942066 10.378974269275709\n",
            "\n",
            "Сравнение с sklearn: [[ 24.9419598   20.90036585 -11.49047854]\n",
            " [-31.30961919 -11.65099903 -11.58979176]\n",
            " [ 20.67774582 -29.53522334   3.51200566]\n",
            " [  0.3137426    1.42555374   9.18929039]\n",
            " [-14.62382904  18.86030278  10.37897425]]\n"
          ]
        }
      ],
      "execution_count": 125
    }
  ],
  "metadata": {
    "kernelspec": {
      "display_name": "Python 3",
      "language": "python",
      "name": "python3"
    },
    "language_info": {
      "codemirror_mode": {
        "name": "ipython",
        "version": 2
      },
      "file_extension": ".py",
      "mimetype": "text/x-python",
      "name": "python",
      "nbconvert_exporter": "python",
      "pygments_lexer": "ipython2",
      "version": "2.7.6"
    },
    "colab": {
      "provenance": []
    }
  },
  "nbformat": 4,
  "nbformat_minor": 5
}