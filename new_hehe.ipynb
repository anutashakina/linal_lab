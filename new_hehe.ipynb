{
 "cells": [
  {
   "cell_type": "code",
   "id": "initial_id",
   "metadata": {
    "collapsed": true,
    "ExecuteTime": {
     "end_time": "2025-04-18T20:48:46.088053Z",
     "start_time": "2025-04-18T20:48:46.084153Z"
    }
   },
   "source": [
    "from matrix import *\n",
    "import math as m\n",
    "from typing import List"
   ],
   "outputs": [],
   "execution_count": 2
  },
  {
   "metadata": {
    "ExecuteTime": {
     "end_time": "2025-04-18T21:49:54.748628Z",
     "start_time": "2025-04-18T21:49:54.735192Z"
    }
   },
   "cell_type": "code",
   "source": [
    "def  gauss_solver(A: Matrix, b: Matrix, tol: float = 1e-5) -> List[Matrix]:\n",
    "    if A.rows != b.rows or b.columns != 1:\n",
    "        raise ValueError(\"Размеры A и b не согласованы\")\n",
    "\n",
    "    n, m = A.rows, A.columns\n",
    "    # преобразуем в плотный формат\n",
    "    classic_A = get_classic_format(A)\n",
    "    classic_b = get_classic_format(b)\n",
    "\n",
    "    Ab = [row.copy() + [classic_b[i][0]] for i, row in enumerate(classic_A)]\n",
    "\n",
    "    rank = 0\n",
    "    # Прямой ход Гаусса\n",
    "    for col in range(m):\n",
    "        max_row = rank\n",
    "        for row in range(rank + 1, n):\n",
    "            if abs(Ab[row][col]) > abs(Ab[max_row][col]):\n",
    "                max_row = row\n",
    "\n",
    "        # Если максимальный элемент равен нулю, скипаем столбец\n",
    "        if abs(Ab[max_row][col]) < tol:\n",
    "            continue\n",
    "\n",
    "        # Меняем строки местами\n",
    "        Ab[rank], Ab[max_row] = Ab[max_row], Ab[rank]\n",
    "\n",
    "        # Нормализация строки\n",
    "        pivot = Ab[rank][col]\n",
    "        for j in range(col, m + 1):\n",
    "            Ab[rank][j] /= pivot\n",
    "\n",
    "        # Исключаем переменную из других строк\n",
    "        for i in range(n):\n",
    "            if i != rank and abs(Ab[i][col]) > tol:\n",
    "                factor = Ab[i][col]\n",
    "                for j in range(col, m + 1):\n",
    "                    Ab[i][j] -= factor * Ab[rank][j]\n",
    "\n",
    "        rank += 1\n",
    "        if rank == n:\n",
    "            break\n",
    "\n",
    "    # Проверяем совместность\n",
    "    for i in range(rank, n):\n",
    "        if abs(Ab[i][m]) > tol:\n",
    "            raise ValueError(\"Система несовместна\")\n",
    "\n",
    "    # Обратный ход Гаусса\n",
    "    solutions = []\n",
    "    free_vars = []\n",
    "    lead_vars = [-1] * m\n",
    "\n",
    "    # Определяем свободные переменные\n",
    "    for i in range(rank):\n",
    "        for j in range(m):\n",
    "            if abs(Ab[i][j]) > tol:\n",
    "                lead_vars[j] = i\n",
    "                break\n",
    "\n",
    "    for j in range(m):\n",
    "        if lead_vars[j] == -1:\n",
    "            free_vars.append(j)\n",
    "\n",
    "    # Если свободных нет - единственное решение\n",
    "    if not free_vars:\n",
    "        solution = [[0.0] for _ in range(m)]\n",
    "        for i in range(rank):\n",
    "            for j in range(m):\n",
    "                if abs(Ab[i][j]) > tol:\n",
    "                    solution[j][0] = Ab[i][m] # <--- жестко шаманим с индексами\n",
    "                    break\n",
    "\n",
    "        sol = [(i, 0, solution[i][0]) for i in range(m) if abs(solution[i][0]) > tol]\n",
    "        return [Matrix(m, 1, sol)]\n",
    "\n",
    "    # Если свободные есть - строим базис\n",
    "    for free in free_vars:\n",
    "        vec = [[0.0] for _ in range(m)]\n",
    "        vec[free] = 1.0\n",
    "\n",
    "        for i in range(rank):\n",
    "            for j in range(m):\n",
    "                if abs(Ab[i][j]) > tol:\n",
    "                    sum_ax = 0.0\n",
    "                    for k in range(j + 1, m):\n",
    "                        sum_ax += Ab[i][k] * vec[k][0]\n",
    "                    vec[j][0] = Ab[i][m] - sum_ax\n",
    "                    break\n",
    "\n",
    "        basis = [(i, 0, vec[i][0]) for i in range(m) if abs(vec[i][0]) > tol]\n",
    "        solutions.append(Matrix(m, 1, basis))\n",
    "\n",
    "    return solutions"
   ],
   "id": "2dea3f4626f181e4",
   "outputs": [],
   "execution_count": 9
  },
  {
   "metadata": {
    "ExecuteTime": {
     "end_time": "2025-04-18T21:55:18.408596Z",
     "start_time": "2025-04-18T21:55:18.400286Z"
    }
   },
   "cell_type": "code",
   "source": [
    "# Пример системы уравнений:\n",
    "# 1x + 2y = 5\n",
    "# 3x + 4y = 11\n",
    "\n",
    "A = Matrix(2, 2, [\n",
    "    (0, 0, 1),  # 1 строка, 1 столбец = 1\n",
    "    (0, 1, 2),  # 1 строка, 2 столбец = 2\n",
    "    (1, 0, 3),  # 2 строка, 1 столбец = 3\n",
    "    (1, 1, 4)   # 2 строка, 2 столбец = 4\n",
    "])\n",
    "b = Matrix(2, 1, [(0, 0, 5), (1, 0, 11)])\n",
    "\n",
    "solutions = gauss_solver(A, b)\n",
    "if len(solutions) == 1:\n",
    "    print(\"Единственное решение:\")\n",
    "    print(solutions[0])\n",
    "else:\n",
    "    print(f\"Бесконечно много решений. Базис ФСР (размерность {len(solutions)}):\")\n",
    "    for i, sol in enumerate(solutions):\n",
    "        print(f\"Решение {i+1}:\")\n",
    "        print(sol)"
   ],
   "id": "4a5c374626907803",
   "outputs": [
    {
     "name": "stdout",
     "output_type": "stream",
     "text": [
      "Единственное решение:\n",
      "1.0\n",
      "2.0\n"
     ]
    }
   ],
   "execution_count": 13
  },
  {
   "metadata": {},
   "cell_type": "code",
   "outputs": [],
   "execution_count": null,
   "source": "",
   "id": "be372d40e9288611"
  }
 ],
 "metadata": {
  "kernelspec": {
   "display_name": "Python 3",
   "language": "python",
   "name": "python3"
  },
  "language_info": {
   "codemirror_mode": {
    "name": "ipython",
    "version": 2
   },
   "file_extension": ".py",
   "mimetype": "text/x-python",
   "name": "python",
   "nbconvert_exporter": "python",
   "pygments_lexer": "ipython2",
   "version": "2.7.6"
  }
 },
 "nbformat": 4,
 "nbformat_minor": 5
}
