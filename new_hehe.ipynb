{
 "cells": [
  {
   "metadata": {
    "ExecuteTime": {
     "end_time": "2025-04-22T21:49:05.378064Z",
     "start_time": "2025-04-22T21:49:05.371513Z"
    }
   },
   "cell_type": "code",
   "source": [
    "from matrix import *\n",
    "import numpy as np\n",
    "import random\n",
    "from typing import List, Tuple\n",
    "from sklearn.decomposition import PCA\n",
    "from matplotlib.figure import Figure\n",
    "import matplotlib.pyplot as plt\n",
    "import math\n",
    "\n",
    "random.seed(57)\n",
    "\n",
    "def generate_matrix(rows, cols, min_val, max_val):\n",
    "    return save_matrix([[random.randint(min_val, max_val) for i in range(cols)] for j in range(rows)])"
   ],
   "id": "626f7ca7331e2396",
   "outputs": [],
   "execution_count": 51
  },
  {
   "metadata": {},
   "cell_type": "markdown",
   "source": [
    "# Expert 1\n",
    "**Задача**:\n",
    "\n",
    "Необходимо доказать, что оптимальные направления PCA совпадают с собственными векторами матрицы ковариаций, соответствующими максимальным собственным значениям.\n",
    "\n",
    "Поиск оптимальных направлений означает, что необходимо найти направления, максимизирующие дисперсию. Формулы для неё и для ковариации задаются следующим образом:\n",
    "\n",
    "Ковариация: $Cov (X, Y) = (X, Y) = \\frac{1}{n-1} X^T Y$\n",
    "\n",
    "Дисперсия: $Var(X) = ||X||^2 = (X, X) = \\frac{1}{n-1} X^T X$\n",
    "\n",
    "----\n",
    "**Доказательство**:\n",
    "\n",
    "1. Матрица ковариаций имеет следующий вид: $$\\Sigma = \\frac{1}{n-1}X^T X,$$ где $X$ - центрированная матрица данных размерности $n \\times m$, а $n$ - количество объектов.\n",
    "\n",
    "    Пусть $W$ - искомые $k$ векторов, $W = (w_1, ..., w_k)$, причём $||w_i|| = 1$ (векторы нормированны, то есть имеют единичные длины). Тогда проекция данных на $W$ – это $XW$, и она должна иметь максимальную дисперсию.\n",
    "\n",
    "    $Var(XW) = ||XW||^2 = \\frac{1}{n-1} (XW)^T XW = \\frac{1}{n-1} W^TX^T XW = W^T \\Sigma W$.\n",
    "\n",
    "    Получаем, что необходимо максимизировать $Var(XW) = W^T \\Sigma W$.\n",
    "\n",
    "    Пусть $w_1$ - первая главная компонента. Сначала найдём $max(w_1^T \\Sigma w_1$), а затем оставшиеся $w_2, ..., w_k$, которые должны быть ортогональны предыдущим (то есть $w_i^T w_j = 0$ при $i \\neq j$).\n",
    "\n",
    "2. Воспользуемся сингулярным разложением матрицы $X$: $X = USV^T$, где $U$ - матрица левых сингулярных векторов (является ортогональной), $V$ - матрица правых сингулярных векторов (также является ортогональной), $S$ - диагональная матрица сингулярных чисел. $$\\Sigma = \\frac{1}{n-1} X^TX = \\frac{1}{n-1} (USV^T)^T USV = \\frac{1}{n-1} VS^T U^T USV = \\frac{1}{n-1} V S^T E SV^T = \\frac{1}{n-1} V S^T SV^T$$\n",
    "\n",
    "    Пусть $\\Lambda = \\frac{1}{n-1} S^T S$, тогда $\\Sigma = V \\Lambda V^T$.\n",
    "\n",
    "    Получаем спектральное разложение матрицы $\\Sigma$. $\\Lambda$ диагональна, на диагонали находятся собственные значения матрицы, а $V$ состоит из собственных векторов.\n",
    "\n",
    "3. Величина, которую нужно максимизировать, теперь выражается как $max(w_1^T (V \\Lambda V^T) w_1), ||w_1|| = 1, w_1$ - искомый.\n",
    "\n",
    "    Замена: $y = V^T w_1$, откуда $w_1 = V \\cdot y$. Так как $V$  ортогональна, получаем: $||w_1|| = ||Vy|| = ||y|| = 1$.\n",
    "\n",
    "    Теперь ищем: $max \\big[ (Vy)^T (V \\Lambda V^T) V y \\big]$ при $||y|| = 1$. преобразуем выражение:\n",
    "\n",
    "    $$(Vy)^T (V \\Lambda V^T) Vy = y^T \\cdot V^T V \\cdot \\Lambda \\cdot V^T V \\cdot y = y^T \\cdot E \\cdot E \\cdot y = y^T  \\Lambda y = \\sum^n_{i=1} \\lambda_i y_i^2$$\n",
    "\n",
    "    При этом из условия $||y|| = 1$ следует, что $$\\sum^n_{i=1} y^2_i = 1$$\n",
    "\n",
    "4. Искомый максимум: $max(\\lambda_1 y_1^2 + \\lambda_2 y_2^2 + ... + \\lambda_n y_n^2)$. Так как предполагается, что $\\lambda_1, ..., \\lambda_n$ отсортированы по невозрастанию, то максимум будет достигаться при $y_1 = 1$, а остальные $y_i = 0$.\n",
    "\n",
    "    $y = (1, 0, ..., 0)^T$, тогда $w_1 = Vy = V \\cdot (1, 0, ..., 0)^T = V^{(1)}$ - первый столбец $V$.\n",
    "\n",
    "    $V^{(1)}$ - в точности собственный вектор, соответствующий максимальному собственному значению, то есть для первой главной компоненты $w_1$ всё доказано.\n",
    "\n",
    "5. Теперь приведём рассуждения о выборе следующих компонент ($w_2, ..., w_k$). При поиске $w_2$ следует учитывать, что он и $w_1$ должны быть ортогональны:\n",
    "\n",
    "    Пусть $w_1 = Vy_1$, где $y_1 = (1, 0, ..., 0)^T$, а $w_2 = Vy_2$.\n",
    "\n",
    "    $$(w_1, w_2) = (Vy_1, Vy_2) = 0 \\Rightarrow (Vy_1)^T Vy_2 = y_1^T V^T V y_2 = y_1^T y_2 = 0 $$\n",
    "\n",
    "    Так как $(1, 0, ..., 0)^T y_2$ = 0, то первая компонента $y_2$ нулевая, остальные любые. Тогда из $max(\\lambda_1 y_1^2 + \\lambda_2 y_2^2 + ... + \\lambda_n y_n^2)$ можем получить $max( \\lambda_2 y_2^2 + ... + \\lambda_n y_n^2)$, и аналогично поиску для $w_1$ находим $y_2 = (0, 1, 0, ..., 0)^T$, откуда $w_2 = V^{(2)}$ (нашли второй столбец и второй собственный вектор).\n",
    "\n",
    "Продолжив алгоритм, получим искомые $w_1, w_2, ..., w_k$, равные собственным векторам матрицы $\\Sigma$, соответствующие в точности максимальным собственным значениям. Таким образом, утверждение доказано."
   ],
   "id": "d4b5deb1d8cc51a3"
  },
  {
   "metadata": {},
   "cell_type": "markdown",
   "source": "# Easy 1: Метод Гаусса",
   "id": "aba29bd06aa1f496"
  },
  {
   "metadata": {
    "ExecuteTime": {
     "end_time": "2025-04-22T21:49:05.433392Z",
     "start_time": "2025-04-22T21:49:05.421601Z"
    }
   },
   "cell_type": "code",
   "source": [
    "def gauss_solver(A: Matrix, b: Matrix, tol: float = 1e-5) -> List[Matrix]:\n",
    "    if A.rows != b.rows or b.columns != 1:\n",
    "        raise ValueError(\"Размеры A и b не согласованы\")\n",
    "\n",
    "    n, m = A.rows, A.columns\n",
    "    # преобразуем в плотный формат\n",
    "    classic_A = get_classic_format(A)\n",
    "    classic_b = get_classic_format(b)\n",
    "\n",
    "    Ab = [row.copy() + [classic_b[i][0]] for i, row in enumerate(classic_A)]\n",
    "\n",
    "    rank = 0\n",
    "    # Прямой ход Гаусса\n",
    "    for col in range(m):\n",
    "        max_row = rank\n",
    "        for row in range(rank + 1, n):\n",
    "            if abs(Ab[row][col]) > abs(Ab[max_row][col]):\n",
    "                max_row = row\n",
    "\n",
    "        # Если максимальный элемент равен нулю, скипаем столбец\n",
    "        if abs(Ab[max_row][col]) < tol:\n",
    "            continue\n",
    "\n",
    "        # Меняем строки местами\n",
    "        Ab[rank], Ab[max_row] = Ab[max_row], Ab[rank]\n",
    "\n",
    "        # Нормализация строки\n",
    "        pivot = Ab[rank][col]\n",
    "        for j in range(col, m + 1):\n",
    "            Ab[rank][j] /= pivot\n",
    "\n",
    "        # Исключаем переменную из других строк\n",
    "        for i in range(n):\n",
    "            if i != rank and abs(Ab[i][col]) > tol:\n",
    "                factor = Ab[i][col]\n",
    "                for j in range(col, m + 1):\n",
    "                    Ab[i][j] -= factor * Ab[rank][j]\n",
    "\n",
    "        rank += 1\n",
    "        if rank == n:\n",
    "            break\n",
    "\n",
    "    # Проверяем совместность\n",
    "    for i in range(rank, n):\n",
    "        if abs(Ab[i][m]) > tol:\n",
    "            raise ValueError(\"Система несовместна\")\n",
    "\n",
    "    # Обратный ход Гаусса\n",
    "    solutions = []\n",
    "    free_vars = []\n",
    "    lead_vars = [-1] * m\n",
    "\n",
    "    # Определяем свободные переменные\n",
    "    for i in range(rank):\n",
    "        for j in range(m):\n",
    "            if abs(Ab[i][j]) > tol:\n",
    "                lead_vars[j] = i\n",
    "                break\n",
    "\n",
    "    for j in range(m):\n",
    "        if lead_vars[j] == -1:\n",
    "            free_vars.append(j)\n",
    "\n",
    "    # Если свободных нет - единственное решение\n",
    "    if not free_vars:\n",
    "        solution = [[0.0] for _ in range(m)]\n",
    "        for i in range(rank):\n",
    "            for j in range(m):\n",
    "                if abs(Ab[i][j]) > tol:\n",
    "                    solution[j][0] = Ab[i][m]\n",
    "                    break\n",
    "\n",
    "        sol = [(i, 0, solution[i][0]) for i in range(m) if abs(solution[i][0]) > tol]\n",
    "        return [Matrix(m, 1, sol)]\n",
    "\n",
    "    # Если свободные есть - строим базис\n",
    "    for free in free_vars:\n",
    "        vec = [[0.0] for _ in range(m)]\n",
    "        vec[free][0] = 1.0\n",
    "\n",
    "        for i in range(rank):\n",
    "            for j in range(m):\n",
    "                if abs(Ab[i][j]) > tol:\n",
    "                    sum_ax = 0.0\n",
    "                    for k in range(j + 1, m):\n",
    "                        sum_ax += Ab[i][k] * vec[k][0]\n",
    "                    vec[j][0] = Ab[i][m] - sum_ax\n",
    "                    break\n",
    "\n",
    "        basis = [(i, 0, vec[i][0]) for i in range(m) if abs(vec[i][0]) > tol]\n",
    "        solutions.append(Matrix(m, 1, basis))\n",
    "\n",
    "    return solutions"
   ],
   "id": "b956e5d52d55fd7c",
   "outputs": [],
   "execution_count": 52
  },
  {
   "metadata": {
    "ExecuteTime": {
     "end_time": "2025-04-22T21:49:05.469769Z",
     "start_time": "2025-04-22T21:49:05.461483Z"
    }
   },
   "cell_type": "code",
   "source": [
    "# Пример системы уравнений:\n",
    "# 1x + 2y = 5\n",
    "# 3x + 4y = 11\n",
    "\n",
    "A = save_matrix([[1, 2], [3, 4]])\n",
    "b = save_matrix([[5], [11]])\n",
    "\n",
    "solutions = gauss_solver(A, b)\n",
    "if len(solutions) == 1:\n",
    "    print(\"Единственное решение:\")\n",
    "    print(solutions[0])\n",
    "else:\n",
    "    print(f\"Бесконечно много решений. Базис ФСР (размерность {len(solutions)}):\")\n",
    "    for i, sol in enumerate(solutions):\n",
    "        print(f\"Решение {i+1}:\")\n",
    "        print(sol)"
   ],
   "id": "69af9ba8431c21d7",
   "outputs": [
    {
     "name": "stdout",
     "output_type": "stream",
     "text": [
      "Единственное решение:\n",
      "1.0\n",
      "2.0\n"
     ]
    }
   ],
   "execution_count": 53
  },
  {
   "metadata": {},
   "cell_type": "markdown",
   "source": [
    "# Easy 2: Центрирование данных\n",
    "$$ X_{centered} = X - X_{mean} $$"
   ],
   "id": "bf5effefacdf830c"
  },
  {
   "metadata": {
    "ExecuteTime": {
     "end_time": "2025-04-22T21:49:05.507243Z",
     "start_time": "2025-04-22T21:49:05.498674Z"
    }
   },
   "cell_type": "code",
   "source": [
    "def get_means(X: Matrix) -> List[float]:\n",
    "    rows = X.rows\n",
    "    cols = X.columns\n",
    "    means = [0.0] * cols\n",
    "\n",
    "    for col in range(1, cols + 1):\n",
    "        for row in range(1, rows + 1):\n",
    "            means[col-1] += X.get(row, col)\n",
    "        means[col-1] /= rows\n",
    "\n",
    "    return means\n",
    "\n",
    "def center_data(X: Matrix) -> Matrix:\n",
    "    means = get_means(X)\n",
    "    centered_data = []\n",
    "\n",
    "    for row in range(1, X.rows + 1):\n",
    "        for col in range(1, X.columns + 1):\n",
    "            val = X.get(row, col)\n",
    "            centered_val = val - means[col-1]\n",
    "            centered_data.append((row-1, col-1, centered_val))\n",
    "\n",
    "    return Matrix(X.rows, X.columns, centered_data)"
   ],
   "id": "89c969bcf77cfb28",
   "outputs": [],
   "execution_count": 54
  },
  {
   "metadata": {},
   "cell_type": "markdown",
   "source": "Сравнение с NumPy:",
   "id": "b7b7c22f21acaf0c"
  },
  {
   "metadata": {
    "ExecuteTime": {
     "end_time": "2025-04-22T21:49:05.577363Z",
     "start_time": "2025-04-22T21:49:05.568526Z"
    }
   },
   "cell_type": "code",
   "source": [
    "X = generate_matrix(3, 3, -3, 3)\n",
    "\n",
    "print(\"Исходная матрица:\")\n",
    "print(X)\n",
    "\n",
    "X_centered = center_data(X)\n",
    "print(\"\\nНаше центрирование:\")\n",
    "print(X_centered)\n",
    "\n",
    "X_np = np.array(get_classic_format(X))\n",
    "centered_np = X_np - X_np.mean(axis=0)\n",
    "\n",
    "print(\"\\nNumPy центрирование:\")\n",
    "print(centered_np)\n"
   ],
   "id": "66902c8d7a853331",
   "outputs": [
    {
     "name": "stdout",
     "output_type": "stream",
     "text": [
      "Исходная матрица:\n",
      "-3.0 -1.0 1.0\n",
      "1.0 -3.0 -2.0\n",
      "1.0 -1.0 0\n",
      "\n",
      "Наше центрирование:\n",
      "-2.6666666666666665 0.6666666666666667 1.3333333333333333\n",
      "1.3333333333333333 -1.3333333333333333 -1.6666666666666667\n",
      "1.3333333333333333 0.6666666666666667 0.3333333333333333\n",
      "\n",
      "NumPy центрирование:\n",
      "[[-2.66666667  0.66666667  1.33333333]\n",
      " [ 1.33333333 -1.33333333 -1.66666667]\n",
      " [ 1.33333333  0.66666667  0.33333333]]\n"
     ]
    }
   ],
   "execution_count": 55
  },
  {
   "metadata": {},
   "cell_type": "markdown",
   "source": [
    "# Easy 3: матрица ковариаций\n",
    "$$ C = \\frac{1}{n-1}X^TX $$"
   ],
   "id": "1a613dda4c406237"
  },
  {
   "metadata": {
    "ExecuteTime": {
     "end_time": "2025-04-22T21:49:05.632158Z",
     "start_time": "2025-04-22T21:49:05.627785Z"
    }
   },
   "cell_type": "code",
   "source": [
    "def covariance_matrix(X_centered: Matrix) -> Matrix:\n",
    "    n = X_centered.rows\n",
    "    p = X_centered.columns\n",
    "    X = get_classic_format(X_centered)\n",
    "\n",
    "    cov_data = []\n",
    "    for i in range(p):\n",
    "        for j in range(p):\n",
    "            cov = sum(X[row][i] * X[row][j] for row in range(n)) / (n - 1)\n",
    "            cov_data.append((i, j, cov))\n",
    "\n",
    "    return Matrix(p, p, cov_data)"
   ],
   "id": "6944dd5213bb902c",
   "outputs": [],
   "execution_count": 56
  },
  {
   "metadata": {},
   "cell_type": "markdown",
   "source": "Сравнение с NumPy:",
   "id": "4b840c2a57bbe638"
  },
  {
   "metadata": {
    "ExecuteTime": {
     "end_time": "2025-04-22T21:49:05.748196Z",
     "start_time": "2025-04-22T21:49:05.732464Z"
    }
   },
   "cell_type": "code",
   "source": [
    "X = generate_matrix(5, 5, -10, 10)\n",
    "\n",
    "X_centered = center_data(X)\n",
    "cov = covariance_matrix(X_centered)\n",
    "\n",
    "X_np = np.array(get_classic_format(X))\n",
    "cov_numpy = np.cov(X_np, rowvar=False, bias=False)\n",
    "\n",
    "print(\"Наш результат:\")\n",
    "print(cov)\n",
    "print(\"\\nNumPy результат:\")\n",
    "print(cov_numpy)\n"
   ],
   "id": "51721815571c6a8e",
   "outputs": [
    {
     "name": "stdout",
     "output_type": "stream",
     "text": [
      "Наш результат:\n",
      "29.700000000000003 -23.95 -21.400000000000002 9.9 7.1\n",
      "-23.95 31.7 17.4 -11.9 -21.35\n",
      "-21.400000000000002 17.4 49.8 10.45 -30.2\n",
      "9.9 -11.9 10.45 14.3 -2.3000000000000007\n",
      "7.1 -21.35 -30.2 -2.3000000000000007 53.3\n",
      "\n",
      "NumPy результат:\n",
      "[[ 29.7  -23.95 -21.4    9.9    7.1 ]\n",
      " [-23.95  31.7   17.4  -11.9  -21.35]\n",
      " [-21.4   17.4   49.8   10.45 -30.2 ]\n",
      " [  9.9  -11.9   10.45  14.3   -2.3 ]\n",
      " [  7.1  -21.35 -30.2   -2.3   53.3 ]]\n"
     ]
    }
   ],
   "execution_count": 57
  },
  {
   "metadata": {},
   "cell_type": "markdown",
   "source": "# Normal 1: Собственные значения",
   "id": "6f953dfd1bf00b1e"
  },
  {
   "metadata": {
    "ExecuteTime": {
     "end_time": "2025-04-22T21:49:05.881475Z",
     "start_time": "2025-04-22T21:49:05.872994Z"
    }
   },
   "cell_type": "code",
   "source": [
    "# поиск корня бисекцией\n",
    "def root_search(f, a, b, tol=1e-6):\n",
    "    fa, fb = f(a), f(b)\n",
    "    if fa * fb > 0:\n",
    "        return None\n",
    "\n",
    "    while (b-a) > tol:\n",
    "        c = (a + b) / 2\n",
    "        fc = f(c)\n",
    "        if abs(fc) < tol:\n",
    "            return c\n",
    "        if fa * fc < 0:\n",
    "            b, fb = c, fc\n",
    "        else:\n",
    "            a, fa = c, fc\n",
    "    return (a + b) / 2\n",
    "\n",
    "# поиск экстремума бисекцией\n",
    "def extremum_search(f, a0, b0, epsilon, delta=1e-10):\n",
    "    a = a0\n",
    "    b = b0\n",
    "    ans = (a + b) / 2\n",
    "\n",
    "    while abs(b - a) > epsilon:\n",
    "        yk = (a + b - delta) / 2\n",
    "        zk = (a + b + delta) / 2\n",
    "\n",
    "        if f(yk) <= f(zk):\n",
    "            b = zk\n",
    "        else:\n",
    "            a = yk\n",
    "\n",
    "        ans = (a + b) / 2\n",
    "    return ans"
   ],
   "id": "b6a7de287a0c2ac2",
   "outputs": [],
   "execution_count": 58
  },
  {
   "metadata": {
    "ExecuteTime": {
     "end_time": "2025-04-22T21:49:05.931825Z",
     "start_time": "2025-04-22T21:49:05.926983Z"
    }
   },
   "cell_type": "code",
   "source": [
    "# функция определителя\n",
    "def determinant(mat):\n",
    "    n = len(mat)\n",
    "    if n == 1:\n",
    "        return mat[0][0]\n",
    "    if n == 2:\n",
    "        return mat[0][0]*mat[1][1] - mat[0][1]*mat[1][0]\n",
    "\n",
    "    det = 0\n",
    "    for col in range(n):\n",
    "        minor = [row[:col] + row[col+1:] for row in mat[1:]]\n",
    "        det += (-1)**col * mat[0][col] * determinant(minor)\n",
    "\n",
    "    return det"
   ],
   "id": "8c7cb43b28d4254e",
   "outputs": [],
   "execution_count": 59
  },
  {
   "metadata": {
    "ExecuteTime": {
     "end_time": "2025-04-22T21:49:05.967339Z",
     "start_time": "2025-04-22T21:49:05.957275Z"
    }
   },
   "cell_type": "code",
   "source": [
    "# основная функция. поиск собственных значений\n",
    "def find_eigenvalues(C_matrix: 'Matrix', tol: float = 1e-6) -> List[float]:\n",
    "    n = C_matrix.rows\n",
    "    C = get_classic_format(C_matrix)\n",
    "\n",
    "# обычный характеристический полином\n",
    "    def characteristic_poly(lam):\n",
    "        mat = [[C[i][j] - (lam if i == j else 0) for j in range(n)] for i in range(n)]\n",
    "        return determinant(mat)\n",
    "        # чтоб оперативней считалось, потом закомментить\n",
    "        #return np.linalg.det(mat)\n",
    "\n",
    "    # модуль полинома для корней чётной кратности\n",
    "    def poly_abs(lam):\n",
    "        mat = [[C[i][j] - (lam if i == j else 0) for j in range(n)] for i in range(n)]\n",
    "        return abs(determinant(mat))\n",
    "        # чтоб оперативней считалось, потом закомментить\n",
    "        #return abs(np.linalg.det(mat))\n",
    "\n",
    "    # Вычисляем интервал поиска (см теорему Гершгорина)\n",
    "    Gershgorin_intervals = []\n",
    "    for i in range(n):\n",
    "        radius = sum(abs(C[i][j]) for j in range(n) if j != i)\n",
    "        center = C[i][i]\n",
    "        Gershgorin_intervals.append((center - radius, center + radius))\n",
    "\n",
    "    lower = min(interval[0] for interval in Gershgorin_intervals)\n",
    "    upper = max(interval[1] for interval in Gershgorin_intervals)\n",
    "\n",
    "    # Расширяем интервал, ну чтобы понадёжнее\n",
    "    lower -= 3\n",
    "    upper += 3\n",
    "    count = 2*math.ceil(upper - lower)\n",
    "\n",
    "    # непосредственно поиск корней\n",
    "    def find_roots(f, fabs, a, b, tol, count):\n",
    "        roots = []\n",
    "        # дробим [a,b] на мелкие подотрезки\n",
    "        step = (b - a) / count\n",
    "\n",
    "        x_prev = a\n",
    "        f_prev = f(x_prev)\n",
    "\n",
    "        # пробегаем по каждому маленькому отрезку\n",
    "        for i in range(1, count+1):\n",
    "            x = a + i * step\n",
    "            fx = f(x)\n",
    "\n",
    "            # если попали в корень\n",
    "            if abs(fx) < tol:\n",
    "                roots.append(x)\n",
    "            # если функция меняет знак, ищем корень\n",
    "            # если не меняет, смотрим экстремум для функции-модуля.\n",
    "            if f_prev * fx < 0:\n",
    "                roots.append(root_search(f, x_prev, x, tol))\n",
    "            else:\n",
    "                exst = extremum_search(fabs, x_prev, x, tol)\n",
    "                # если при поиске экстремума «скатились» близко к нулю, то всё ок\n",
    "                if abs(f(exst)) < 0.0001:\n",
    "                  roots.append(exst)\n",
    "\n",
    "            x_prev = x\n",
    "            f_prev = fx\n",
    "\n",
    "        # убираем дубликаты (близкие корни)\n",
    "        unique_roots = [roots[0]]\n",
    "        for i in range(1,len(sorted(roots))):\n",
    "            if not unique_roots or (roots[i] - roots[i-1] > 2*step):\n",
    "                unique_roots.append(roots[i])\n",
    "\n",
    "        return unique_roots\n",
    "\n",
    "    eigenvalues = find_roots(characteristic_poly, poly_abs, lower, upper, tol, count)\n",
    "    return sorted(eigenvalues)[::-1]"
   ],
   "id": "c507473553a4e8f4",
   "outputs": [],
   "execution_count": 60
  },
  {
   "metadata": {
    "ExecuteTime": {
     "end_time": "2025-04-22T21:49:07.023036Z",
     "start_time": "2025-04-22T21:49:05.993960Z"
    }
   },
   "cell_type": "code",
   "source": [
    "C = generate_matrix(5, 5, -10, 10)\n",
    "cov = covariance_matrix(C)\n",
    "print(\"Исходная матрица:\")\n",
    "print(cov)\n",
    "\n",
    "eigenvalues = find_eigenvalues(cov)\n",
    "print(\"\\nНайденные собственные значения:\")\n",
    "for i, val in enumerate(eigenvalues, 1):\n",
    "    print(f\"lambda{i} = {val:.6f}\")\n",
    "\n",
    "np_matrix = get_classic_format(cov)\n",
    "np_eigenvalues = np.linalg.eigvals(np_matrix)\n",
    "print(\"\\nПроверка с numpy:\")\n",
    "for i, val in enumerate(sorted(np_eigenvalues, reverse=True), 1):\n",
    "    print(f\"lambda{i} = {val:.6f}\")"
   ],
   "id": "186e8f424467fd06",
   "outputs": [
    {
     "name": "stdout",
     "output_type": "stream",
     "text": [
      "Исходная матрица:\n",
      "42.0 -9.5 -21.0 16.0 3.5\n",
      "-9.5 26.75 2.0 14.0 -8.5\n",
      "-21.0 2.0 33.75 -7.0 28.75\n",
      "16.0 14.0 -7.0 52.0 -26.0\n",
      "3.5 -8.5 28.75 -26.0 61.5\n",
      "\n",
      "Найденные собственные значения:\n",
      "lambda1 = 100.527323\n",
      "lambda2 = 55.970895\n",
      "lambda3 = 42.905384\n",
      "lambda4 = 16.496499\n",
      "lambda5 = 0.099900\n",
      "\n",
      "Проверка с numpy:\n",
      "lambda1 = 100.527322\n",
      "lambda2 = 55.970895\n",
      "lambda3 = 42.905384\n",
      "lambda4 = 16.496500\n",
      "lambda5 = 0.099900\n"
     ]
    }
   ],
   "execution_count": 61
  },
  {
   "metadata": {},
   "cell_type": "markdown",
   "source": "# Normal 2: Собственные векторы",
   "id": "b9e52e02e1a143ff"
  },
  {
   "metadata": {
    "ExecuteTime": {
     "end_time": "2025-04-22T21:49:07.041583Z",
     "start_time": "2025-04-22T21:49:07.034858Z"
    }
   },
   "cell_type": "code",
   "source": [
    "def normalize_vector(vect: Matrix) -> Matrix:\n",
    "    vector = get_classic_format(vect)\n",
    "    norm = math.sqrt(sum(x[0] ** 2 for x in vector))\n",
    "    return save_matrix([[x[0] / norm] for x in vector])\n",
    "\n",
    "def find_eigenvectors(C_matrix: Matrix, eigenvalues: List[float], tol = 1e-2) -> List[Matrix]:\n",
    "    n = C_matrix.rows\n",
    "    vectors_list = []\n",
    "\n",
    "    C = get_classic_format(C_matrix)\n",
    "    for lam in eigenvalues:\n",
    "        C_lam = save_matrix([[C[i][j] - (lam if i == j else 0) for j in range(n)] for i in range(n)])\n",
    "        vectors_lam = gauss_solver(C_lam, save_matrix([[0]]*n), tol)\n",
    "        vectors_list += vectors_lam\n",
    "\n",
    "    normalize_list = []\n",
    "    for vectors in vectors_list:\n",
    "        normalize_list.append(normalize_vector(vectors))\n",
    "    return normalize_list"
   ],
   "id": "f8db62dbf3d613c",
   "outputs": [],
   "execution_count": 62
  },
  {
   "metadata": {},
   "cell_type": "markdown",
   "source": "Сравнение с NumPy:",
   "id": "3a247d4cde42de4e"
  },
  {
   "metadata": {
    "ExecuteTime": {
     "end_time": "2025-04-22T21:49:08.493901Z",
     "start_time": "2025-04-22T21:49:07.059892Z"
    }
   },
   "cell_type": "code",
   "source": [
    "# C = save_matrix([[-3, 18, 9, 50, 80],\n",
    "#                [7, -86, -25, -15, 94],\n",
    "#                [-65, 6, -66, 18, 67],\n",
    "#                [22, -1, -39, -41, 87],\n",
    "#                [-85, -3, 26, 2, 22]])\n",
    "C = generate_matrix(5, 5, -10, 10)\n",
    "\n",
    "X_centered = center_data(C)\n",
    "covar = covariance_matrix(X_centered)\n",
    "vals = find_eigenvalues(covar)\n",
    "vects = find_eigenvectors(covar, vals)\n",
    "\n",
    "np_covar = np.cov(get_classic_format(X_centered), rowvar=False)\n",
    "np_vals, np_vects = np.linalg.eig(np_covar)\n",
    "\n",
    "sorted_indices = np.argsort(np_vals)[::-1]\n",
    "np_vals_sorted = np_vals[sorted_indices]\n",
    "np_vects_sorted = np_vects[:, sorted_indices]\n",
    "\n",
    "# Сравнение\n",
    "print(\"Собственные значения:\")\n",
    "print(\"Наши:\", vals)\n",
    "print(\"NumPy:\", np_vals_sorted)\n",
    "\n",
    "print(\"\\nСобственные векторы:\")\n",
    "print(\"Наши:\\n\", vects)\n",
    "print(\"NumPy\\n:\", np_vects_sorted)"
   ],
   "id": "af3295d18cea8bf1",
   "outputs": [
    {
     "name": "stdout",
     "output_type": "stream",
     "text": [
      "Собственные значения:\n",
      "Наши: [138.09548282331346, 63.80788699072235, 33.86025660281279, 3.236373950997173, -9.828684519630243e-08]\n",
      "NumPy: [1.38095483e+02 6.38078870e+01 3.38602562e+01 3.23637358e+00\n",
      " 7.28368998e-15]\n",
      "\n",
      "Собственные векторы:\n",
      "Наши:\n",
      " [0.5915956889965945\n",
      "0.5100196617970332\n",
      "0.3038766592816336\n",
      "-0.5264109682503659\n",
      "0.14298585171488365, -0.5656213823645776\n",
      "0.1221641791419281\n",
      "-0.26248673959882085\n",
      "-0.5115029454722476\n",
      "0.578458134573764, 0.5026093696354432\n",
      "-0.0814319012651479\n",
      "-0.8437118267896893\n",
      "0.04354627833911977\n",
      "0.16433728119030933, 0.02524915181691117\n",
      "0.43008352274764516\n",
      "0.1225591870072234\n",
      "0.6750522033241727\n",
      "0.5862375049933353, 0.27721712761724693\n",
      "-0.7302762798757331\n",
      "0.3345037349764848\n",
      "-0.060643036189984144\n",
      "0.5237145144589225]\n",
      "NumPy\n",
      ": [[ 0.59159569  0.56560721  0.50260937  0.02524912 -0.27721713]\n",
      " [ 0.51001966 -0.12236608 -0.0814319   0.4300836   0.73027627]\n",
      " [ 0.30387666  0.26248016 -0.84371183  0.12255915 -0.33450374]\n",
      " [-0.52641097  0.51149013  0.04354628  0.67505221  0.06064302]\n",
      " [ 0.14298585 -0.57844364  0.16433729  0.58623746 -0.52371453]]\n"
     ]
    }
   ],
   "execution_count": 63
  },
  {
   "metadata": {},
   "cell_type": "markdown",
   "source": "# Normal 3: Доля объяснённой дисперсии",
   "id": "e81a142aa92c6872"
  },
  {
   "metadata": {
    "ExecuteTime": {
     "end_time": "2025-04-22T21:49:08.525695Z",
     "start_time": "2025-04-22T21:49:08.522108Z"
    }
   },
   "cell_type": "code",
   "source": [
    "def explained_variance_ratio(eigenvalues: List[float], k: int) -> float:\n",
    "    return sum(eigenvalues[:k]) / sum(eigenvalues)"
   ],
   "id": "d475b8c53e432f0",
   "outputs": [],
   "execution_count": 64
  },
  {
   "metadata": {},
   "cell_type": "markdown",
   "source": "Сравнение с NumPy:",
   "id": "240dabe614fe4ee3"
  },
  {
   "metadata": {
    "ExecuteTime": {
     "end_time": "2025-04-22T21:49:09.652725Z",
     "start_time": "2025-04-22T21:49:08.564060Z"
    }
   },
   "cell_type": "code",
   "source": [
    "# C = save_matrix([[-3, 18, 9, 50, 80],\n",
    "#                [7, -86, -25, -15, 94],\n",
    "#                [-65, 6, -66, 18, 67],\n",
    "#                [22, -1, -39, -41, 87],\n",
    "#                [-85, -3, 26, 2, 22]])\n",
    "\n",
    "C = generate_matrix(5, 5, -10, 10)\n",
    "X_centered = center_data(C)\n",
    "covar = covariance_matrix(X_centered)\n",
    "vals = find_eigenvalues(covar)\n",
    "\n",
    "\n",
    "np_covar = np.cov(get_classic_format(X_centered), rowvar=False)\n",
    "np_vals = np.linalg.eigvals(np_covar)\n",
    "np_vals_sorted = sorted(np_vals, reverse=True)\n",
    "\n",
    "for k in [1, 3, 5]:\n",
    "    our_ratio = explained_variance_ratio(vals, k)\n",
    "\n",
    "    np_ratio = sum(np_vals_sorted[:k]) / sum(np_vals_sorted)\n",
    "\n",
    "    print(f\"k={k}:\")\n",
    "    print(f\"Наш результат: {our_ratio:.6f}\")\n",
    "    print(f\"NumPy результат: {np_ratio:.6f}\\n\")"
   ],
   "id": "f9d0809a3ffd47f2",
   "outputs": [
    {
     "name": "stdout",
     "output_type": "stream",
     "text": [
      "k=1:\n",
      "Наш результат: 0.582459\n",
      "NumPy результат: 0.582459\n",
      "\n",
      "k=3:\n",
      "Наш результат: 0.976795\n",
      "NumPy результат: 0.976795\n",
      "\n",
      "k=5:\n",
      "Наш результат: 1.000000\n",
      "NumPy результат: 1.000000\n",
      "\n"
     ]
    }
   ],
   "execution_count": 65
  },
  {
   "metadata": {},
   "cell_type": "markdown",
   "source": "# Автоматический выбор числа главных компонент",
   "id": "27daf04d88073178"
  },
  {
   "metadata": {
    "ExecuteTime": {
     "end_time": "2025-04-22T21:49:09.664663Z",
     "start_time": "2025-04-22T21:49:09.660181Z"
    }
   },
   "cell_type": "code",
   "source": [
    "def auto_select_k(eigenvalues: List[float], threshold: float = 0.95) -> int:\n",
    "    min_components = 0\n",
    "    max_components = len(eigenvalues)\n",
    "\n",
    "    while min_components < max_components:\n",
    "        mid = (min_components + max_components) // 2\n",
    "        if explained_variance_ratio(eigenvalues, mid + 1) < threshold:\n",
    "            min_components = mid + 1\n",
    "        else:\n",
    "            max_components = mid\n",
    "    return min_components"
   ],
   "id": "bf1500262df34af1",
   "outputs": [],
   "execution_count": 66
  },
  {
   "metadata": {},
   "cell_type": "markdown",
   "source": "# Hard 1: алгоритм PCA",
   "id": "b5b3242bc73c779d"
  },
  {
   "metadata": {
    "ExecuteTime": {
     "end_time": "2025-04-22T21:49:09.696486Z",
     "start_time": "2025-04-22T21:49:09.691126Z"
    }
   },
   "cell_type": "code",
   "source": [
    "def project_data(X_matrix: Matrix, eigenvectors: List[Matrix], k) -> Tuple[Matrix, Matrix]:\n",
    "    n = X_matrix.rows\n",
    "    X = get_classic_format(X_matrix)\n",
    "    vector_matrix = []\n",
    "\n",
    "    for i in range(n):\n",
    "        row = []\n",
    "        for v in eigenvectors[:k]:\n",
    "            row.append(v.get(i + 1, 1))\n",
    "        vector_matrix.append(row)\n",
    "\n",
    "    vector_matrix = save_matrix(vector_matrix)\n",
    "    projected_X = multiply(X_matrix, vector_matrix)\n",
    "\n",
    "    return projected_X, vector_matrix\n",
    "\n",
    "def pca(X: Matrix, k: int=None, threshold: float=0.95) -> Tuple[Matrix, float, List[Matrix], List[float]]:\n",
    "    # центрирование данных и матрица ковариаций\n",
    "    means = get_means(X)\n",
    "    centered_X = center_data(X)\n",
    "    covar_X = covariance_matrix(centered_X)\n",
    "\n",
    "    # поиск собственных значений и векторов\n",
    "    eigenvals = find_eigenvalues(covar_X)\n",
    "\n",
    "    if k is None:\n",
    "        k = auto_select_k(eigenvals, threshold)\n",
    "\n",
    "    eigenvects = find_eigenvectors(covar_X, eigenvals)\n",
    "\n",
    "    # проекция данных на главные компоненты\n",
    "    projected_X, vector_matrix = project_data(centered_X, eigenvects, k)\n",
    "    dispersion_res = explained_variance_ratio(eigenvals, k)\n",
    "\n",
    "    return projected_X, dispersion_res, vector_matrix, means"
   ],
   "id": "609f9a3b17e19bb7",
   "outputs": [],
   "execution_count": 67
  },
  {
   "metadata": {
    "ExecuteTime": {
     "end_time": "2025-04-22T21:55:15.469362Z",
     "start_time": "2025-04-22T21:50:09.865117Z"
    }
   },
   "cell_type": "code",
   "source": [
    "# C = save_matrix([[-3, 18, 92, 50, 80], [67, -86, -25, -15, 94], [-65, 60, -66, 18, 67], [22, -1, -39, -41, 87], [-85, -3, 26, 2, 22]])\n",
    "C = generate_matrix(7, 7, -25, 25)\n",
    "my_res = pca(C)\n",
    "print(f\"Наш результат: {my_res[0]}\")\n",
    "\n",
    "pca_import = PCA(n_components=3)\n",
    "data_pca = pca_import.fit_transform(get_classic_format(C))\n",
    "print(f\"\\nСравнение с sklearn (3 компоненты): {data_pca}\")\n"
   ],
   "id": "a0657ae80f7a7a09",
   "outputs": [
    {
     "name": "stdout",
     "output_type": "stream",
     "text": [
      "Наш результат: -6.137666380877389 -20.231629519485494 2.564990545109094 7.66051836420789\n",
      "-34.71369330241873 11.949440059061452 -8.07964508518787 -8.086459916345028\n",
      "43.06640933769265 20.403652476289793 11.296378961107175 -13.933898601634727\n",
      "3.5917222284503905 8.815715704476792 13.767271172062253 24.62868764197287\n",
      "28.868282699845217 -15.431962449554288 -26.86310304988686 3.388878802868905\n",
      "-12.54974973885231 -30.917453381975527 14.270144029184621 -12.74934723541231\n",
      "-22.125304843839825 25.412237111187274 -6.956036572388415 -0.9083790556576019\n",
      "\n",
      "Сравнение с sklearn (3 компоненты): [[ -6.13766638  20.23162951   2.56499054]\n",
      " [-34.71369331 -11.94944007  -8.07964509]\n",
      " [ 43.06640933 -20.40365247  11.29637899]\n",
      " [  3.59172223  -8.81571569  13.76727112]\n",
      " [ 28.8682827   15.43196246 -26.86310306]\n",
      " [-12.54974974  30.91745338  14.27014406]\n",
      " [-22.12530485 -25.41223712  -6.95603656]]\n"
     ]
    }
   ],
   "execution_count": 72
  },
  {
   "metadata": {
    "ExecuteTime": {
     "end_time": "2025-04-22T21:49:15.017161Z",
     "start_time": "2025-04-22T21:49:15.012289Z"
    }
   },
   "cell_type": "code",
   "source": [
    "def inverse_pca(X: Matrix, k: int) -> List[List[float]]:\n",
    "    projection, dispersion, eigenvectors, means = pca(X, k)\n",
    "\n",
    "    X_new = get_classic_format(multiply(projection, transpose(eigenvectors)))\n",
    "\n",
    "    reconstructed_X = []\n",
    "    for row in X_new:\n",
    "        reconstructed_row = [row[j] + means[j] for j in range(len(row))]\n",
    "        reconstructed_X.append(reconstructed_row)\n",
    "\n",
    "    return reconstructed_X\n",
    "def reconstruction_error(X_orig: Matrix, X_recon: List[List[float]]) -> float:\n",
    "    n, m = X_orig.rows, X_orig.columns\n",
    "    error = 0\n",
    "    for i in range(1, n + 1):\n",
    "        for j in range(1, m + 1):\n",
    "            error += (X_orig.get(i, j) - X_recon[i-1][j-1])**2\n",
    "\n",
    "    error *= 1 / (n * m)\n",
    "    return error"
   ],
   "id": "1e9d7ad22ba2867f",
   "outputs": [],
   "execution_count": 69
  },
  {
   "metadata": {
    "ExecuteTime": {
     "end_time": "2025-04-22T21:57:03.416944Z",
     "start_time": "2025-04-22T21:56:04.312259Z"
    }
   },
   "cell_type": "code",
   "source": [
    "C = save_matrix([[-3, 18, 92, 50, 80], [67, -86, -25, -15, 94], [-65, 60, -66, 18, 67], [22, -1, -39, -41, 87], [-85, -3, 26, 2, 22]])\n",
    "new_C = inverse_pca(C, 4)\n",
    "error = reconstruction_error(C, new_C)\n",
    "\n",
    "print('\\nИсходное:')\n",
    "print(C)\n",
    "\n",
    "print('\\nВосстановленное по k компонентам:')\n",
    "for row in new_C:\n",
    "  print(row)\n",
    "\n",
    "print(f'\\nОшибка: {error}')"
   ],
   "id": "5b90840f2045dec4",
   "outputs": [
    {
     "name": "stdout",
     "output_type": "stream",
     "text": [
      "\n",
      "Исходное:\n",
      "-3.0 18.0 92.0 50.0 80.0\n",
      "67.0 -86.0 -25.0 -15.0 94.0\n",
      "-65.0 60.0 -66.0 18.0 67.0\n",
      "22.0 -1.0 -39.0 -41.0 87.0\n",
      "-85.0 -3.0 26.0 2.0 22.0\n",
      "\n",
      "Восстановленное по k компонентам:\n",
      "[-2.9999999972102884, 17.99999999871177, 92.0000000023533, 49.999999997266805, 79.99999999825232]\n",
      "[67.00000000331606, -85.99999998408519, -25.00000000190448, -14.999999999641659, 94.00000000895466]\n",
      "[-65.00000000208341, 59.99999998593602, -65.99999999820913, 17.999999995364753, 66.99999999450696]\n",
      "[22.00000001176821, -0.9999999924741085, -39.00000000158656, -41.000000000350674, 86.9999999996617]\n",
      "[-85.00000001579058, -3.0000000080884934, 25.999999999346876, 2.000000007360783, 21.999999998624354]\n",
      "\n",
      "Ошибка: 4.799505078124077e-17\n"
     ]
    }
   ],
   "execution_count": 73
  },
  {
   "metadata": {},
   "cell_type": "markdown",
   "source": "# Визуализация проекции данных",
   "id": "8bd63ea7b9afdeeb"
  },
  {
   "metadata": {
    "ExecuteTime": {
     "end_time": "2025-04-22T21:59:28.907579Z",
     "start_time": "2025-04-22T21:59:28.900427Z"
    }
   },
   "cell_type": "code",
   "source": [
    "def plot_pca_projection(X_proj: Matrix) -> Figure:\n",
    "    x = [X_proj.get(i+1, 1) for i in range(X_proj.rows)]\n",
    "    y = [X_proj.get(i+1, 2) for i in range(X_proj.rows)]\n",
    "\n",
    "    fig, ax = plt.subplots(figsize=(10, 7))\n",
    "    ax.scatter(x, y, s=50, linewidth=0.8)\n",
    "\n",
    "    for i in range(len(x)):\n",
    "        ax.text(x[i] + 0.1, y[i] + 0.1, str(i+1), color='darkred')\n",
    "\n",
    "    ax.set_title(\"Проекция данных на первые 2 главные компоненты\")\n",
    "    ax.set_xlabel(\"PC1 (Главная компонента 1)\")\n",
    "    ax.set_ylabel(\"PC2 (Главная компонента 2)\")\n",
    "\n",
    "    ax.grid(True, linestyle=':', alpha=0.5)\n",
    "    ax.axhline(0, color='grey', linewidth=0.5)\n",
    "    ax.axvline(0, color='grey', linewidth=0.5)\n",
    "\n",
    "    return fig"
   ],
   "id": "7aa253b5fa2e620d",
   "outputs": [],
   "execution_count": 74
  },
  {
   "metadata": {
    "ExecuteTime": {
     "end_time": "2025-04-22T22:00:42.041806Z",
     "start_time": "2025-04-22T21:59:39.869186Z"
    }
   },
   "cell_type": "code",
   "source": [
    "C_data = [[-3, 18, 92, 50, 80],\n",
    "          [67, -86, -25, -15, 94],\n",
    "          [-65, 60, -66, 18, 67],\n",
    "          [22, -1, -39, -41, 87],\n",
    "          [-85, -3, 26, 2, 22]]\n",
    "\n",
    "C = save_matrix(C_data)\n",
    "\n",
    "new_C = pca(C)[0]"
   ],
   "id": "3af3e7798419ca2c",
   "outputs": [],
   "execution_count": 76
  },
  {
   "metadata": {
    "ExecuteTime": {
     "end_time": "2025-04-22T22:00:42.237723Z",
     "start_time": "2025-04-22T22:00:42.096974Z"
    }
   },
   "cell_type": "code",
   "source": [
    "fig = plot_pca_projection(new_C)\n",
    "plt.show()"
   ],
   "id": "60b9023a340c2933",
   "outputs": [
    {
     "data": {
      "text/plain": [
       "<Figure size 1000x700 with 1 Axes>"
      ],
      "image/png": "[encoded data removed]"
     },
     "metadata": {},
     "output_type": "display_data"
    }
   ],
   "execution_count": 77
  }
 ],
 "metadata": {
  "kernelspec": {
   "display_name": "Python 3",
   "language": "python",
   "name": "python3"
  },
  "language_info": {
   "codemirror_mode": {
    "name": "ipython",
    "version": 2
   },
   "file_extension": ".py",
   "mimetype": "text/x-python",
   "name": "python",
   "nbconvert_exporter": "python",
   "pygments_lexer": "ipython2",
   "version": "2.7.6"
  },
  "colab": {
   "provenance": []
  }
 },
 "nbformat": 4,
 "nbformat_minor": 5
}
