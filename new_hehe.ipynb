{
 "cells": [
  {
   "cell_type": "code",
   "id": "initial_id",
   "metadata": {
    "collapsed": true,
    "ExecuteTime": {
     "end_time": "2025-04-20T18:31:14.102643Z",
     "start_time": "2025-04-20T18:31:14.096808Z"
    }
   },
   "source": [
    "from matrix import *\n",
    "import numpy as np\n",
    "import math\n",
    "import random\n",
    "from typing import List\n",
    "random.seed(57)\n",
    "\n",
    "def generate_matrix(rows, cols, min_val, max_val):\n",
    "    return save_matrix([[random.randint(min_val, max_val) for i in range(cols)] for j in range(rows)])"
   ],
   "outputs": [],
   "execution_count": 30
  },
  {
   "metadata": {},
   "cell_type": "markdown",
   "source": "# Easy 1: Метод Гаусса",
   "id": "5cfffe357af353fe"
  },
  {
   "metadata": {
    "ExecuteTime": {
     "end_time": "2025-04-20T18:31:14.145829Z",
     "start_time": "2025-04-20T18:31:14.132695Z"
    }
   },
   "cell_type": "code",
   "source": [
    "def gauss_solver(A: Matrix, b: Matrix, tol: float = 1e-5) -> List[Matrix]:\n",
    "    if A.rows != b.rows or b.columns != 1:\n",
    "        raise ValueError(\"Размеры A и b не согласованы\")\n",
    "\n",
    "    n, m = A.rows, A.columns\n",
    "    # преобразуем в плотный формат\n",
    "    classic_A = get_classic_format(A)\n",
    "    classic_b = get_classic_format(b)\n",
    "\n",
    "    Ab = [row.copy() + [classic_b[i][0]] for i, row in enumerate(classic_A)]\n",
    "\n",
    "    rank = 0\n",
    "    # Прямой ход Гаусса\n",
    "    for col in range(m):\n",
    "        max_row = rank\n",
    "        for row in range(rank + 1, n):\n",
    "            if abs(Ab[row][col]) > abs(Ab[max_row][col]):\n",
    "                max_row = row\n",
    "\n",
    "        # Если максимальный элемент равен нулю, скипаем столбец\n",
    "        if abs(Ab[max_row][col]) < tol:\n",
    "            continue\n",
    "\n",
    "        # Меняем строки местами\n",
    "        Ab[rank], Ab[max_row] = Ab[max_row], Ab[rank]\n",
    "\n",
    "        # Нормализация строки\n",
    "        pivot = Ab[rank][col]\n",
    "        for j in range(col, m + 1):\n",
    "            Ab[rank][j] /= pivot\n",
    "\n",
    "        # Исключаем переменную из других строк\n",
    "        for i in range(n):\n",
    "            if i != rank and abs(Ab[i][col]) > tol:\n",
    "                factor = Ab[i][col]\n",
    "                for j in range(col, m + 1):\n",
    "                    Ab[i][j] -= factor * Ab[rank][j]\n",
    "\n",
    "        rank += 1\n",
    "        if rank == n:\n",
    "            break\n",
    "\n",
    "    # Проверяем совместность\n",
    "    for i in range(rank, n):\n",
    "        if abs(Ab[i][m]) > tol:\n",
    "            raise ValueError(\"Система несовместна\")\n",
    "\n",
    "    # Обратный ход Гаусса\n",
    "    solutions = []\n",
    "    free_vars = []\n",
    "    lead_vars = [-1] * m\n",
    "\n",
    "    # Определяем свободные переменные\n",
    "    for i in range(rank):\n",
    "        for j in range(m):\n",
    "            if abs(Ab[i][j]) > tol:\n",
    "                lead_vars[j] = i\n",
    "                break\n",
    "\n",
    "    for j in range(m):\n",
    "        if lead_vars[j] == -1:\n",
    "            free_vars.append(j)\n",
    "\n",
    "    # Если свободных нет - единственное решение\n",
    "    if not free_vars:\n",
    "        solution = [[0.0] for _ in range(m)]\n",
    "        for i in range(rank):\n",
    "            for j in range(m):\n",
    "                if abs(Ab[i][j]) > tol:\n",
    "                    solution[j][0] = Ab[i][m]\n",
    "                    break\n",
    "\n",
    "        sol = [(i, 0, solution[i][0]) for i in range(m) if abs(solution[i][0]) > tol]\n",
    "        return [Matrix(m, 1, sol)]\n",
    "\n",
    "    # Если свободные есть - строим базис\n",
    "    for free in free_vars:\n",
    "        vec = [[0.0] for _ in range(m)]\n",
    "        vec[free][0] = 1.0\n",
    "\n",
    "        for i in range(rank):\n",
    "            for j in range(m):\n",
    "                if abs(Ab[i][j]) > tol:\n",
    "                    sum_ax = 0.0\n",
    "                    for k in range(j + 1, m):\n",
    "                        sum_ax += Ab[i][k] * vec[k][0]\n",
    "                    vec[j][0] = Ab[i][m] - sum_ax\n",
    "                    break\n",
    "\n",
    "        basis = [(i, 0, vec[i][0]) for i in range(m) if abs(vec[i][0]) > tol]\n",
    "        solutions.append(Matrix(m, 1, basis))\n",
    "\n",
    "    return solutions"
   ],
   "id": "2dea3f4626f181e4",
   "outputs": [],
   "execution_count": 31
  },
  {
   "metadata": {
    "ExecuteTime": {
     "end_time": "2025-04-20T18:31:14.174588Z",
     "start_time": "2025-04-20T18:31:14.165646Z"
    }
   },
   "cell_type": "code",
   "source": [
    "# Пример системы уравнений:\n",
    "# 1x + 2y = 5\n",
    "# 3x + 4y = 11\n",
    "\n",
    "A = save_matrix([[1, 2], [3, 4]])\n",
    "b = save_matrix([[5], [11]])\n",
    "\n",
    "solutions = gauss_solver(A, b)\n",
    "if len(solutions) == 1:\n",
    "    print(\"Единственное решение:\")\n",
    "    print(solutions[0])\n",
    "else:\n",
    "    print(f\"Бесконечно много решений. Базис ФСР (размерность {len(solutions)}):\")\n",
    "    for i, sol in enumerate(solutions):\n",
    "        print(f\"Решение {i+1}:\")\n",
    "        print(sol)"
   ],
   "id": "4a5c374626907803",
   "outputs": [
    {
     "name": "stdout",
     "output_type": "stream",
     "text": [
      "Единственное решение:\n",
      "1.0\n",
      "2.0\n"
     ]
    }
   ],
   "execution_count": 32
  },
  {
   "metadata": {},
   "cell_type": "markdown",
   "source": [
    "# Easy 2: Центрирование данных\n",
    "$$ X_{centered} = X - X_{mean} $$"
   ],
   "id": "e1faa5d89253234"
  },
  {
   "metadata": {
    "ExecuteTime": {
     "end_time": "2025-04-20T18:31:14.206757Z",
     "start_time": "2025-04-20T18:31:14.199989Z"
    }
   },
   "cell_type": "code",
   "source": [
    "def get_means(X: Matrix) -> List[float]:\n",
    "    rows = X.rows\n",
    "    cols = X.columns\n",
    "    means = [0.0] * cols\n",
    "\n",
    "    for col in range(1, cols + 1):\n",
    "        for row in range(1, rows + 1):\n",
    "            means[col-1] += X.get(row, col)\n",
    "        means[col-1] /= rows\n",
    "\n",
    "    return means\n",
    "\n",
    "def center_data(X: Matrix) -> Matrix:\n",
    "    means = get_means(X)\n",
    "    centered_data = []\n",
    "\n",
    "    for row in range(1, X.rows + 1):\n",
    "        for col in range(1, X.columns + 1):\n",
    "            val = X.get(row, col)\n",
    "            centered_val = val - means[col-1]\n",
    "            centered_data.append((row-1, col-1, centered_val))\n",
    "\n",
    "    return Matrix(X.rows, X.columns, centered_data)"
   ],
   "id": "be372d40e9288611",
   "outputs": [],
   "execution_count": 33
  },
  {
   "metadata": {},
   "cell_type": "markdown",
   "source": "Сравнение с NumPy:",
   "id": "793796f2e9909de5"
  },
  {
   "metadata": {
    "ExecuteTime": {
     "end_time": "2025-04-20T18:31:14.256214Z",
     "start_time": "2025-04-20T18:31:14.248841Z"
    }
   },
   "cell_type": "code",
   "source": [
    "X = generate_matrix(3, 3, -3, 3)\n",
    "\n",
    "print(\"Исходная матрица:\")\n",
    "print(X)\n",
    "\n",
    "X_centered = center_data(X)\n",
    "print(\"\\nНаше центрирование:\")\n",
    "print(X_centered)\n",
    "\n",
    "X_np = np.array(get_classic_format(X))\n",
    "centered_np = X_np - X_np.mean(axis=0)\n",
    "\n",
    "print(\"\\nNumPy центрирование:\")\n",
    "print(centered_np)\n"
   ],
   "id": "485e32c3b733ad37",
   "outputs": [
    {
     "name": "stdout",
     "output_type": "stream",
     "text": [
      "Исходная матрица:\n",
      "-3.0 -1.0 1.0\n",
      "1.0 -3.0 -2.0\n",
      "1.0 -1.0 0\n",
      "\n",
      "Наше центрирование:\n",
      "-2.6666666666666665 0.6666666666666667 1.3333333333333333\n",
      "1.3333333333333333 -1.3333333333333333 -1.6666666666666667\n",
      "1.3333333333333333 0.6666666666666667 0.3333333333333333\n",
      "\n",
      "NumPy центрирование:\n",
      "[[-2.66666667  0.66666667  1.33333333]\n",
      " [ 1.33333333 -1.33333333 -1.66666667]\n",
      " [ 1.33333333  0.66666667  0.33333333]]\n"
     ]
    }
   ],
   "execution_count": 34
  },
  {
   "metadata": {},
   "cell_type": "markdown",
   "source": [
    "# Easy 3: матрица ковариаций\n",
    "$$ C = \\frac{1}{n-1}X^TX $$"
   ],
   "id": "f65d5a13cd5005e5"
  },
  {
   "metadata": {
    "ExecuteTime": {
     "end_time": "2025-04-20T18:31:14.297196Z",
     "start_time": "2025-04-20T18:31:14.291530Z"
    }
   },
   "cell_type": "code",
   "source": [
    "def covariance_matrix(X_centered: Matrix) -> Matrix:\n",
    "    n = X_centered.rows\n",
    "    p = X_centered.columns\n",
    "    X = get_classic_format(X_centered)\n",
    "\n",
    "    cov_data = []\n",
    "    for i in range(p):\n",
    "        for j in range(p):\n",
    "            cov = sum(X[row][i] * X[row][j] for row in range(n)) / (n - 1)\n",
    "            cov_data.append((i, j, cov))\n",
    "\n",
    "    return Matrix(p, p, cov_data)"
   ],
   "id": "6d33b20ff67c81cb",
   "outputs": [],
   "execution_count": 35
  },
  {
   "metadata": {},
   "cell_type": "markdown",
   "source": "Сравнение с NumPy:",
   "id": "d41bbfb7fbd72394"
  },
  {
   "metadata": {
    "ExecuteTime": {
     "end_time": "2025-04-20T18:31:14.379271Z",
     "start_time": "2025-04-20T18:31:14.371886Z"
    }
   },
   "cell_type": "code",
   "source": [
    "# Тестовые данные\n",
    "data = [[1, 2, 3],\n",
    "        [4, 5, 6],\n",
    "        [7, 8, 9]]\n",
    "X = save_matrix(data)\n",
    "\n",
    "\n",
    "X_centered = center_data(X)\n",
    "cov = covariance_matrix(X_centered)\n",
    "\n",
    "X_np = np.array(data)\n",
    "cov_numpy = np.cov(X_np, rowvar=False, bias=False)\n",
    "\n",
    "\n",
    "print(\"Наш результат:\")\n",
    "print(cov)\n",
    "print(\"\\nNumPy результат:\")\n",
    "print(cov_numpy)\n"
   ],
   "id": "c2651eb3efbe6391",
   "outputs": [
    {
     "name": "stdout",
     "output_type": "stream",
     "text": [
      "Наш результат:\n",
      "9.0 9.0 9.0\n",
      "9.0 9.0 9.0\n",
      "9.0 9.0 9.0\n",
      "\n",
      "NumPy результат:\n",
      "[[9. 9. 9.]\n",
      " [9. 9. 9.]\n",
      " [9. 9. 9.]]\n"
     ]
    }
   ],
   "execution_count": 36
  },
  {
   "metadata": {},
   "cell_type": "markdown",
   "source": "# Normal 1: Собственные значения",
   "id": "2bae9e665594bdfe"
  },
  {
   "metadata": {
    "ExecuteTime": {
     "end_time": "2025-04-20T18:31:14.425159Z",
     "start_time": "2025-04-20T18:31:14.417980Z"
    }
   },
   "cell_type": "code",
   "source": [
    "# поиск корня бисекцией\n",
    "def root_search(f, a, b, tol=1e-6):\n",
    "    fa, fb = f(a), f(b)\n",
    "    if fa * fb > 0:\n",
    "        return None\n",
    "\n",
    "    while (b-a) > tol:\n",
    "        c = (a + b) / 2\n",
    "        fc = f(c)\n",
    "        if abs(fc) < tol:\n",
    "            return c\n",
    "        if fa * fc < 0:\n",
    "            b, fb = c, fc\n",
    "        else:\n",
    "            a, fa = c, fc\n",
    "    return (a + b) / 2\n",
    "\n",
    "# поиск экстремума бисекцией\n",
    "def extremum_search(f, a0, b0, epsilon, delta=1e-10):\n",
    "    a = a0\n",
    "    b = b0\n",
    "    ans = (a + b) / 2\n",
    "\n",
    "    while abs(b - a) > epsilon:\n",
    "        yk = (a + b - delta) / 2\n",
    "        zk = (a + b + delta) / 2\n",
    "\n",
    "        if f(yk) <= f(zk):\n",
    "            b = zk\n",
    "        else:\n",
    "            a = yk\n",
    "\n",
    "        ans = (a + b) / 2\n",
    "    return ans"
   ],
   "id": "68bc4a5377b3f503",
   "outputs": [],
   "execution_count": 37
  },
  {
   "metadata": {
    "ExecuteTime": {
     "end_time": "2025-04-20T18:31:14.507489Z",
     "start_time": "2025-04-20T18:31:14.493045Z"
    }
   },
   "cell_type": "code",
   "source": [
    "# основная функция. поиск собственных значений\n",
    "def find_eigenvalues(C_matrix: 'Matrix', tol: float = 1e-6) -> List[float]:\n",
    "    n = C_matrix.rows\n",
    "    C = get_classic_format(C_matrix)\n",
    "\n",
    "# обычный характеристический полином\n",
    "    def characteristic_poly(lam):\n",
    "        mat = [[C[i][j] - (lam if i == j else 0) for j in range(n)] for i in range(n)]\n",
    "        #return determinant(mat)\n",
    "        # чтоб оперативней считалось, потом закомментить\n",
    "        return np.linalg.det(mat)\n",
    "\n",
    "    # модуль полинома для корней чётной кратности\n",
    "    def poly_abs(lam):\n",
    "        mat = [[C[i][j] - (lam if i == j else 0) for j in range(n)] for i in range(n)]\n",
    "        #return abs(determinant(mat))\n",
    "        # чтоб оперативней считалось, потом закомментить\n",
    "        return abs(np.linalg.det(mat))\n",
    "\n",
    "    # Вычисляем интервал поиска (см теорему Гершгорина)\n",
    "    Gershgorin_intervals = []\n",
    "    for i in range(n):\n",
    "        radius = sum(abs(C[i][j]) for j in range(n) if j != i)\n",
    "        center = C[i][i]\n",
    "        Gershgorin_intervals.append((center - radius, center + radius))\n",
    "\n",
    "    lower = min(interval[0] for interval in Gershgorin_intervals)\n",
    "    upper = max(interval[1] for interval in Gershgorin_intervals)\n",
    "\n",
    "    # Расширяем интервал, ну чтобы понадёжнее\n",
    "    lower -= 3\n",
    "    upper += 3\n",
    "    count = max(100, 10 * n)\n",
    "\n",
    "    # непосредственно поиск корней\n",
    "    def find_roots(f, fabs, a, b, tol, count):\n",
    "        roots = []\n",
    "        # дробим [a,b] на мелкие подотрезки\n",
    "        step = (b - a) / count\n",
    "\n",
    "        x_prev = a\n",
    "        f_prev = f(x_prev)\n",
    "\n",
    "        # пробегаем по каждому маленькому отрезку\n",
    "        for i in range(1, count+1):\n",
    "            x = a + i * step\n",
    "            fx = f(x)\n",
    "\n",
    "            # если попали в корень\n",
    "            if abs(fx) < tol:\n",
    "                roots.append(x)\n",
    "            # если функция меняет знак, ищем корень\n",
    "            # если не меняет, смотрим экстремум для функции-модуля.\n",
    "            if f_prev * fx < 0:\n",
    "                roots.append(root_search(f, x_prev, x, tol))\n",
    "            else:\n",
    "                exst = extremum_search(fabs, x_prev, x, tol)\n",
    "                # если при поиске экстремума «скатились» близко к нулю, то всё ок\n",
    "                if abs(f(exst)) < 0.0001:\n",
    "                  roots.append(exst)\n",
    "\n",
    "            x_prev = x\n",
    "            f_prev = fx\n",
    "\n",
    "        # убираем дубликаты (близкие корни)\n",
    "        unique_roots = [roots[0]]\n",
    "        for i in range(1,len(sorted(roots))):\n",
    "            if not unique_roots or (roots[i] - roots[i-1] > 2*step):\n",
    "                unique_roots.append(roots[i])\n",
    "\n",
    "        return unique_roots\n",
    "\n",
    "    eigenvalues = find_roots(characteristic_poly, poly_abs, lower, upper, tol, count)\n",
    "    return sorted(eigenvalues)[::-1]"
   ],
   "id": "cb75febc1116ae4f",
   "outputs": [],
   "execution_count": 38
  },
  {
   "metadata": {
    "ExecuteTime": {
     "end_time": "2025-04-20T18:31:14.587286Z",
     "start_time": "2025-04-20T18:31:14.543644Z"
    }
   },
   "cell_type": "code",
   "source": [
    "C = generate_matrix(3, 3, 1, 2)\n",
    "print(\"Исходная матрица:\")\n",
    "print(C)\n",
    "\n",
    "eigenvalues = find_eigenvalues(C)\n",
    "print(\"\\nНайденные собственные значения:\")\n",
    "for i, val in enumerate(eigenvalues, 1):\n",
    "    print(f\"lambda{i} = {val:.6f}\")\n",
    "\n",
    "np_matrix = get_classic_format(C)\n",
    "np_eigenvalues = np.linalg.eigvals(np_matrix)\n",
    "print(\"\\nПроверка с numpy:\")\n",
    "for i, val in enumerate(sorted(np_eigenvalues, reverse=True), 1):\n",
    "    print(f\"lambda{i} = {val:.6f}\")"
   ],
   "id": "5b302bc4d70dd502",
   "outputs": [
    {
     "name": "stdout",
     "output_type": "stream",
     "text": [
      "Исходная матрица:\n",
      "2.0 2.0 2.0\n",
      "1.0 1.0 2.0\n",
      "2.0 2.0 1.0\n",
      "\n",
      "Найденные собственные значения:\n",
      "lambda1 = 5.000000\n",
      "lambda2 = 0.000000\n",
      "lambda3 = -1.000000\n",
      "\n",
      "Проверка с numpy:\n",
      "lambda1 = 5.000000\n",
      "lambda2 = -0.000000\n",
      "lambda3 = -1.000000\n"
     ]
    }
   ],
   "execution_count": 39
  },
  {
   "metadata": {},
   "cell_type": "markdown",
   "source": "# Normal 2: Собственные векторы",
   "id": "20a093ad07146da5"
  },
  {
   "metadata": {
    "ExecuteTime": {
     "end_time": "2025-04-20T18:31:14.605714Z",
     "start_time": "2025-04-20T18:31:14.597853Z"
    }
   },
   "cell_type": "code",
   "source": [
    "def normalize_vector(vect: Matrix) -> Matrix:\n",
    "    vector = get_classic_format(vect)\n",
    "    norm = math.sqrt(sum(x[0] ** 2 for x in vector))\n",
    "    return save_matrix([[x[0] / norm] for x in vector])\n",
    "\n",
    "def find_eigenvectors(C_matrix: Matrix, eigenvalues: List[float], tol = 1e-2) -> List[Matrix]:\n",
    "    n = C_matrix.rows\n",
    "    vectors_list = []\n",
    "\n",
    "    C = get_classic_format(C_matrix)\n",
    "    for lam in eigenvalues:\n",
    "        C_lam = save_matrix([[C[i][j] - (lam if i == j else 0) for j in range(n)] for i in range(n)])\n",
    "        vectors_lam = gauss_solver(C_lam, save_matrix([[0]]*n), tol)\n",
    "        vectors_list += vectors_lam\n",
    "\n",
    "    normalize_list = []\n",
    "    for vectors in vectors_list:\n",
    "        normalize_list.append(normalize_vector(vectors))\n",
    "    return normalize_list"
   ],
   "id": "603da299679b2ed1",
   "outputs": [],
   "execution_count": 40
  },
  {
   "metadata": {},
   "cell_type": "markdown",
   "source": "Сравнение с NumPy:",
   "id": "b842a326b3718e47"
  },
  {
   "metadata": {
    "ExecuteTime": {
     "end_time": "2025-04-20T18:31:14.728035Z",
     "start_time": "2025-04-20T18:31:14.646989Z"
    }
   },
   "cell_type": "code",
   "source": [
    "C = save_matrix([[-3, 18, 9, 50, 80],\n",
    "               [7, -86, -25, -15, 94],\n",
    "               [-65, 6, -66, 18, 67],\n",
    "               [22, -1, -39, -41, 87],\n",
    "               [-85, -3, 26, 2, 22]])\n",
    "\n",
    "X_centered = center_data(C)\n",
    "covar = covariance_matrix(X_centered)\n",
    "vals = find_eigenvalues(covar)\n",
    "vects = find_eigenvectors(covar, vals, 1e-2)\n",
    "\n",
    "np_covar = np.cov(get_classic_format(X_centered), rowvar=False)\n",
    "np_vals, np_vects = np.linalg.eig(np_covar)\n",
    "\n",
    "sorted_indices = np.argsort(np_vals)[::-1]\n",
    "np_vals_sorted = np_vals[sorted_indices]\n",
    "np_vects_sorted = np_vects[:, sorted_indices]\n",
    "\n",
    "# Сравнение\n",
    "print(\"Собственные значения:\")\n",
    "print(\"Наши:\", vals)\n",
    "print(\"NumPy:\", np_vals_sorted)\n",
    "\n",
    "print(\"Наши:\", np_vects_sorted)\n",
    "print(\"NumPy:\", vects)\n",
    "\n"
   ],
   "id": "79703fdf3c6a8bbb",
   "outputs": [
    {
     "name": "stdout",
     "output_type": "stream",
     "text": [
      "Собственные значения:\n",
      "Наши: [3726.2397330184986, 1519.9276982215451, 1311.9728817286677, 751.4596866568662, -1.715086294982136e-07]\n",
      "NumPy: [ 3.72623973e+03  1.51992770e+03  1.31197288e+03  7.51459687e+02\n",
      " -1.81177772e-13]\n",
      "Наши: [[-0.68384366  0.43137162 -0.37033079 -0.17831082  0.42111368]\n",
      " [ 0.42365012  0.74928182  0.17719889 -0.46200595 -0.11936664]\n",
      " [ 0.27550092 -0.13694744 -0.87798761 -0.23306736 -0.28312896]\n",
      " [ 0.31935569  0.40121405 -0.24540173  0.79084645  0.22666961]\n",
      " [-0.4183176   0.26975538  0.0192721   0.27385626 -0.82272338]]\n",
      "NumPy: [0.6838436577211879\n",
      "-0.4236501164027639\n",
      "-0.27550092389826764\n",
      "-0.3193556887865307\n",
      "0.41831760139553414, 0.43137162279175784\n",
      "0.7492818176077534\n",
      "-0.13694744114231064\n",
      "0.40121405016732736\n",
      "0.26975538023425893, -0.3703307906465555\n",
      "0.1771988900753271\n",
      "-0.8779876066034304\n",
      "-0.2454017271334847\n",
      "0.019272099674185326, -0.1783108244042088\n",
      "-0.4620059473645255\n",
      "-0.23306735863258163\n",
      "0.7908464515463494\n",
      "0.2738562595900961, -0.42111367842028113\n",
      "0.11936663973317065\n",
      "0.2831289604445456\n",
      "-0.2266696107328558\n",
      "0.8227233766546068]\n"
     ]
    }
   ],
   "execution_count": 41
  },
  {
   "metadata": {},
   "cell_type": "markdown",
   "source": "# Normal 3: Доля объяснённой дисперсии",
   "id": "a3c4a89b955241a8"
  },
  {
   "metadata": {
    "ExecuteTime": {
     "end_time": "2025-04-20T18:31:14.762790Z",
     "start_time": "2025-04-20T18:31:14.758501Z"
    }
   },
   "cell_type": "code",
   "source": [
    "def explained_variance_ratio(eigenvalues: List[float], k: int) -> float:\n",
    "    return sum(eigenvalues[:k]) / sum(eigenvalues)"
   ],
   "id": "c34b22d18b31e9c2",
   "outputs": [],
   "execution_count": 42
  },
  {
   "metadata": {},
   "cell_type": "markdown",
   "source": "Сравнение с NumPy:",
   "id": "4d9060b7d7b29d1b"
  },
  {
   "metadata": {
    "ExecuteTime": {
     "end_time": "2025-04-20T18:31:14.875521Z",
     "start_time": "2025-04-20T18:31:14.794366Z"
    }
   },
   "cell_type": "code",
   "source": [
    "C = save_matrix([[-3, 18, 9, 50, 80],\n",
    "               [7, -86, -25, -15, 94],\n",
    "               [-65, 6, -66, 18, 67],\n",
    "               [22, -1, -39, -41, 87],\n",
    "               [-85, -3, 26, 2, 22]])\n",
    "\n",
    "X_centered = center_data(C)\n",
    "covar = covariance_matrix(X_centered)\n",
    "vals = find_eigenvalues(covar)\n",
    "\n",
    "\n",
    "np_covar = np.cov(get_classic_format(X_centered), rowvar=False)\n",
    "np_vals = np.linalg.eigvals(np_covar)\n",
    "np_vals_sorted = sorted(np_vals, reverse=True)\n",
    "\n",
    "for k in [1, 3, 5]:\n",
    "    our_ratio = explained_variance_ratio(vals, k)\n",
    "\n",
    "    np_ratio = sum(np_vals_sorted[:k]) / sum(np_vals_sorted)\n",
    "\n",
    "    print(f\"k={k}:\")\n",
    "    print(f\"Наш результат: {our_ratio:.6f}\")\n",
    "    print(f\"NumPy результат: {np_ratio:.6f}\\n\")"
   ],
   "id": "bf5ff4f6c80c334c",
   "outputs": [
    {
     "name": "stdout",
     "output_type": "stream",
     "text": [
      "k=1:\n",
      "Наш результат: 0.509773\n",
      "NumPy результат: 0.509773\n",
      "\n",
      "k=3:\n",
      "Наш результат: 0.897196\n",
      "NumPy результат: 0.897196\n",
      "\n",
      "k=5:\n",
      "Наш результат: 1.000000\n",
      "NumPy результат: 1.000000\n",
      "\n"
     ]
    }
   ],
   "execution_count": 43
  },
  {
   "metadata": {
    "ExecuteTime": {
     "end_time": "2025-04-20T18:31:14.885393Z",
     "start_time": "2025-04-20T18:31:14.882860Z"
    }
   },
   "cell_type": "code",
   "source": "",
   "id": "451dfa3d96b38f41",
   "outputs": [],
   "execution_count": null
  }
 ],
 "metadata": {
  "kernelspec": {
   "display_name": "Python 3",
   "language": "python",
   "name": "python3"
  },
  "language_info": {
   "codemirror_mode": {
    "name": "ipython",
    "version": 2
   },
   "file_extension": ".py",
   "mimetype": "text/x-python",
   "name": "python",
   "nbconvert_exporter": "python",
   "pygments_lexer": "ipython2",
   "version": "2.7.6"
  }
 },
 "nbformat": 4,
 "nbformat_minor": 5
}
