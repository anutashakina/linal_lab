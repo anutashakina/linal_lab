{
 "cells": [
  {
   "cell_type": "code",
   "id": "initial_id",
   "metadata": {
    "collapsed": true,
    "ExecuteTime": {
     "end_time": "2025-04-21T22:06:43.962274Z",
     "start_time": "2025-04-21T22:06:43.956138Z"
    }
   },
   "source": [
    "from matrix import *\n",
    "import numpy as np\n",
    "import math\n",
    "import random\n",
    "from typing import List, Tuple\n",
    "random.seed(57)\n",
    "\n",
    "def generate_matrix(rows, cols, min_val, max_val):\n",
    "    return save_matrix([[random.randint(min_val, max_val) for i in range(cols)] for j in range(rows)])"
   ],
   "outputs": [],
   "execution_count": 382
  },
  {
   "metadata": {},
   "cell_type": "markdown",
   "source": [
    "# Expert 1\n",
    "Доказать, что оптимальные направления PCA совпадают с собственными векторами матрицы ковариаций. Оптимальные направления означают максимальную дисперсию.\n",
    "\n",
    "Ковариация: $Cov (X, Y) = (X, Y) = X^T Y$ (скалярное умножение)\n",
    "\n",
    "Дисперсия: $Dis (X) = ||X||^2, ||X|| = \\sqrt(X, X)$\n",
    "\n",
    "1. Матрица ковариаций: $$\\Sigma = \\frac{1}{n-1}X X^T,$$ где $X$ - центрированная матрица данных размерности $n \\times m$, а $n$ - количество объектов.\n",
    "\n",
    "    Пусть $W$ - искомые $k$ векторов, $W = (w_1, ..., w_k)$, причём $||w_i|| = 1$ (у них единичные длины). Тогда проекция - это $XW$, и она должна иметь максимальную дисперсию.\n",
    "\n",
    "    $Dis(XW) = ||XW||^2 = (XW)^T XW = W^TX^T XW$, или $\\frac{1}{n-1} W^TX^T XW$ с учётом множителя.\n",
    "\n",
    "    $Dis(XW) = \\frac{1}{n-1} W^TX^T XW = W^T \\Sigma W$ - то, что нужно максимизировать.\n",
    "\n",
    "    Пусть $w_1$ - главная компонента. Найдём $max(w_1^T \\Sigma w_1$). Для этого определим $w_2, ..., w_k$, которые так же будут ортогональны $k$ предыдущим ($w_i^T w_j = 0$ при $i \\neq j$).\n",
    "\n",
    "2. $X = USV^T$ - сингулярное разложение, $U$ - матрица левых сингулярных векторов, $V$ - матрица правых сингулярных векторов, $S$ - диагональная матрица сингулярных чисел. $$\\Sigma = \\frac{1}{n-1} X^TX = \\frac{1}{n-1} (USV^T)^T USV = \\frac{1}{n-1} VS^T U^T USV =, $$ так как $U$ ортогональна, $$= \\frac{1}{n-1} V S^T E SV^T = \\frac{1}{n-1} V S^T SV^T$$\n",
    "\n",
    "    Пусть $\\Lambda = \\frac{1}{n-1} S^T S$, тогда $\\Sigma = V \\Lambda V^T$, и это спектральное разложение матрицы.\n",
    "\n",
    "    $\\Lambda$ диагональна, на диагонали собственные значения матрицы, $V$ состоит из собственных векторов.\n",
    "\n",
    "3. $max(w_1^T \\Sigma w_1) \\leadsto max(w_1^T (V \\Lambda V^T) w_1), ||w_1|| = 1, w_1$ - искомый.\n",
    "\n",
    "    Замена: $y = V^T w_1$, откуда $w_1 = V \\cdot y$. Так как $V$  ортогональна: $||w_1|| = ||Vy|| = ||y|| = 1$.\n",
    "\n",
    "    Теперь ищем: $max \\big[ (Vy)^T (V \\Lambda V^T) V y \\big]$ при $||y|| = 1$.\n",
    "    $$(Vy)^T (V \\Lambda V^T) Vy = y^T \\cdot V^T V \\cdot \\Lambda \\cdot V^T V \\cdot y = y^T \\cdot E \\cdot E \\cdot y = y^T  \\Lambda y $$\n",
    "\n",
    "    $$y^T \\Lambda y = \\begin{pmatrix}\n",
    "    y_1 & \\ldots & y_n\n",
    "    \\end{pmatrix} \\begin{pmatrix}\n",
    "    \\lambda_1 & & \\\\\n",
    "     & \\ddots & \\\\\n",
    "     & & \\lambda_n\n",
    "    \\end{pmatrix} \\begin{pmatrix}\n",
    "    y_1 \\\\\n",
    "    \\vdots \\\\\n",
    "    y_n\n",
    "    \\end{pmatrix} = \\sum^n_{i=1} \\lambda_i y_i^2$$\n",
    "\n",
    "    При этом из условия $||y|| = 1$ следует, что $$\\sum^n_{i=1} y^2_i = 1$$\n",
    "\n",
    "4. Далее надо найти $(\\lambda_1 y_1^2 + \\lambda_2 y_2^2 + ... + \\lambda_n y_n^2)$. Так как $\\lambda_1, ..., \\lambda_n$ мы сортируем по убыванию, то максимум будет при $y_1 = 1$, а остальные $y_i = 0$.\n",
    "\n",
    "    $y = (1, 0, ..., 0)^T$, тогда $w_1 = Vy = V \\cdot (1, 0, ..., 0)^T = V^{(1)}$ - первый столбец $V$.\n",
    "\n",
    "    $V^{(1)}$ - в точности собственный вектор, соответствующий максимальному собственному значению, то есть для $w_1$ всё доказано.\n",
    "\n",
    "5. Теперь приведем рассуждения о выборе следующих компонент ($w_2, ..., w_k$). Нужна ортогональность в $w_1$ и $w_2$:\n",
    "\n",
    "    Пусть $w_1 = Vy_1$, где $y_1 = (1, 0, ..., 0)^T$, а $w_2 = Vy_2$.\n",
    "\n",
    "    $$(w_1, w_2) = 0 \\Rightarrow (Vy_1, Vy_2) = (Vy_1)^T Vy_2 = y_1^T V^T V y_2 = y_1^T y_2 = 0 $$\n",
    "\n",
    "    Так как $(1, 0, ..., 0)^T y_2$ = 0, то первая компонента $y_2$ нулевая, остальные любые. Тогда $max(\\lambda_1 y_1^2 + \\lambda_2 y_2^2 + ... + \\lambda_n y_n^2) \\leadsto max( \\lambda_2 y_2^2 + ... + \\lambda_n y_n^2)$, и аналогично получаем $y_2 = (0, 1, 0, ..., 0)^T$, откуда $w_2 = V^{(2)}$ (нашли второй столбец и второй собственный вектор).\n",
    "\n",
    "Продолжив алгоритм, получим искомые $w_1, w_2, ..., w_k$, равные собственным векторам матрицы $\\Sigma$, соответствующие в точности максимальным собственным значениям."
   ],
   "id": "456b1862d005cf40"
  },
  {
   "metadata": {},
   "cell_type": "markdown",
   "source": "# Easy 1: Метод Гаусса",
   "id": "5cfffe357af353fe"
  },
  {
   "metadata": {
    "ExecuteTime": {
     "end_time": "2025-04-21T22:06:44.022032Z",
     "start_time": "2025-04-21T22:06:44.009082Z"
    }
   },
   "cell_type": "code",
   "source": [
    "def gauss_solver(A: Matrix, b: Matrix, tol: float = 1e-5) -> List[Matrix]:\n",
    "    if A.rows != b.rows or b.columns != 1:\n",
    "        raise ValueError(\"Размеры A и b не согласованы\")\n",
    "\n",
    "    n, m = A.rows, A.columns\n",
    "    # преобразуем в плотный формат\n",
    "    classic_A = get_classic_format(A)\n",
    "    classic_b = get_classic_format(b)\n",
    "\n",
    "    Ab = [row.copy() + [classic_b[i][0]] for i, row in enumerate(classic_A)]\n",
    "\n",
    "    rank = 0\n",
    "    # Прямой ход Гаусса\n",
    "    for col in range(m):\n",
    "        max_row = rank\n",
    "        for row in range(rank + 1, n):\n",
    "            if abs(Ab[row][col]) > abs(Ab[max_row][col]):\n",
    "                max_row = row\n",
    "\n",
    "        # Если максимальный элемент равен нулю, скипаем столбец\n",
    "        if abs(Ab[max_row][col]) < tol:\n",
    "            continue\n",
    "\n",
    "        # Меняем строки местами\n",
    "        Ab[rank], Ab[max_row] = Ab[max_row], Ab[rank]\n",
    "\n",
    "        # Нормализация строки\n",
    "        pivot = Ab[rank][col]\n",
    "        for j in range(col, m + 1):\n",
    "            Ab[rank][j] /= pivot\n",
    "\n",
    "        # Исключаем переменную из других строк\n",
    "        for i in range(n):\n",
    "            if i != rank and abs(Ab[i][col]) > tol:\n",
    "                factor = Ab[i][col]\n",
    "                for j in range(col, m + 1):\n",
    "                    Ab[i][j] -= factor * Ab[rank][j]\n",
    "\n",
    "        rank += 1\n",
    "        if rank == n:\n",
    "            break\n",
    "\n",
    "    # Проверяем совместность\n",
    "    for i in range(rank, n):\n",
    "        if abs(Ab[i][m]) > tol:\n",
    "            raise ValueError(\"Система несовместна\")\n",
    "\n",
    "    # Обратный ход Гаусса\n",
    "    solutions = []\n",
    "    free_vars = []\n",
    "    lead_vars = [-1] * m\n",
    "\n",
    "    # Определяем свободные переменные\n",
    "    for i in range(rank):\n",
    "        for j in range(m):\n",
    "            if abs(Ab[i][j]) > tol:\n",
    "                lead_vars[j] = i\n",
    "                break\n",
    "\n",
    "    for j in range(m):\n",
    "        if lead_vars[j] == -1:\n",
    "            free_vars.append(j)\n",
    "\n",
    "    # Если свободных нет - единственное решение\n",
    "    if not free_vars:\n",
    "        solution = [[0.0] for _ in range(m)]\n",
    "        for i in range(rank):\n",
    "            for j in range(m):\n",
    "                if abs(Ab[i][j]) > tol:\n",
    "                    solution[j][0] = Ab[i][m]\n",
    "                    break\n",
    "\n",
    "        sol = [(i, 0, solution[i][0]) for i in range(m) if abs(solution[i][0]) > tol]\n",
    "        return [Matrix(m, 1, sol)]\n",
    "\n",
    "    # Если свободные есть - строим базис\n",
    "    for free in free_vars:\n",
    "        vec = [[0.0] for _ in range(m)]\n",
    "        vec[free][0] = 1.0\n",
    "\n",
    "        for i in range(rank):\n",
    "            for j in range(m):\n",
    "                if abs(Ab[i][j]) > tol:\n",
    "                    sum_ax = 0.0\n",
    "                    for k in range(j + 1, m):\n",
    "                        sum_ax += Ab[i][k] * vec[k][0]\n",
    "                    vec[j][0] = Ab[i][m] - sum_ax\n",
    "                    break\n",
    "\n",
    "        basis = [(i, 0, vec[i][0]) for i in range(m) if abs(vec[i][0]) > tol]\n",
    "        solutions.append(Matrix(m, 1, basis))\n",
    "\n",
    "    return solutions"
   ],
   "id": "2dea3f4626f181e4",
   "outputs": [],
   "execution_count": 383
  },
  {
   "metadata": {
    "ExecuteTime": {
     "end_time": "2025-04-21T22:06:44.047102Z",
     "start_time": "2025-04-21T22:06:44.038917Z"
    }
   },
   "cell_type": "code",
   "source": [
    "# Пример системы уравнений:\n",
    "# 1x + 2y = 5\n",
    "# 3x + 4y = 11\n",
    "\n",
    "A = save_matrix([[1, 2], [3, 4]])\n",
    "b = save_matrix([[5], [11]])\n",
    "\n",
    "solutions = gauss_solver(A, b)\n",
    "if len(solutions) == 1:\n",
    "    print(\"Единственное решение:\")\n",
    "    print(solutions[0])\n",
    "else:\n",
    "    print(f\"Бесконечно много решений. Базис ФСР (размерность {len(solutions)}):\")\n",
    "    for i, sol in enumerate(solutions):\n",
    "        print(f\"Решение {i+1}:\")\n",
    "        print(sol)"
   ],
   "id": "4a5c374626907803",
   "outputs": [
    {
     "name": "stdout",
     "output_type": "stream",
     "text": [
      "Единственное решение:\n",
      "1.0\n",
      "2.0\n"
     ]
    }
   ],
   "execution_count": 384
  },
  {
   "metadata": {},
   "cell_type": "markdown",
   "source": [
    "# Easy 2: Центрирование данных\n",
    "$$ X_{centered} = X - X_{mean} $$"
   ],
   "id": "e1faa5d89253234"
  },
  {
   "metadata": {
    "ExecuteTime": {
     "end_time": "2025-04-21T22:06:44.121364Z",
     "start_time": "2025-04-21T22:06:44.114942Z"
    }
   },
   "cell_type": "code",
   "source": [
    "def get_means(X: Matrix) -> List[float]:\n",
    "    rows = X.rows\n",
    "    cols = X.columns\n",
    "    means = [0.0] * cols\n",
    "\n",
    "    for col in range(1, cols + 1):\n",
    "        for row in range(1, rows + 1):\n",
    "            means[col-1] += X.get(row, col)\n",
    "        means[col-1] /= rows\n",
    "\n",
    "    return means\n",
    "\n",
    "def center_data(X: Matrix) -> Matrix:\n",
    "    means = get_means(X)\n",
    "    centered_data = []\n",
    "\n",
    "    for row in range(1, X.rows + 1):\n",
    "        for col in range(1, X.columns + 1):\n",
    "            val = X.get(row, col)\n",
    "            centered_val = val - means[col-1]\n",
    "            centered_data.append((row-1, col-1, centered_val))\n",
    "\n",
    "    return Matrix(X.rows, X.columns, centered_data)"
   ],
   "id": "be372d40e9288611",
   "outputs": [],
   "execution_count": 385
  },
  {
   "metadata": {},
   "cell_type": "markdown",
   "source": "Сравнение с NumPy:",
   "id": "793796f2e9909de5"
  },
  {
   "metadata": {
    "ExecuteTime": {
     "end_time": "2025-04-21T22:06:44.201856Z",
     "start_time": "2025-04-21T22:06:44.192832Z"
    }
   },
   "cell_type": "code",
   "source": [
    "X = generate_matrix(3, 3, -3, 3)\n",
    "\n",
    "print(\"Исходная матрица:\")\n",
    "print(X)\n",
    "\n",
    "X_centered = center_data(X)\n",
    "print(\"\\nНаше центрирование:\")\n",
    "print(X_centered)\n",
    "\n",
    "X_np = np.array(get_classic_format(X))\n",
    "centered_np = X_np - X_np.mean(axis=0)\n",
    "\n",
    "print(\"\\nNumPy центрирование:\")\n",
    "print(centered_np)\n"
   ],
   "id": "485e32c3b733ad37",
   "outputs": [
    {
     "name": "stdout",
     "output_type": "stream",
     "text": [
      "Исходная матрица:\n",
      "-3.0 -1.0 1.0\n",
      "1.0 -3.0 -2.0\n",
      "1.0 -1.0 0\n",
      "\n",
      "Наше центрирование:\n",
      "-2.6666666666666665 0.6666666666666667 1.3333333333333333\n",
      "1.3333333333333333 -1.3333333333333333 -1.6666666666666667\n",
      "1.3333333333333333 0.6666666666666667 0.3333333333333333\n",
      "\n",
      "NumPy центрирование:\n",
      "[[-2.66666667  0.66666667  1.33333333]\n",
      " [ 1.33333333 -1.33333333 -1.66666667]\n",
      " [ 1.33333333  0.66666667  0.33333333]]\n"
     ]
    }
   ],
   "execution_count": 386
  },
  {
   "metadata": {},
   "cell_type": "markdown",
   "source": [
    "# Easy 3: матрица ковариаций\n",
    "$$ C = \\frac{1}{n-1}X^TX $$"
   ],
   "id": "f65d5a13cd5005e5"
  },
  {
   "metadata": {
    "ExecuteTime": {
     "end_time": "2025-04-21T22:06:44.276895Z",
     "start_time": "2025-04-21T22:06:44.271281Z"
    }
   },
   "cell_type": "code",
   "source": [
    "def covariance_matrix(X_centered: Matrix) -> Matrix:\n",
    "    n = X_centered.rows\n",
    "    p = X_centered.columns\n",
    "    X = get_classic_format(X_centered)\n",
    "\n",
    "    cov_data = []\n",
    "    for i in range(p):\n",
    "        for j in range(p):\n",
    "            cov = sum(X[row][i] * X[row][j] for row in range(n)) / (n - 1)\n",
    "            cov_data.append((i, j, cov))\n",
    "\n",
    "    return Matrix(p, p, cov_data)"
   ],
   "id": "6d33b20ff67c81cb",
   "outputs": [],
   "execution_count": 387
  },
  {
   "metadata": {},
   "cell_type": "markdown",
   "source": "Сравнение с NumPy:",
   "id": "d41bbfb7fbd72394"
  },
  {
   "metadata": {
    "ExecuteTime": {
     "end_time": "2025-04-21T22:06:44.361238Z",
     "start_time": "2025-04-21T22:06:44.350230Z"
    }
   },
   "cell_type": "code",
   "source": [
    "X = generate_matrix(5, 5, -10, 10)\n",
    "\n",
    "\n",
    "X_centered = center_data(X)\n",
    "cov = covariance_matrix(X_centered)\n",
    "\n",
    "X_np = np.array(get_classic_format(X))\n",
    "cov_numpy = np.cov(X_np, rowvar=False, bias=False)\n",
    "\n",
    "\n",
    "print(\"Наш результат:\")\n",
    "print(cov)\n",
    "print(\"\\nNumPy результат:\")\n",
    "print(cov_numpy)\n"
   ],
   "id": "c2651eb3efbe6391",
   "outputs": [
    {
     "name": "stdout",
     "output_type": "stream",
     "text": [
      "Наш результат:\n",
      "29.700000000000003 -23.95 -21.400000000000002 9.9 7.1\n",
      "-23.95 31.7 17.4 -11.9 -21.35\n",
      "-21.400000000000002 17.4 49.8 10.45 -30.2\n",
      "9.9 -11.9 10.45 14.3 -2.3000000000000007\n",
      "7.1 -21.35 -30.2 -2.3000000000000007 53.3\n",
      "\n",
      "NumPy результат:\n",
      "[[ 29.7  -23.95 -21.4    9.9    7.1 ]\n",
      " [-23.95  31.7   17.4  -11.9  -21.35]\n",
      " [-21.4   17.4   49.8   10.45 -30.2 ]\n",
      " [  9.9  -11.9   10.45  14.3   -2.3 ]\n",
      " [  7.1  -21.35 -30.2   -2.3   53.3 ]]\n"
     ]
    }
   ],
   "execution_count": 388
  },
  {
   "metadata": {},
   "cell_type": "markdown",
   "source": "# Normal 1: Собственные значения",
   "id": "2bae9e665594bdfe"
  },
  {
   "metadata": {
    "ExecuteTime": {
     "end_time": "2025-04-21T22:06:44.465129Z",
     "start_time": "2025-04-21T22:06:44.456851Z"
    }
   },
   "cell_type": "code",
   "source": [
    "# поиск корня бисекцией\n",
    "def root_search(f, a, b, tol=1e-6):\n",
    "    fa, fb = f(a), f(b)\n",
    "    if fa * fb > 0:\n",
    "        return None\n",
    "\n",
    "    while (b-a) > tol:\n",
    "        c = (a + b) / 2\n",
    "        fc = f(c)\n",
    "        if abs(fc) < tol:\n",
    "            return c\n",
    "        if fa * fc < 0:\n",
    "            b, fb = c, fc\n",
    "        else:\n",
    "            a, fa = c, fc\n",
    "    return (a + b) / 2\n",
    "\n",
    "# поиск экстремума бисекцией\n",
    "def extremum_search(f, a0, b0, epsilon, delta=1e-10):\n",
    "    a = a0\n",
    "    b = b0\n",
    "    ans = (a + b) / 2\n",
    "\n",
    "    while abs(b - a) > epsilon:\n",
    "        yk = (a + b - delta) / 2\n",
    "        zk = (a + b + delta) / 2\n",
    "\n",
    "        if f(yk) <= f(zk):\n",
    "            b = zk\n",
    "        else:\n",
    "            a = yk\n",
    "\n",
    "        ans = (a + b) / 2\n",
    "    return ans"
   ],
   "id": "68bc4a5377b3f503",
   "outputs": [],
   "execution_count": 389
  },
  {
   "metadata": {
    "ExecuteTime": {
     "end_time": "2025-04-21T22:06:44.569951Z",
     "start_time": "2025-04-21T22:06:44.561040Z"
    }
   },
   "cell_type": "code",
   "source": [
    "# основная функция. поиск собственных значений\n",
    "def find_eigenvalues(C_matrix: 'Matrix', tol: float = 1e-6) -> List[float]:\n",
    "    n = C_matrix.rows\n",
    "    C = get_classic_format(C_matrix)\n",
    "\n",
    "# обычный характеристический полином\n",
    "    def characteristic_poly(lam):\n",
    "        mat = [[C[i][j] - (lam if i == j else 0) for j in range(n)] for i in range(n)]\n",
    "        #return determinant(mat)\n",
    "        # чтоб оперативней считалось, потом закомментить\n",
    "        return np.linalg.det(mat)\n",
    "\n",
    "    # модуль полинома для корней чётной кратности\n",
    "    def poly_abs(lam):\n",
    "        mat = [[C[i][j] - (lam if i == j else 0) for j in range(n)] for i in range(n)]\n",
    "        #return abs(determinant(mat))\n",
    "        # чтоб оперативней считалось, потом закомментить\n",
    "        return abs(np.linalg.det(mat))\n",
    "\n",
    "    # Вычисляем интервал поиска (см теорему Гершгорина)\n",
    "    Gershgorin_intervals = []\n",
    "    for i in range(n):\n",
    "        radius = sum(abs(C[i][j]) for j in range(n) if j != i)\n",
    "        center = C[i][i]\n",
    "        Gershgorin_intervals.append((center - radius, center + radius))\n",
    "\n",
    "    lower = min(interval[0] for interval in Gershgorin_intervals)\n",
    "    upper = max(interval[1] for interval in Gershgorin_intervals)\n",
    "\n",
    "    # Расширяем интервал, ну чтобы понадёжнее\n",
    "    lower -= 3\n",
    "    upper += 3\n",
    "    count = max(100, 10 * n)\n",
    "\n",
    "    # непосредственно поиск корней\n",
    "    def find_roots(f, fabs, a, b, tol, count):\n",
    "        roots = []\n",
    "        # дробим [a,b] на мелкие подотрезки\n",
    "        step = (b - a) / count\n",
    "\n",
    "        x_prev = a\n",
    "        f_prev = f(x_prev)\n",
    "\n",
    "        # пробегаем по каждому маленькому отрезку\n",
    "        for i in range(1, count+1):\n",
    "            x = a + i * step\n",
    "            fx = f(x)\n",
    "\n",
    "            # если попали в корень\n",
    "            if abs(fx) < tol:\n",
    "                roots.append(x)\n",
    "            # если функция меняет знак, ищем корень\n",
    "            # если не меняет, смотрим экстремум для функции-модуля.\n",
    "            if f_prev * fx < 0:\n",
    "                roots.append(root_search(f, x_prev, x, tol))\n",
    "            else:\n",
    "                exst = extremum_search(fabs, x_prev, x, tol)\n",
    "                # если при поиске экстремума «скатились» близко к нулю, то всё ок\n",
    "                if abs(f(exst)) < 0.0001:\n",
    "                  roots.append(exst)\n",
    "\n",
    "            x_prev = x\n",
    "            f_prev = fx\n",
    "\n",
    "        # убираем дубликаты (близкие корни)\n",
    "        unique_roots = [roots[0]]\n",
    "        for i in range(1,len(sorted(roots))):\n",
    "            if not unique_roots or (roots[i] - roots[i-1] > 2*step):\n",
    "                unique_roots.append(roots[i])\n",
    "\n",
    "        return unique_roots\n",
    "\n",
    "    eigenvalues = find_roots(characteristic_poly, poly_abs, lower, upper, tol, count)\n",
    "    return sorted(eigenvalues)[::-1]"
   ],
   "id": "cb75febc1116ae4f",
   "outputs": [],
   "execution_count": 390
  },
  {
   "metadata": {
    "ExecuteTime": {
     "end_time": "2025-04-21T22:06:44.660812Z",
     "start_time": "2025-04-21T22:06:44.609313Z"
    }
   },
   "cell_type": "code",
   "source": [
    "C = generate_matrix(5, 5, -10, 10)\n",
    "print(\"Исходная матрица:\")\n",
    "print(C)\n",
    "\n",
    "eigenvalues = find_eigenvalues(C)\n",
    "print(\"\\nНайденные собственные значения:\")\n",
    "for i, val in enumerate(eigenvalues, 1):\n",
    "    print(f\"lambda{i} = {val:.6f}\")\n",
    "\n",
    "np_matrix = get_classic_format(C)\n",
    "np_eigenvalues = np.linalg.eigvals(np_matrix)\n",
    "print(\"\\nПроверка с numpy:\")\n",
    "for i, val in enumerate(sorted(np_eigenvalues, reverse=True), 1):\n",
    "    print(f\"lambda{i} = {val:.6f}\")"
   ],
   "id": "5b302bc4d70dd502",
   "outputs": [
    {
     "name": "stdout",
     "output_type": "stream",
     "text": [
      "Исходная матрица:\n",
      "-6.0 8.0 3.0 6.0 -5.0\n",
      "8.0 3.0 1.0 8.0 6.0\n",
      "6.0 -3.0 -3.0 -2.0 2.0\n",
      "-4.0 3.0 4.0 -10.0 10.0\n",
      "4.0 4.0 -10.0 2.0 -9.0\n",
      "\n",
      "Найденные собственные значения:\n",
      "lambda1 = 10.401912\n",
      "lambda2 = 0.747499\n",
      "lambda3 = -10.655391\n",
      "\n",
      "Проверка с numpy:\n",
      "lambda1 = 10.401912+0.000000j\n",
      "lambda2 = 0.747500+0.000000j\n",
      "lambda3 = -10.655391+0.000000j\n",
      "lambda4 = -12.747010+9.007453j\n",
      "lambda5 = -12.747010-9.007453j\n"
     ]
    }
   ],
   "execution_count": 391
  },
  {
   "metadata": {},
   "cell_type": "markdown",
   "source": "# Normal 2: Собственные векторы",
   "id": "20a093ad07146da5"
  },
  {
   "metadata": {
    "ExecuteTime": {
     "end_time": "2025-04-21T22:06:44.722481Z",
     "start_time": "2025-04-21T22:06:44.715792Z"
    }
   },
   "cell_type": "code",
   "source": [
    "def normalize_vector(vect: Matrix) -> Matrix:\n",
    "    vector = get_classic_format(vect)\n",
    "    norm = math.sqrt(sum(x[0] ** 2 for x in vector))\n",
    "    return save_matrix([[x[0] / norm] for x in vector])\n",
    "\n",
    "def find_eigenvectors(C_matrix: Matrix, eigenvalues: List[float], tol = 1e-2) -> List[Matrix]:\n",
    "    n = C_matrix.rows\n",
    "    vectors_list = []\n",
    "\n",
    "    C = get_classic_format(C_matrix)\n",
    "    for lam in eigenvalues:\n",
    "        C_lam = save_matrix([[C[i][j] - (lam if i == j else 0) for j in range(n)] for i in range(n)])\n",
    "        vectors_lam = gauss_solver(C_lam, save_matrix([[0]]*n), tol)\n",
    "        vectors_list += vectors_lam\n",
    "\n",
    "    normalize_list = []\n",
    "    for vectors in vectors_list:\n",
    "        normalize_list.append(normalize_vector(vectors))\n",
    "    return normalize_list"
   ],
   "id": "603da299679b2ed1",
   "outputs": [],
   "execution_count": 392
  },
  {
   "metadata": {},
   "cell_type": "markdown",
   "source": "Сравнение с NumPy:",
   "id": "b842a326b3718e47"
  },
  {
   "metadata": {
    "ExecuteTime": {
     "end_time": "2025-04-21T22:06:44.836828Z",
     "start_time": "2025-04-21T22:06:44.779875Z"
    }
   },
   "cell_type": "code",
   "source": [
    "# C = save_matrix([[-3, 18, 9, 50, 80],\n",
    "#                [7, -86, -25, -15, 94],\n",
    "#                [-65, 6, -66, 18, 67],\n",
    "#                [22, -1, -39, -41, 87],\n",
    "#                [-85, -3, 26, 2, 22]])\n",
    "C = generate_matrix(5, 5, -10, 10)\n",
    "\n",
    "X_centered = center_data(C)\n",
    "covar = covariance_matrix(X_centered)\n",
    "vals = find_eigenvalues(covar)\n",
    "vects = find_eigenvectors(covar, vals)\n",
    "\n",
    "np_covar = np.cov(get_classic_format(X_centered), rowvar=False)\n",
    "np_vals, np_vects = np.linalg.eig(np_covar)\n",
    "\n",
    "sorted_indices = np.argsort(np_vals)[::-1]\n",
    "np_vals_sorted = np_vals[sorted_indices]\n",
    "np_vects_sorted = np_vects[:, sorted_indices]\n",
    "\n",
    "# Сравнение\n",
    "print(\"Собственные значения:\")\n",
    "print(\"Наши:\", vals)\n",
    "print(\"NumPy:\", np_vals_sorted)\n",
    "\n",
    "print(\"Наши:\", np_vects_sorted)\n",
    "print(\"NumPy:\", vects)\n",
    "\n"
   ],
   "id": "79703fdf3c6a8bbb",
   "outputs": [
    {
     "name": "stdout",
     "output_type": "stream",
     "text": [
      "Собственные значения:\n",
      "Наши: [138.09548343598843, 63.807886901497845, 33.86025633513926, -6.854534663550534e-08]\n",
      "NumPy: [1.38095483e+02 6.38078870e+01 3.38602562e+01 3.23637358e+00\n",
      " 7.28368998e-15]\n",
      "Наши: [[ 0.59159569  0.56560721  0.50260937  0.02524912 -0.27721713]\n",
      " [ 0.51001966 -0.12236608 -0.0814319   0.4300836   0.73027627]\n",
      " [ 0.30387666  0.26248016 -0.84371183  0.12255915 -0.33450374]\n",
      " [-0.52641097  0.51149013  0.04354628  0.67505221  0.06064302]\n",
      " [ 0.14298585 -0.57844364  0.16433729  0.58623746 -0.52371453]]\n",
      "NumPy: [0.591595684214264\n",
      "0.5100196599383526\n",
      "0.30387665704541683\n",
      "-0.526410976334177\n",
      "0.14298585312269382, -0.5656213830031034\n",
      "0.12216417964472917\n",
      "-0.2624867394009321\n",
      "-0.511502946596483\n",
      "0.57845813293891, 0.5026093684164282\n",
      "-0.0814319031393434\n",
      "-0.8437118265966062\n",
      "0.043546278070764693\n",
      "0.16433728505225406, 0.27721712774947926\n",
      "-0.7302762774538101\n",
      "0.33450373574763675\n",
      "-0.06064303265989237\n",
      "0.5237145176823161]\n"
     ]
    }
   ],
   "execution_count": 393
  },
  {
   "metadata": {},
   "cell_type": "markdown",
   "source": "# Normal 3: Доля объяснённой дисперсии",
   "id": "a3c4a89b955241a8"
  },
  {
   "metadata": {
    "ExecuteTime": {
     "end_time": "2025-04-21T22:06:44.910235Z",
     "start_time": "2025-04-21T22:06:44.904732Z"
    }
   },
   "cell_type": "code",
   "source": [
    "def explained_variance_ratio(eigenvalues: List[float], k: int) -> float:\n",
    "    return sum(eigenvalues[:k]) / sum(eigenvalues)"
   ],
   "id": "c34b22d18b31e9c2",
   "outputs": [],
   "execution_count": 394
  },
  {
   "metadata": {},
   "cell_type": "markdown",
   "source": "Сравнение с NumPy:",
   "id": "4d9060b7d7b29d1b"
  },
  {
   "metadata": {
    "ExecuteTime": {
     "end_time": "2025-04-21T22:06:45.013345Z",
     "start_time": "2025-04-21T22:06:44.957051Z"
    }
   },
   "cell_type": "code",
   "source": [
    "# C = save_matrix([[-3, 18, 9, 50, 80],\n",
    "#                [7, -86, -25, -15, 94],\n",
    "#                [-65, 6, -66, 18, 67],\n",
    "#                [22, -1, -39, -41, 87],\n",
    "#                [-85, -3, 26, 2, 22]])\n",
    "\n",
    "C = generate_matrix(5, 5, -10, 10)\n",
    "X_centered = center_data(C)\n",
    "covar = covariance_matrix(X_centered)\n",
    "vals = find_eigenvalues(covar)\n",
    "\n",
    "\n",
    "np_covar = np.cov(get_classic_format(X_centered), rowvar=False)\n",
    "np_vals = np.linalg.eigvals(np_covar)\n",
    "np_vals_sorted = sorted(np_vals, reverse=True)\n",
    "\n",
    "for k in [1, 3, 5]:\n",
    "    our_ratio = explained_variance_ratio(vals, k)\n",
    "\n",
    "    np_ratio = sum(np_vals_sorted[:k]) / sum(np_vals_sorted)\n",
    "\n",
    "    print(f\"k={k}:\")\n",
    "    print(f\"Наш результат: {our_ratio:.6f}\")\n",
    "    print(f\"NumPy результат: {np_ratio:.6f}\\n\")"
   ],
   "id": "bf5ff4f6c80c334c",
   "outputs": [
    {
     "name": "stdout",
     "output_type": "stream",
     "text": [
      "k=1:\n",
      "Наш результат: 0.582459\n",
      "NumPy результат: 0.582459\n",
      "\n",
      "k=3:\n",
      "Наш результат: 0.976795\n",
      "NumPy результат: 0.976795\n",
      "\n",
      "k=5:\n",
      "Наш результат: 1.000000\n",
      "NumPy результат: 1.000000\n",
      "\n"
     ]
    }
   ],
   "execution_count": 395
  },
  {
   "metadata": {},
   "cell_type": "markdown",
   "source": "# Hard 1: алгоритм PCA",
   "id": "5d4026d973cb16ac"
  },
  {
   "metadata": {
    "ExecuteTime": {
     "end_time": "2025-04-21T22:06:45.029094Z",
     "start_time": "2025-04-21T22:06:45.023883Z"
    }
   },
   "cell_type": "code",
   "source": [
    "def project_data(X_matrix: Matrix, eigenvectors: List[Matrix], k: int) -> Tuple[Matrix, Matrix]:\n",
    "    n = X_matrix.rows\n",
    "    X = get_classic_format(X_matrix)\n",
    "    vector_matrix = []\n",
    "\n",
    "    for i in range(n):\n",
    "        row = []\n",
    "        for v in eigenvectors[:k]:\n",
    "            row.append(v.get(i + 1, 1))\n",
    "        vector_matrix.append(row)\n",
    "\n",
    "    vector_matrix = save_matrix(vector_matrix)\n",
    "    projected_X = multiply(X_matrix, vector_matrix)\n",
    "\n",
    "    return projected_X, vector_matrix\n",
    "\n",
    "def pca(X: Matrix, k: int) -> Tuple[Matrix, float]:\n",
    "    # центрирование данных и матрица ковариаций\n",
    "    centered_X = center_data(X)\n",
    "    covar_X = covariance_matrix(centered_X)\n",
    "\n",
    "    # поиск собственных значений и векторов\n",
    "    eigenvals = find_eigenvalues(covar_X)\n",
    "    eigenvects = find_eigenvectors(covar_X, eigenvals)\n",
    "\n",
    "    # проекция данных на главные компоненты\n",
    "    projected_X = project_data(centered_X, eigenvects, k)\n",
    "    dispersion_res = explained_variance_ratio(eigenvals, k)\n",
    "\n",
    "    return projected_X[0], dispersion_res"
   ],
   "id": "451dfa3d96b38f41",
   "outputs": [],
   "execution_count": 396
  },
  {
   "metadata": {
    "ExecuteTime": {
     "end_time": "2025-04-21T22:06:45.111319Z",
     "start_time": "2025-04-21T22:06:45.047894Z"
    }
   },
   "cell_type": "code",
   "source": [
    "from sklearn.decomposition import PCA\n",
    "\n",
    "\n",
    "# C = save_matrix([[-3, 18, 92, 50, 80], [67, -86, -25, -15, 94], [-65, 60, -66, 18, 67], [22, -1, -39, -41, 87], [-85, -3, 26, 2, 22]])\n",
    "C = generate_matrix(5, 5, -100, 100)\n",
    "my_res = pca(C, 3)[0]\n",
    "print(f\"Наш результат: {my_res}\")\n",
    "\n",
    "pca = PCA(n_components=3)\n",
    "data_pca = pca.fit_transform(get_classic_format(C))\n",
    "print(f\"Сравнение с sklearn: {data_pca}\")\n"
   ],
   "id": "7c487a05fd5825d0",
   "outputs": [
    {
     "name": "stdout",
     "output_type": "stream",
     "text": [
      "Наш результат: 71.66987230431494 68.63588211683665 46.11866149638022\n",
      "-71.1614263290861 -41.18459209315065 58.5382776422945\n",
      "-52.024710127382384 -38.00796330721499 -14.503919466226339\n",
      "-95.78444592636656 46.824076608463656 -55.06461430671578\n",
      "147.3007100785201 -36.26740332493466 -35.08840536573259\n",
      "Сравнение с sklearn: [[ -71.6698723   -68.63588212   46.11866152]\n",
      " [  71.16142633   41.18459209   58.53827763]\n",
      " [  52.02471013   38.00796331  -14.50391948]\n",
      " [  95.78444593  -46.82407661  -55.06461429]\n",
      " [-147.30071008   36.26740332  -35.08840538]]\n"
     ]
    }
   ],
   "execution_count": 397
  },
  {
   "metadata": {
    "ExecuteTime": {
     "end_time": "2025-04-21T22:06:45.124953Z",
     "start_time": "2025-04-21T22:06:45.122599Z"
    }
   },
   "cell_type": "code",
   "source": "",
   "id": "798e3d37decf5bd5",
   "outputs": [],
   "execution_count": null
  }
 ],
 "metadata": {
  "kernelspec": {
   "display_name": "Python 3",
   "language": "python",
   "name": "python3"
  },
  "language_info": {
   "codemirror_mode": {
    "name": "ipython",
    "version": 2
   },
   "file_extension": ".py",
   "mimetype": "text/x-python",
   "name": "python",
   "nbconvert_exporter": "python",
   "pygments_lexer": "ipython2",
   "version": "2.7.6"
  }
 },
 "nbformat": 4,
 "nbformat_minor": 5
}
