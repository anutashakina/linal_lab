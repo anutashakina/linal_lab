{
  "nbformat": 4,
  "nbformat_minor": 0,
  "metadata": {
    "colab": {
      "provenance": [],
      "include_colab_link": true
    },
    "kernelspec": {
      "name": "python3",
      "display_name": "Python 3"
    },
    "language_info": {
      "name": "python"
    }
  },
  "cells": [
    {
      "cell_type": "markdown",
      "metadata": {
        "id": "view-in-github",
        "colab_type": "text"
      },
      "source": [
        "<a href=\"https://colab.research.google.com/github/anutashakina/linal_lab/blob/main/Linal_chernovik.ipynb\" target=\"_parent\"><img src=\"https://colab.research.google.com/assets/colab-badge.svg\" alt=\"Open In Colab\"/></a>"
      ]
    },
    {
      "cell_type": "code",
      "source": [
        "import numpy as np # временное\n",
        "import random\n",
        "import math\n",
        "\n",
        "def generate_matrix(rows, cols, min_val, max_val):\n",
        "    return [[random.randint(min_val, max_val) for i in range(cols)] for j in range(rows)]"
      ],
      "metadata": {
        "id": "Nq-slWm706Tg"
      },
      "execution_count": null,
      "outputs": []
    },
    {
      "cell_type": "markdown",
      "source": [
        "- [x] Метод Гаусса\n",
        "- [x] Центрирование\n",
        "- [x] Матрица ковариаций\n",
        "- [x] Собственные значения\n",
        "- [x] Собственные векторы\n",
        "- [x] Доля объяснённой дисперсии\n",
        "- [x] PCA\n",
        "- [ ] Визуализация проекции на первые две главные компоненты\n",
        "- [ ] Вычисление MSE\n",
        "- [ ] Автоматический выбор числа главных компонент\n",
        "- [ ] Обработка пропущенных значений\n",
        "- [ ] Влияние шума на PCA\n",
        "- [ ] PCA in real data\n",
        "- [ ] Теоретическая часть"
      ],
      "metadata": {
        "id": "skIEgSojuf7d"
      }
    },
    {
      "cell_type": "markdown",
      "source": [
        "# Easy 1: Метод Гаусса"
      ],
      "metadata": {
        "id": "bpSPMpINwmnx"
      }
    },
    {
      "cell_type": "code",
      "source": [
        "# Основная функция\n",
        "def gauss_method(A, b, tol):\n",
        "    # Делаем расширенную матрицу (A|b)\n",
        "    n = len(A)\n",
        "    m = len(A[0]) if n > 0 else 0\n",
        "    Ab = [[0.0 for _ in range(m + 1)] for _ in range(n)]\n",
        "\n",
        "    for i in range(n):\n",
        "        for j in range(m):\n",
        "            Ab[i][j] = A[i][j]\n",
        "        Ab[i][m] = b[i][0] if isinstance(b[0], list) else b[i]\n",
        "\n",
        "    # Прямой ход Гаусса\n",
        "    rank = 0\n",
        "    for col in range(m):\n",
        "        # Ищем строку с макс элементом в текущем столбце\n",
        "        max_row = rank\n",
        "        for row in range(rank + 1, n):\n",
        "            if abs(Ab[row][col]) > abs(Ab[max_row][col]):\n",
        "                max_row = row\n",
        "\n",
        "        # Если максимальный элемент равен нулю, скипаем столбец\n",
        "        if abs(Ab[max_row][col]) < tol:\n",
        "            continue\n",
        "\n",
        "        # Меняем строки местами\n",
        "        Ab[rank], Ab[max_row] = Ab[max_row], Ab[rank]\n",
        "\n",
        "        # Нормализация строки\n",
        "        pivot = Ab[rank][col]\n",
        "        for j in range(col, m + 1):\n",
        "            Ab[rank][j] /= pivot\n",
        "\n",
        "        # Исключение переменной из других строк\n",
        "        for i in range(n):\n",
        "            if i != rank and abs(Ab[i][col]) > tol:\n",
        "                factor = Ab[i][col]\n",
        "                for j in range(col, m + 1):\n",
        "                    Ab[i][j] -= factor * Ab[rank][j]\n",
        "\n",
        "        rank += 1\n",
        "        if rank == n:\n",
        "            break\n",
        "\n",
        "    # Проверяем совместность\n",
        "    for i in range(rank, n):\n",
        "        if abs(Ab[i][m]) > tol:\n",
        "            return []\n",
        "\n",
        "    # Обратный ход Гаусса\n",
        "    solutions = []\n",
        "    free_vars = []\n",
        "\n",
        "    # Определяем свободные переменные\n",
        "    lead_vars = [-1] * m\n",
        "    for i in range(rank):\n",
        "        for j in range(m):\n",
        "            if abs(Ab[i][j]) > tol:\n",
        "                lead_vars[j] = i\n",
        "                break\n",
        "\n",
        "    for j in range(m):\n",
        "        if lead_vars[j] == -1:\n",
        "            free_vars.append(j)\n",
        "\n",
        "    # Если свободных нет - единственное решение\n",
        "    if not free_vars:\n",
        "        solution = [[0.0] for _ in range(m)]\n",
        "        for i in range(rank):\n",
        "            for j in range(m):\n",
        "                if abs(Ab[i][j]) > tol:\n",
        "                    solution[j][0] = Ab[i][m]\n",
        "                    break\n",
        "        return [solution]\n",
        "\n",
        "    # Если свободные есть - строим базис\n",
        "    for free in free_vars:\n",
        "        vec = [[0.0] for _ in range(m)]\n",
        "        vec[free][0] = 1.0\n",
        "\n",
        "        for i in range(rank):\n",
        "            for j in range(m):\n",
        "                if abs(Ab[i][j]) > tol:\n",
        "                    sum_ax = 0.0\n",
        "                    for k in range(j + 1, m):\n",
        "                        sum_ax += Ab[i][k] * vec[k][0]\n",
        "                    vec[j][0] = Ab[i][m] - sum_ax\n",
        "                    break\n",
        "\n",
        "        solutions.append(vec)\n",
        "\n",
        "    return solutions"
      ],
      "metadata": {
        "id": "217wwfLOw04O"
      },
      "execution_count": null,
      "outputs": []
    },
    {
      "cell_type": "markdown",
      "source": [
        "# Easy 2: Центрирование данных\n",
        "$$ X_{centered} = X - X_{mean} $$"
      ],
      "metadata": {
        "id": "k2r1gzeqw466"
      }
    },
    {
      "cell_type": "code",
      "source": [
        "def get_means(X):\n",
        "  rows = len(X)\n",
        "  cols = len(X[0])\n",
        "\n",
        "  # средние по столбцам\n",
        "  means = []\n",
        "  for j in range(cols):\n",
        "    col_sum = 0\n",
        "    for i in range(rows):\n",
        "      col_sum += X[i][j]\n",
        "    means.append(col_sum/rows)\n",
        "\n",
        "  return means\n",
        "\n",
        "def center_data(X, means):\n",
        "  X_centered = [\n",
        "      [X[i][j] - means[j] for j in range(len(X[0]))] for i in range(len(X))\n",
        "  ]\n",
        "  return X_centered"
      ],
      "metadata": {
        "id": "XNl4uqUYw4fE"
      },
      "execution_count": null,
      "outputs": []
    },
    {
      "cell_type": "code",
      "source": [
        "C = generate_matrix(5, 5, -100, 100)\n",
        "print(C)\n",
        "means = get_means(C)\n",
        "print(center_data(C, means))"
      ],
      "metadata": {
        "colab": {
          "base_uri": "https://localhost:8080/"
        },
        "id": "tOlTXBLX0RjM",
        "outputId": "352f005b-ce53-46a2-dc15-cb3f12fac5ea"
      },
      "execution_count": null,
      "outputs": [
        {
          "output_type": "stream",
          "name": "stdout",
          "text": [
            "[[-22, -100, 92, 14, -59], [49, 2, 31, -63, 42], [-95, 85, 0, -52, -32], [-52, -33, -37, -46, 98], [8, 97, 37, 4, -36]]\n",
            "[[0.3999999999999986, -110.2, 67.4, 42.6, -61.6], [71.4, -8.2, 6.399999999999999, -34.4, 39.4], [-72.6, 74.8, -24.6, -23.4, -34.6], [-29.6, -43.2, -61.6, -17.4, 95.4], [30.4, 86.8, 12.399999999999999, 32.6, -38.6]]\n"
          ]
        }
      ]
    },
    {
      "cell_type": "markdown",
      "source": [
        "# Easy 3: матрица ковариаций\n",
        "$$ C = \\frac{1}{n-1}X^TX $$"
      ],
      "metadata": {
        "id": "_cjw0Pmv1BRQ"
      }
    },
    {
      "cell_type": "code",
      "source": [
        "# транспонирование, умножение матрица*матрица и скаляр*матрица\n",
        "def transpose_matrix(X):\n",
        "  return [\n",
        "        [X[i][j] for i in range(len(X))]\n",
        "        for j in range(len(X[0]))\n",
        "    ]\n",
        "\n",
        "def scalar_multiply(scalar, matrix):\n",
        "  return [[element * scalar for element in row] for row in matrix]\n",
        "\n",
        "def matrix_multiply(A, B):\n",
        "  m = len(A)\n",
        "  p = len(B[0])\n",
        "  result = [[0] * p for _ in range(m)]\n",
        "\n",
        "  for i in range(m):\n",
        "      for j in range(p):\n",
        "          for k in range(len(B)):\n",
        "              result[i][j] += A[i][k] * B[k][j]\n",
        "\n",
        "  return result"
      ],
      "metadata": {
        "id": "YsJjDq3n8fN8"
      },
      "execution_count": null,
      "outputs": []
    },
    {
      "cell_type": "code",
      "source": [
        "# вычисление матрицы ковариаций\n",
        "def covariance_martix(X_centered):\n",
        "  n = len(X_centered)\n",
        "  X_T = transpose_matrix(X_centered)\n",
        "  scalar = 1 / (n - 1)\n",
        "\n",
        "  cov_matrix = scalar_multiply(scalar, matrix_multiply(X_T, X_centered))\n",
        "  return cov_matrix"
      ],
      "metadata": {
        "id": "vFyQZqahBNOT"
      },
      "execution_count": null,
      "outputs": []
    },
    {
      "cell_type": "code",
      "source": [
        "C = generate_matrix(5, 5, -100, 100)\n",
        "C_cov = covariance_martix(center_data(C))\n",
        "print(C)\n",
        "print(C_cov)"
      ],
      "metadata": {
        "colab": {
          "base_uri": "https://localhost:8080/"
        },
        "id": "Jg5nWhHuFmck",
        "outputId": "5b0f3454-f538-4b59-8cc9-0000e3cce8b8"
      },
      "execution_count": null,
      "outputs": [
        {
          "output_type": "stream",
          "name": "stdout",
          "text": [
            "[[23, -16, 55, 55, -63], [-46, -8, -28, 10, 23], [-85, -77, -67, -36, -3], [95, 70, 56, 92, 18], [81, -31, -74, -84, 19]]\n",
            "[[6132.800000000001, 2881.8, 2090.7000000000003, 1324.4499999999998, 269.6500000000001], [2881.8, 2835.3, 2499.45, 2828.7000000000003, 412.90000000000003], [2090.7000000000003, 2499.45, 4059.2999999999997, 4238.549999999999, -1093.8999999999996], [1324.4499999999998, 2828.7000000000003, 4238.549999999999, 4916.799999999999, -755.65], [269.6500000000001, 412.90000000000003, -1093.8999999999996, -755.65, 1296.2]]\n"
          ]
        }
      ]
    },
    {
      "cell_type": "markdown",
      "source": [
        "# Normal 1: Собственные значения"
      ],
      "metadata": {
        "id": "V-489inXxr0i"
      }
    },
    {
      "cell_type": "code",
      "source": [
        "# поиск корня бисекцией\n",
        "def root_search(f, a, b, tol=1e-6):\n",
        "    fa, fb = f(a), f(b)\n",
        "    if fa * fb > 0:\n",
        "        return None\n",
        "\n",
        "    while (b-a) > tol:\n",
        "        c = (a + b) / 2\n",
        "        fc = f(c)\n",
        "        if abs(fc) < tol:\n",
        "            return c\n",
        "        if fa * fc < 0:\n",
        "            b, fb = c, fc\n",
        "        else:\n",
        "            a, fa = c, fc\n",
        "    return (a + b) / 2\n",
        "\n",
        "# поиск экстремума бисекцией\n",
        "def extremum_search(f, a0, b0, epsilon, delta=1e-10):\n",
        "    a = a0\n",
        "    b = b0\n",
        "    ans = (a + b) / 2\n",
        "\n",
        "    while abs(b - a) > epsilon:\n",
        "        yk = (a + b - delta) / 2\n",
        "        zk = (a + b + delta) / 2\n",
        "\n",
        "        if f(yk) <= f(zk):\n",
        "            b = zk\n",
        "        else:\n",
        "            a = yk\n",
        "\n",
        "        ans = (a + b) / 2\n",
        "    return ans"
      ],
      "metadata": {
        "id": "CSMwKebox27D"
      },
      "execution_count": null,
      "outputs": []
    },
    {
      "cell_type": "code",
      "source": [
        "# функция определителя\n",
        "def determinant(mat):\n",
        "    n = len(mat)\n",
        "    if n == 1:\n",
        "        return mat[0][0]\n",
        "    if n == 2:\n",
        "        return mat[0][0]*mat[1][1] - mat[0][1]*mat[1][0]\n",
        "\n",
        "    det = 0\n",
        "    for col in range(n):\n",
        "        minor = [row[:col] + row[col+1:] for row in mat[1:]]\n",
        "        det += (-1)**col * mat[0][col] * determinant(minor)\n",
        "\n",
        "    return det"
      ],
      "metadata": {
        "id": "rvDcb5lQzw8H"
      },
      "execution_count": null,
      "outputs": []
    },
    {
      "cell_type": "code",
      "source": [
        "# основная функция. поиск собственных значений\n",
        "def bisection_eigenvalues(C, tol=1e-5):\n",
        "    n = len(C)\n",
        "\n",
        "    # обычный характеристический полином\n",
        "    def characteristic_poly(lam):\n",
        "        mat = [[C[i][j] - (lam if i == j else 0) for j in range(n)] for i in range(n)]\n",
        "        #return determinant(mat)\n",
        "        # чтоб оперативней считалось, потом закомментить\n",
        "        return np.linalg.det(mat)\n",
        "\n",
        "    # модуль полинома для корней чётной кратности\n",
        "    def poly_abs(lam):\n",
        "        mat = [[C[i][j] - (lam if i == j else 0) for j in range(n)] for i in range(n)]\n",
        "        #return abs(determinant(mat))\n",
        "        # чтоб оперативней считалось, потом закомментить\n",
        "        return abs(np.linalg.det(mat))\n",
        "\n",
        "    # Вычисляем интервал поиска (см теорему Гершгорина)\n",
        "    Gershgorin_intervals = []\n",
        "    for i in range(n):\n",
        "        radius = sum(abs(C[i][j]) for j in range(n) if j != i)\n",
        "        center = C[i][i]\n",
        "        Gershgorin_intervals.append((center - radius, center + radius))\n",
        "\n",
        "    lower = min(interval[0] for interval in Gershgorin_intervals)\n",
        "    upper = max(interval[1] for interval in Gershgorin_intervals)\n",
        "\n",
        "    # Расширяем интервал, ну чтобы понадёжнее\n",
        "    lower -= 3\n",
        "    upper += 3\n",
        "    count = math.ceil(0.5*upper - 0.5*lower)\n",
        "\n",
        "    # непосредственно поиск корней\n",
        "    def find_roots(f, fabs, a, b, tol, count):\n",
        "        roots = []\n",
        "        # дробим [a,b] на мелкие подотрезки\n",
        "        step = (b - a) / count\n",
        "\n",
        "        x_prev = a\n",
        "        f_prev = f(x_prev)\n",
        "\n",
        "        # пробегаем по каждому маленькому отрезку\n",
        "        for i in range(1, count+1):\n",
        "            x = a + i * step\n",
        "            fx = f(x)\n",
        "\n",
        "            # если попали в корень\n",
        "            if abs(fx) < tol:\n",
        "                roots.append(x)\n",
        "            # если функция меняет знак, ищем корень\n",
        "            # если не меняет, смотрим экстремум для функции-модуля.\n",
        "            if f_prev * fx < 0:\n",
        "                roots.append(root_search(f, x_prev, x, tol))\n",
        "            else:\n",
        "                exst = extremum_search(fabs, x_prev, x, tol)\n",
        "                # если при поиске экстремума «скатились» близко к нулю, то всё ок\n",
        "                if abs(f(exst)) < 0.0001:\n",
        "                  roots.append(exst)\n",
        "\n",
        "            x_prev = x\n",
        "            f_prev = fx\n",
        "\n",
        "        # убираем дубликаты (близкие корни)\n",
        "        unique_roots = [roots[0]]\n",
        "        for i in range(1,len(sorted(roots))):\n",
        "            if not unique_roots or (roots[i] - roots[i-1] > 2*step):\n",
        "                unique_roots.append(roots[i])\n",
        "\n",
        "        return unique_roots\n",
        "\n",
        "    eigenvalues = find_roots(characteristic_poly, poly_abs, lower, upper, tol, count)\n",
        "    return sorted(eigenvalues)[::-1]"
      ],
      "metadata": {
        "id": "o25IQe_nyXIf"
      },
      "execution_count": null,
      "outputs": []
    },
    {
      "cell_type": "code",
      "source": [
        "# Пример использования\n",
        "C = generate_matrix(10, 10, -100, 100)\n",
        "C_cov = covariance_martix(center_data(C))\n",
        "tol = 1e-6\n",
        "print(\"Найденные собственные значения (вещественные):\", bisection_eigenvalues(C_cov, tol))\n",
        "print(\"Правильные собственные значения (+ комплексные):\", np.linalg.eigvals(C_cov))"
      ],
      "metadata": {
        "colab": {
          "base_uri": "https://localhost:8080/"
        },
        "id": "w4C0EsecF_Xo",
        "outputId": "470fbc62-408c-4b83-fe2c-fe8013b5a95e"
      },
      "execution_count": null,
      "outputs": [
        {
          "output_type": "stream",
          "name": "stdout",
          "text": [
            "Найденные собственные значения (вещественные): [9227.366191429148, 7367.136653184566, 6553.423427497663, 4289.309408212141, 2787.027904053094, 1462.9687426778535, 402.0354219261742, 137.44614762076412, 48.286103585758596, -8.967490345646381e-08]\n",
            "Правильные собственные значения (+ комплексные): [ 9.22736619e+03  7.36713665e+03  6.55342343e+03  4.28930941e+03\n",
            "  2.78702790e+03  1.46296874e+03  4.02035422e+02  1.37446148e+02\n",
            " -2.40999980e-13  4.82861039e+01]\n"
          ]
        }
      ]
    },
    {
      "cell_type": "markdown",
      "source": [
        "# Normal 2: Собственные векторы"
      ],
      "metadata": {
        "id": "eMXBY5DuIjmx"
      }
    },
    {
      "cell_type": "code",
      "source": [
        "def normalize_vector(vector):\n",
        "    norm = math.sqrt(sum(x[0] ** 2 for x in vector))\n",
        "    return [[x[0] / norm] for x in vector]\n",
        "\n",
        "def find_eigenvectors(C, eigenvalues, tol=1e-2):\n",
        "  n = len(C)\n",
        "  vectors_list = []\n",
        "\n",
        "  for lam in eigenvalues:\n",
        "    C_lam = [[C[i][j] - (lam if i == j else 0) for j in range(n)] for i in range(n)]\n",
        "    vectors_lam = gauss_method(C_lam, [[0]]*n, tol)\n",
        "    vectors_list += vectors_lam\n",
        "\n",
        "  normalize_list = []\n",
        "  for vector in vectors_list:\n",
        "    normalize_list.append(normalize_vector(vector))\n",
        "\n",
        "  return normalize_list"
      ],
      "metadata": {
        "id": "b3ehQmOaJRN4"
      },
      "execution_count": null,
      "outputs": []
    },
    {
      "cell_type": "code",
      "source": [
        "C = [[-3, 18, 92, 50, 80], [67, -86, -25, -15, 94], [-65, 6, -66, 18, 67], [22, -1, -39, -41, 87], [-85, -3, 26, 2, 22]]\n",
        "covar = covariance_martix(center_data(C))\n",
        "\n",
        "print('результат обычный')\n",
        "vals = bisection_eigenvalues(covar)\n",
        "vects = find_eigenvectors(covar, vals, 1e-2)\n",
        "print(vals)\n",
        "for v in vects:\n",
        "  print(v)\n",
        "\n",
        "print('\\nрезультат нампая:')\n",
        "npvals, npvects = np.linalg.eig(covar)\n",
        "print(npvals)\n",
        "print(npvects)"
      ],
      "metadata": {
        "colab": {
          "base_uri": "https://localhost:8080/"
        },
        "id": "1gsoFZ0oIn80",
        "outputId": "4e4373bd-2e63-4600-a905-6a812577ff5e"
      },
      "execution_count": null,
      "outputs": [
        {
          "output_type": "stream",
          "name": "stdout",
          "text": [
            "результат обычный\n",
            "[6093.239925590242, 3978.734686585489, 887.5278085873667, 563.8975791470539, -6.388686481294086e-07]\n",
            "[[0.6756005803453531], [-0.4175990407830971], [-0.45189063593575546], [-0.2994169598343279], [0.27444349926935085]]\n",
            "[[0.5194698484242519], [-0.07784347808905089], [0.8061063255347838], [0.21620209823200293], [0.16595395189621923]]\n",
            "[[0.2206068322334603], [0.8018904775951237], [-0.20521201864870794], [0.1433662277826908], [0.49561924866541096]]\n",
            "[[-0.09578979790129942], [-0.3428685134443979], [-0.2535171307369759], [0.8663255423416735], [0.24181525223970768]]\n",
            "[[-0.4646201386322448], [-0.24282561247418047], [0.1990088853618068], [-0.3041912480599674], [0.770082461074568]]\n",
            "\n",
            "результат нампая:\n",
            "[6.09323993e+03 3.97873468e+03 1.16635341e-13 8.87527809e+02\n",
            " 5.63897580e+02]\n",
            "[[-0.67560058  0.51946985  0.46462014  0.22060683 -0.0957898 ]\n",
            " [ 0.41759904 -0.07784348  0.24282561  0.80189048 -0.34286851]\n",
            " [ 0.45189064  0.80610633 -0.19900889 -0.20521202 -0.25351713]\n",
            " [ 0.29941696  0.2162021   0.30419125  0.14336623  0.86632554]\n",
            " [-0.2744435   0.16595395 -0.77008246  0.49561925  0.24181525]]\n"
          ]
        }
      ]
    },
    {
      "cell_type": "markdown",
      "source": [
        "# Normal 3: Доля дисперсии"
      ],
      "metadata": {
        "id": "d4N0V4Ya4Hem"
      }
    },
    {
      "cell_type": "code",
      "source": [
        "def explained_variance_ratio(eigenvalues, k):\n",
        "  return sum(eigenvalues[:k]) / sum(eigenvalues)"
      ],
      "metadata": {
        "id": "1xXOg0Jp4eAB"
      },
      "execution_count": null,
      "outputs": []
    },
    {
      "cell_type": "code",
      "source": [
        "C = [[-3, 18, 9, 50, 80], [7, -86, -25, -15, 94], [-65, 6, -66, 18, 67], [22, -1, -39, -41, 87], [-85, -3, 26, 2, 22]]\n",
        "covar = covariance_martix(center_data(C))\n",
        "\n",
        "vals = bisection_eigenvalues(covar)\n",
        "print(vals)\n",
        "print(explained_variance_ratio(vals, 1), explained_variance_ratio(vals, 3), explained_variance_ratio(vals, 5))"
      ],
      "metadata": {
        "colab": {
          "base_uri": "https://localhost:8080/"
        },
        "id": "-djHSQyQ4y75",
        "outputId": "ea05dedd-ba8d-4ed8-f89b-7e8eda9411f6"
      },
      "execution_count": null,
      "outputs": [
        {
          "output_type": "stream",
          "name": "stdout",
          "text": [
            "[3726.2397348370037, 1519.927697036278, 1311.9728830331337, 751.4596884947401, 3.716558865184995e-06]\n",
            "0.5097734118431353 0.8971955111798776 1.0\n"
          ]
        }
      ]
    },
    {
      "cell_type": "markdown",
      "source": [
        "# Hard 1: алгоритм PCA"
      ],
      "metadata": {
        "id": "5AWicXb96Y7W"
      }
    },
    {
      "cell_type": "code",
      "source": [
        "def project_data(X, eigenvectors, k):\n",
        "  vector_matrix = []\n",
        "\n",
        "  for i in range(len(X)):\n",
        "    row = []\n",
        "    for v in eigenvectors[:k]:\n",
        "        row.append(v[i][0])\n",
        "    vector_matrix.append(row)\n",
        "\n",
        "  project_X = matrix_multiply(X, vector_matrix)\n",
        "  return (project_X, vector_matrix)\n",
        "\n",
        "def pca(X, k):\n",
        "  # центрирование данных и матрица ковариаций\n",
        "  means_X = get_means(X)\n",
        "  centered_X = center_data(X, means_X)\n",
        "  covariance_X = covariance_martix(centered_X)\n",
        "\n",
        "  # поиск собственных значений и векторов\n",
        "  eigenvalues = bisection_eigenvalues(covariance_X)\n",
        "  eigenvectors = find_eigenvectors(covariance_X, eigenvalues)\n",
        "\n",
        "  # проекция данных на главные компоненты\n",
        "  projected_X = project_data(centered_X, eigenvectors, k)[0]\n",
        "  dispersion_result = explained_variance_ratio(eigenvalues, k)\n",
        "\n",
        "  return (projected_X, dispersion_result)"
      ],
      "metadata": {
        "id": "08XQPt3F6hoI"
      },
      "execution_count": null,
      "outputs": []
    },
    {
      "cell_type": "code",
      "source": [
        "C = [[-3, 18, 92, 50, 80], [67, -86, -25, -15, 94], [-65, 60, -66, 18, 67], [22, -1, -39, -41, 87], [-85, -3, 26, 2, 22]]\n",
        "res = pca(C,3)[0]\n",
        "\n",
        "for row in res:\n",
        "  print(row)"
      ],
      "metadata": {
        "colab": {
          "base_uri": "https://localhost:8080/"
        },
        "id": "h2lunDKk8yRU",
        "outputId": "f3c0fa45-bc1a-458a-df9c-d1b595520fc5"
      },
      "execution_count": null,
      "outputs": [
        {
          "output_type": "stream",
          "name": "stdout",
          "text": [
            "[-32.95151971152623, 97.76296747184719, 33.28401724781072]\n",
            "[119.04337271336402, 7.896886711963553, -14.995757099685436]\n",
            "[-63.36476846698973, -77.02366914462185, 26.844414355315926]\n",
            "[47.56194048124183, -39.13442833317077, 11.969039564062477]\n",
            "[-70.28902501608991, 10.498243293981877, -57.10171406750369]\n"
          ]
        }
      ]
    },
    {
      "cell_type": "code",
      "source": [
        "from sklearn.decomposition import PCA\n",
        "pca2 = PCA(n_components=3)\n",
        "data_pca = pca2.fit_transform(C)\n",
        "print(data_pca)"
      ],
      "metadata": {
        "colab": {
          "base_uri": "https://localhost:8080/"
        },
        "id": "tfOSjNi6FUmr",
        "outputId": "1a39f0b8-780e-4119-cdde-1bd26f68a1b0"
      },
      "execution_count": null,
      "outputs": [
        {
          "output_type": "stream",
          "name": "stdout",
          "text": [
            "[[-32.95151973  97.76296747  33.28401724]\n",
            " [119.0433727    7.89688672 -14.99575711]\n",
            " [-63.36476843 -77.02366915  26.8444144 ]\n",
            " [ 47.56194051 -39.13442833  11.96903953]\n",
            " [-70.28902505  10.49824329 -57.10171405]]\n"
          ]
        }
      ]
    }
  ]
}